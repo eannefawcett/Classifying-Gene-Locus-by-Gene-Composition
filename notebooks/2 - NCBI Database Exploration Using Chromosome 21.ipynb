{
 "cells": [
  {
   "cell_type": "markdown",
   "metadata": {},
   "source": [
    "# Obtain Labels"
   ]
  },
  {
   "cell_type": "markdown",
   "metadata": {},
   "source": [
    "These labels have the information that I know I want to work with and will allow me to match the label to the record in the database that I need to pull."
   ]
  },
  {
   "cell_type": "code",
   "execution_count": 2,
   "metadata": {
    "scrolled": true
   },
   "outputs": [
    {
     "data": {
      "text/html": [
       "<div>\n",
       "<style scoped>\n",
       "    .dataframe tbody tr th:only-of-type {\n",
       "        vertical-align: middle;\n",
       "    }\n",
       "\n",
       "    .dataframe tbody tr th {\n",
       "        vertical-align: top;\n",
       "    }\n",
       "\n",
       "    .dataframe thead th {\n",
       "        text-align: right;\n",
       "    }\n",
       "</style>\n",
       "<table border=\"1\" class=\"dataframe\">\n",
       "  <thead>\n",
       "    <tr style=\"text-align: right;\">\n",
       "      <th></th>\n",
       "      <th>Assembly name:  GRCh38.p13</th>\n",
       "    </tr>\n",
       "  </thead>\n",
       "  <tbody>\n",
       "    <tr>\n",
       "      <td>1</td>\n",
       "      <td>Description:    Genome Reference Consortium Hu...</td>\n",
       "    </tr>\n",
       "    <tr>\n",
       "      <td>3</td>\n",
       "      <td>Organism name:  Homo sapiens (human)</td>\n",
       "    </tr>\n",
       "    <tr>\n",
       "      <td>5</td>\n",
       "      <td>Taxid:          9606</td>\n",
       "    </tr>\n",
       "    <tr>\n",
       "      <td>7</td>\n",
       "      <td>BioProject:     PRJNA31257</td>\n",
       "    </tr>\n",
       "    <tr>\n",
       "      <td>9</td>\n",
       "      <td>Submitter:      Genome Reference Consortium</td>\n",
       "    </tr>\n",
       "    <tr>\n",
       "      <td>11</td>\n",
       "      <td>Date:           2019-02-28</td>\n",
       "    </tr>\n",
       "    <tr>\n",
       "      <td>13</td>\n",
       "      <td>Assembly type:  haploid-with-alt-loci</td>\n",
       "    </tr>\n",
       "    <tr>\n",
       "      <td>15</td>\n",
       "      <td>Release type:   patch</td>\n",
       "    </tr>\n",
       "    <tr>\n",
       "      <td>17</td>\n",
       "      <td>Assembly level: Chromosome</td>\n",
       "    </tr>\n",
       "    <tr>\n",
       "      <td>19</td>\n",
       "      <td>Genome representation: full</td>\n",
       "    </tr>\n",
       "    <tr>\n",
       "      <td>21</td>\n",
       "      <td>RefSeq category: Reference Genome</td>\n",
       "    </tr>\n",
       "    <tr>\n",
       "      <td>23</td>\n",
       "      <td>GenBank assembly accession: GCA_000001405.28</td>\n",
       "    </tr>\n",
       "    <tr>\n",
       "      <td>25</td>\n",
       "      <td>RefSeq assembly accession: GCF_000001405.39</td>\n",
       "    </tr>\n",
       "    <tr>\n",
       "      <td>27</td>\n",
       "      <td>RefSeq assembly and GenBank assemblies identic...</td>\n",
       "    </tr>\n",
       "    <tr>\n",
       "      <td>31</td>\n",
       "      <td>Assembly-Units:</td>\n",
       "    </tr>\n",
       "  </tbody>\n",
       "</table>\n",
       "</div>"
      ],
      "text/plain": [
       "                           Assembly name:  GRCh38.p13\n",
       "1   Description:    Genome Reference Consortium Hu...\n",
       "3                Organism name:  Homo sapiens (human)\n",
       "5                                Taxid:          9606\n",
       "7                          BioProject:     PRJNA31257\n",
       "9         Submitter:      Genome Reference Consortium\n",
       "11                         Date:           2019-02-28\n",
       "13              Assembly type:  haploid-with-alt-loci\n",
       "15                              Release type:   patch\n",
       "17                         Assembly level: Chromosome\n",
       "19                        Genome representation: full\n",
       "21                  RefSeq category: Reference Genome\n",
       "23       GenBank assembly accession: GCA_000001405.28\n",
       "25        RefSeq assembly accession: GCF_000001405.39\n",
       "27  RefSeq assembly and GenBank assemblies identic...\n",
       "31                                    Assembly-Units:"
      ]
     },
     "execution_count": 2,
     "metadata": {},
     "output_type": "execute_result"
    }
   ],
   "source": [
    "import pandas as pd\n",
    "to_skip_info = []\n",
    "for i in range(34,1406):\n",
    "    to_skip_info.append(i)\n",
    "information_about_dna_data = pd.read_csv('../data/interim/GCF_000001405.39_GRCh38.p13_assembly_report_fixed.csv', skiprows=(to_skip_info), header=0)\n",
    "pd.DataFrame(information_about_dna_data['Assembly name:  GRCh38.p13'].dropna(axis=0))"
   ]
  },
  {
   "cell_type": "code",
   "execution_count": 3,
   "metadata": {},
   "outputs": [
    {
     "data": {
      "text/html": [
       "<div>\n",
       "<style scoped>\n",
       "    .dataframe tbody tr th:only-of-type {\n",
       "        vertical-align: middle;\n",
       "    }\n",
       "\n",
       "    .dataframe tbody tr th {\n",
       "        vertical-align: top;\n",
       "    }\n",
       "\n",
       "    .dataframe thead th {\n",
       "        text-align: right;\n",
       "    }\n",
       "</style>\n",
       "<table border=\"1\" class=\"dataframe\">\n",
       "  <thead>\n",
       "    <tr style=\"text-align: right;\">\n",
       "      <th></th>\n",
       "      <th># Sequence-Name</th>\n",
       "      <th>Sequence-Role</th>\n",
       "      <th>Assigned-Molecule</th>\n",
       "      <th>Assigned-Molecule-Location/Type</th>\n",
       "      <th>GenBank-Accn</th>\n",
       "      <th>Relationship</th>\n",
       "      <th>RefSeq-Accn</th>\n",
       "      <th>Assembly-Unit</th>\n",
       "      <th>Sequence-Length</th>\n",
       "      <th>UCSC-style-name</th>\n",
       "    </tr>\n",
       "  </thead>\n",
       "  <tbody>\n",
       "    <tr>\n",
       "      <td>311</td>\n",
       "      <td>HSCHRUN_RANDOM_204</td>\n",
       "      <td>unplaced-scaffold</td>\n",
       "      <td>na</td>\n",
       "      <td>na</td>\n",
       "      <td>KI270521.1</td>\n",
       "      <td>=</td>\n",
       "      <td>NT_187496.1</td>\n",
       "      <td>Primary Assembly</td>\n",
       "      <td>7642.0</td>\n",
       "      <td>chrUn_KI270521v1</td>\n",
       "    </tr>\n",
       "    <tr>\n",
       "      <td>893</td>\n",
       "      <td>HSCHR7_3_CTG6</td>\n",
       "      <td>alt-scaffold</td>\n",
       "      <td>7</td>\n",
       "      <td>Chromosome</td>\n",
       "      <td>KI270808.1</td>\n",
       "      <td>=</td>\n",
       "      <td>NT_187564.1</td>\n",
       "      <td>ALT_REF_LOCI_1</td>\n",
       "      <td>271455.0</td>\n",
       "      <td>chr7_KI270808v1_alt</td>\n",
       "    </tr>\n",
       "    <tr>\n",
       "      <td>1207</td>\n",
       "      <td>HSCHR3_7_CTG3</td>\n",
       "      <td>alt-scaffold</td>\n",
       "      <td>3</td>\n",
       "      <td>Chromosome</td>\n",
       "      <td>KI270936.1</td>\n",
       "      <td>=</td>\n",
       "      <td>NT_187690.1</td>\n",
       "      <td>ALT_REF_LOCI_6</td>\n",
       "      <td>164170.0</td>\n",
       "      <td>chr3_KI270936v1_alt</td>\n",
       "    </tr>\n",
       "  </tbody>\n",
       "</table>\n",
       "</div>"
      ],
      "text/plain": [
       "         # Sequence-Name      Sequence-Role Assigned-Molecule  \\\n",
       "311   HSCHRUN_RANDOM_204  unplaced-scaffold                na   \n",
       "893        HSCHR7_3_CTG6       alt-scaffold                 7   \n",
       "1207       HSCHR3_7_CTG3       alt-scaffold                 3   \n",
       "\n",
       "     Assigned-Molecule-Location/Type GenBank-Accn Relationship  RefSeq-Accn  \\\n",
       "311                               na   KI270521.1            =  NT_187496.1   \n",
       "893                       Chromosome   KI270808.1            =  NT_187564.1   \n",
       "1207                      Chromosome   KI270936.1            =  NT_187690.1   \n",
       "\n",
       "         Assembly-Unit  Sequence-Length      UCSC-style-name  \n",
       "311   Primary Assembly           7642.0     chrUn_KI270521v1  \n",
       "893     ALT_REF_LOCI_1         271455.0  chr7_KI270808v1_alt  \n",
       "1207    ALT_REF_LOCI_6         164170.0  chr3_KI270936v1_alt  "
      ]
     },
     "execution_count": 3,
     "metadata": {},
     "output_type": "execute_result"
    }
   ],
   "source": [
    "dna_data = pd.read_csv('../data/interim/GCF_000001405.39_GRCh38.p13_assembly_report_fixed.csv', header=124)\n",
    "dna_data = dna_data.dropna(axis=0)\n",
    "dna_data.sample(3)"
   ]
  },
  {
   "cell_type": "code",
   "execution_count": 7,
   "metadata": {},
   "outputs": [
    {
     "data": {
      "text/html": [
       "<div>\n",
       "<style scoped>\n",
       "    .dataframe tbody tr th:only-of-type {\n",
       "        vertical-align: middle;\n",
       "    }\n",
       "\n",
       "    .dataframe tbody tr th {\n",
       "        vertical-align: top;\n",
       "    }\n",
       "\n",
       "    .dataframe thead th {\n",
       "        text-align: right;\n",
       "    }\n",
       "</style>\n",
       "<table border=\"1\" class=\"dataframe\">\n",
       "  <thead>\n",
       "    <tr style=\"text-align: right;\">\n",
       "      <th></th>\n",
       "      <th>#Replicon Name</th>\n",
       "      <th>Replicon Accession</th>\n",
       "      <th>Start</th>\n",
       "      <th>Stop</th>\n",
       "      <th>Strand</th>\n",
       "      <th>GeneID</th>\n",
       "      <th>Locus</th>\n",
       "      <th>Protein product</th>\n",
       "      <th>Length</th>\n",
       "      <th>Protein name</th>\n",
       "    </tr>\n",
       "  </thead>\n",
       "  <tbody>\n",
       "    <tr>\n",
       "      <td>9975</td>\n",
       "      <td>1</td>\n",
       "      <td>NC_000001.11</td>\n",
       "      <td>45584147</td>\n",
       "      <td>45618141</td>\n",
       "      <td>+</td>\n",
       "      <td>4678</td>\n",
       "      <td>NASP</td>\n",
       "      <td>XP_016856845.1</td>\n",
       "      <td>406</td>\n",
       "      <td>nuclear autoantigenic sperm protein isoform X4</td>\n",
       "    </tr>\n",
       "    <tr>\n",
       "      <td>51758</td>\n",
       "      <td>7</td>\n",
       "      <td>NC_000007.14</td>\n",
       "      <td>105613712</td>\n",
       "      <td>105676983</td>\n",
       "      <td>-</td>\n",
       "      <td>222255</td>\n",
       "      <td>ATXN7L1</td>\n",
       "      <td>XP_011514240.1</td>\n",
       "      <td>872</td>\n",
       "      <td>ataxin-7-like protein 1 isoform X8</td>\n",
       "    </tr>\n",
       "    <tr>\n",
       "      <td>108052</td>\n",
       "      <td>19</td>\n",
       "      <td>NC_000019.10</td>\n",
       "      <td>54095221</td>\n",
       "      <td>54100792</td>\n",
       "      <td>-</td>\n",
       "      <td>126014</td>\n",
       "      <td>OSCAR</td>\n",
       "      <td>NP_570127.3</td>\n",
       "      <td>267</td>\n",
       "      <td>osteoclast-associated immunoglobulin-like rece...</td>\n",
       "    </tr>\n",
       "  </tbody>\n",
       "</table>\n",
       "</div>"
      ],
      "text/plain": [
       "       #Replicon Name Replicon Accession      Start       Stop Strand  GeneID  \\\n",
       "9975                1       NC_000001.11   45584147   45618141      +    4678   \n",
       "51758               7       NC_000007.14  105613712  105676983      -  222255   \n",
       "108052             19       NC_000019.10   54095221   54100792      -  126014   \n",
       "\n",
       "          Locus Protein product  Length  \\\n",
       "9975       NASP  XP_016856845.1     406   \n",
       "51758   ATXN7L1  XP_011514240.1     872   \n",
       "108052    OSCAR     NP_570127.3     267   \n",
       "\n",
       "                                             Protein name  \n",
       "9975       nuclear autoantigenic sperm protein isoform X4  \n",
       "51758                  ataxin-7-like protein 1 isoform X8  \n",
       "108052  osteoclast-associated immunoglobulin-like rece...  "
      ]
     },
     "execution_count": 7,
     "metadata": {},
     "output_type": "execute_result"
    }
   ],
   "source": [
    "protein_data = pd.read_csv('../data/interim/ProteinTable51_582967.csv')\n",
    "protein_data.sample(3)"
   ]
  },
  {
   "cell_type": "markdown",
   "metadata": {},
   "source": [
    "# Explore Database"
   ]
  },
  {
   "cell_type": "markdown",
   "metadata": {},
   "source": [
    "Since, I've never worked with this database, I need to pull a record to determine if the information I need is present, namely the protein sequence."
   ]
  },
  {
   "cell_type": "code",
   "execution_count": 25,
   "metadata": {},
   "outputs": [],
   "source": [
    "# prepare to contact database\n",
    "import json\n",
    "def get_keys(path):\n",
    "    with open(path) as f:\n",
    "        return json.load(f)\n",
    "keys = get_keys(\"/Users/eannefawcett/.secret/ncbi_api.json\")\n",
    "api_key = keys['api_key']"
   ]
  },
  {
   "cell_type": "markdown",
   "metadata": {
    "heading_collapsed": true
   },
   "source": [
    "## NCBI Database Information"
   ]
  },
  {
   "cell_type": "markdown",
   "metadata": {
    "hidden": true
   },
   "source": [
    "This call to the database will tell me what type of information is housed in what containers, and allow me to select a specific database to call."
   ]
  },
  {
   "cell_type": "code",
   "execution_count": 26,
   "metadata": {
    "hidden": true
   },
   "outputs": [],
   "source": [
    "# pull down general database information\n",
    "from Bio import Entrez\n",
    "Entrez.api_key = api_key\n",
    "Entrez.email = 'elizabethfawcett47@gmail.com'\n",
    "Entrez.tool = 'locus_by_amino_acid'\n",
    "handle = Entrez.einfo()\n",
    "result = handle.read()\n",
    "handle.close()"
   ]
  },
  {
   "cell_type": "code",
   "execution_count": 27,
   "metadata": {
    "hidden": true
   },
   "outputs": [
    {
     "name": "stdout",
     "output_type": "stream",
     "text": [
      "<?xml version=\"1.0\" encoding=\"UTF-8\" ?>\n",
      "<!DOCTYPE eInfoResult PUBLIC \"-//NLM//DTD einfo 20190110//EN\" \"https://eutils.ncbi.nlm.nih.gov/eutils/dtd/20190110/einfo.dtd\">\n",
      "<eInfoResult>\n",
      "<DbList>\n",
      "\n",
      "\t<DbName>pubmed</DbName>\n",
      "\t<DbName>protein</DbName>\n",
      "\t<DbName>nuccore</DbName>\n",
      "\t<DbName>ipg</DbName>\n",
      "\t<DbName>nucleotide</DbName>\n",
      "\t<DbName>structure</DbName>\n",
      "\t<DbName>sparcle</DbName>\n",
      "\t<DbName>genome</DbName>\n",
      "\t<DbName>annotinfo</DbName>\n",
      "\t<DbName>assembly</DbName>\n",
      "\t<DbName>bioproject</DbName>\n",
      "\t<DbName>biosample</DbName>\n",
      "\t<DbName>blastdbinfo</DbName>\n",
      "\t<DbName>books</DbName>\n",
      "\t<DbName>cdd</DbName>\n",
      "\t<DbName>clinvar</DbName>\n",
      "\t<DbName>gap</DbName>\n",
      "\t<DbName>gapplus</DbName>\n",
      "\t<DbName>grasp</DbName>\n",
      "\t<DbName>dbvar</DbName>\n",
      "\t<DbName>gene</DbName>\n",
      "\t<DbName>gds</DbName>\n",
      "\t<DbName>geoprofiles</DbName>\n",
      "\t<DbName>homologene</DbName>\n",
      "\t<DbName>medgen</DbName>\n",
      "\t<DbName>mesh</DbName>\n",
      "\t<DbName>ncbisearch</DbName>\n",
      "\t<DbName>nlmcatalog</DbName>\n",
      "\t<DbName>omim</DbName>\n",
      "\t<DbName>orgtrack</DbName>\n",
      "\t<DbName>pmc</DbName>\n",
      "\t<DbName>popset</DbName>\n",
      "\t<DbName>probe</DbName>\n",
      "\t<DbName>proteinclusters</DbName>\n",
      "\t<DbName>pcassay</DbName>\n",
      "\t<DbName>biosystems</DbName>\n",
      "\t<DbName>pccompound</DbName>\n",
      "\t<DbName>pcsubstance</DbName>\n",
      "\t<DbName>seqannot</DbName>\n",
      "\t<DbName>snp</DbName>\n",
      "\t<DbName>sra</DbName>\n",
      "\t<DbName>taxonomy</DbName>\n",
      "\t<DbName>biocollections</DbName>\n",
      "\t<DbName>gtr</DbName>\n",
      "</DbList>\n",
      "\n",
      "</eInfoResult>\n",
      "\n"
     ]
    }
   ],
   "source": [
    "print(result)"
   ]
  },
  {
   "cell_type": "code",
   "execution_count": 28,
   "metadata": {
    "hidden": true
   },
   "outputs": [],
   "source": [
    "handle = Entrez.einfo()\n",
    "record = Entrez.read(handle)"
   ]
  },
  {
   "cell_type": "code",
   "execution_count": 29,
   "metadata": {
    "hidden": true
   },
   "outputs": [
    {
     "data": {
      "text/plain": [
       "dict_keys(['DbList'])"
      ]
     },
     "execution_count": 29,
     "metadata": {},
     "output_type": "execute_result"
    }
   ],
   "source": [
    "record.keys()"
   ]
  },
  {
   "cell_type": "code",
   "execution_count": 30,
   "metadata": {
    "hidden": true
   },
   "outputs": [
    {
     "data": {
      "text/plain": [
       "['pubmed', 'protein', 'nuccore', 'ipg', 'nucleotide', 'structure', 'sparcle', 'genome', 'annotinfo', 'assembly', 'bioproject', 'biosample', 'blastdbinfo', 'books', 'cdd', 'clinvar', 'gap', 'gapplus', 'grasp', 'dbvar', 'gene', 'gds', 'geoprofiles', 'homologene', 'medgen', 'mesh', 'ncbisearch', 'nlmcatalog', 'omim', 'orgtrack', 'pmc', 'popset', 'probe', 'proteinclusters', 'pcassay', 'biosystems', 'pccompound', 'pcsubstance', 'seqannot', 'snp', 'sra', 'taxonomy', 'biocollections', 'gtr']"
      ]
     },
     "execution_count": 30,
     "metadata": {},
     "output_type": "execute_result"
    }
   ],
   "source": [
    "record['DbList']"
   ]
  },
  {
   "cell_type": "markdown",
   "metadata": {
    "heading_collapsed": true
   },
   "source": [
    "## Protein Database Information"
   ]
  },
  {
   "cell_type": "code",
   "execution_count": 31,
   "metadata": {
    "hidden": true
   },
   "outputs": [
    {
     "data": {
      "text/plain": [
       "'Protein sequence record'"
      ]
     },
     "execution_count": 31,
     "metadata": {},
     "output_type": "execute_result"
    }
   ],
   "source": [
    "# selected database information\n",
    "Entrez.api_key = api_key\n",
    "Entrez.email = 'elizabethfawcett47@gmail.com'\n",
    "Entrez.tool = 'locus_by_amino_acid'\n",
    "handle = Entrez.einfo(db=\"protein\")\n",
    "record = Entrez.read(handle)\n",
    "record[\"DbInfo\"][\"Description\"]"
   ]
  },
  {
   "cell_type": "code",
   "execution_count": 32,
   "metadata": {
    "hidden": true
   },
   "outputs": [
    {
     "data": {
      "text/plain": [
       "'831488909'"
      ]
     },
     "execution_count": 32,
     "metadata": {},
     "output_type": "execute_result"
    }
   ],
   "source": [
    "record[\"DbInfo\"][\"Count\"]"
   ]
  },
  {
   "cell_type": "code",
   "execution_count": 33,
   "metadata": {
    "hidden": true
   },
   "outputs": [
    {
     "data": {
      "text/plain": [
       "'2020/03/16 21:46'"
      ]
     },
     "execution_count": 33,
     "metadata": {},
     "output_type": "execute_result"
    }
   ],
   "source": [
    "record[\"DbInfo\"][\"LastUpdate\"]"
   ]
  },
  {
   "cell_type": "code",
   "execution_count": 34,
   "metadata": {
    "hidden": true
   },
   "outputs": [
    {
     "data": {
      "text/plain": [
       "dict_keys(['DbName', 'MenuName', 'Description', 'DbBuild', 'Count', 'LastUpdate', 'FieldList', 'LinkList'])"
      ]
     },
     "execution_count": 34,
     "metadata": {},
     "output_type": "execute_result"
    }
   ],
   "source": [
    "record[\"DbInfo\"].keys()"
   ]
  },
  {
   "cell_type": "code",
   "execution_count": 35,
   "metadata": {
    "hidden": true
   },
   "outputs": [
    {
     "name": "stdout",
     "output_type": "stream",
     "text": [
      "ALL, All Fields, All terms from all searchable fields\n",
      "UID, UID, Unique number assigned to each sequence\n",
      "FILT, Filter, Limits the records\n",
      "WORD, Text Word, Free text associated with record\n",
      "TITL, Title, Words in definition line\n",
      "KYWD, Keyword, Nonstandardized terms provided by submitter\n",
      "AUTH, Author, Author(s) of publication\n",
      "JOUR, Journal, Journal abbreviation of publication\n",
      "VOL, Volume, Volume number of publication\n",
      "ISS, Issue, Issue number of publication\n",
      "PAGE, Page Number, Page number(s) of publication\n",
      "ORGN, Organism, Scientific and common names of organism, and all higher levels of taxonomy\n",
      "ACCN, Accession, Accession number of sequence\n",
      "PACC, Primary Accession, Does not include retired secondary accessions\n",
      "GENE, Gene Name, Name of gene associated with sequence\n",
      "PROT, Protein Name, Name of protein associated with sequence\n",
      "ECNO, EC/RN Number, EC number for enzyme or CAS registry number\n",
      "PDAT, Publication Date, Date sequence added to GenBank\n",
      "MDAT, Modification Date, Date of last update\n",
      "SUBS, Substance Name, CAS chemical name or MEDLINE Substance Name\n",
      "PROP, Properties, Classification by source qualifiers and molecule type\n",
      "SQID, SeqID String, String identifier for sequence\n",
      "GPRJ, BioProject, BioProject\n",
      "SLEN, Sequence Length, Length of sequence\n",
      "MLWT, Molecular Weight, Molecular Weight\n",
      "FKEY, Feature key, Feature annotated on sequence\n",
      "PORG, Primary Organism, Scientific and common names of primary organism, and all higher levels of taxonomy\n",
      "ASSM, Assembly, Assembly\n",
      "DIV, Division, Division\n",
      "STRN, Strain, Strain\n",
      "ISOL, Isolate, Isolate\n",
      "CULT, Cultivar, Cultivar\n",
      "BRD, Breed, Breed\n"
     ]
    }
   ],
   "source": [
    "for field in record[\"DbInfo\"][\"FieldList\"]:\n",
    "    print(\"%(Name)s, %(FullName)s, %(Description)s\" % field)"
   ]
  },
  {
   "cell_type": "code",
   "execution_count": 36,
   "metadata": {
    "hidden": true
   },
   "outputs": [],
   "source": [
    "# look at one protein record\n",
    "Entrez.api_key = api_key\n",
    "Entrez.email = 'elizabethfawcett47@gmail.com'\n",
    "Entrez.tool = 'locus_by_amino_acid'\n",
    "handle = Entrez.einfo(db=\"protein\", ACCN='NP_001164209.1')\n",
    "record = Entrez.read(handle)"
   ]
  },
  {
   "cell_type": "code",
   "execution_count": 37,
   "metadata": {
    "hidden": true
   },
   "outputs": [
    {
     "data": {
      "text/plain": [
       "{'DbInfo': {'DbName': 'protein', 'MenuName': 'Protein', 'Description': 'Protein sequence record', 'DbBuild': 'Build200315-0206m.1', 'Count': '831488909', 'LastUpdate': '2020/03/16 21:46', 'FieldList': [{'Name': 'ALL', 'FullName': 'All Fields', 'Description': 'All terms from all searchable fields', 'TermCount': '4427725646', 'IsDate': 'N', 'IsNumerical': 'N', 'SingleToken': 'N', 'Hierarchy': 'N', 'IsHidden': 'N'}, {'Name': 'UID', 'FullName': 'UID', 'Description': 'Unique number assigned to each sequence', 'TermCount': '0', 'IsDate': 'N', 'IsNumerical': 'Y', 'SingleToken': 'Y', 'Hierarchy': 'N', 'IsHidden': 'Y'}, {'Name': 'FILT', 'FullName': 'Filter', 'Description': 'Limits the records', 'TermCount': '260', 'IsDate': 'N', 'IsNumerical': 'N', 'SingleToken': 'Y', 'Hierarchy': 'N', 'IsHidden': 'N'}, {'Name': 'WORD', 'FullName': 'Text Word', 'Description': 'Free text associated with record', 'TermCount': '1159081284', 'IsDate': 'N', 'IsNumerical': 'N', 'SingleToken': 'N', 'Hierarchy': 'N', 'IsHidden': 'N'}, {'Name': 'TITL', 'FullName': 'Title', 'Description': 'Words in definition line', 'TermCount': '134102182', 'IsDate': 'N', 'IsNumerical': 'N', 'SingleToken': 'N', 'Hierarchy': 'N', 'IsHidden': 'N'}, {'Name': 'KYWD', 'FullName': 'Keyword', 'Description': 'Nonstandardized terms provided by submitter', 'TermCount': '32361', 'IsDate': 'N', 'IsNumerical': 'N', 'SingleToken': 'Y', 'Hierarchy': 'N', 'IsHidden': 'N'}, {'Name': 'AUTH', 'FullName': 'Author', 'Description': 'Author(s) of publication', 'TermCount': '2816926', 'IsDate': 'N', 'IsNumerical': 'N', 'SingleToken': 'Y', 'Hierarchy': 'N', 'IsHidden': 'N'}, {'Name': 'JOUR', 'FullName': 'Journal', 'Description': 'Journal abbreviation of publication', 'TermCount': '85573', 'IsDate': 'N', 'IsNumerical': 'N', 'SingleToken': 'Y', 'Hierarchy': 'N', 'IsHidden': 'N'}, {'Name': 'VOL', 'FullName': 'Volume', 'Description': 'Volume number of publication', 'TermCount': '4633', 'IsDate': 'N', 'IsNumerical': 'N', 'SingleToken': 'Y', 'Hierarchy': 'N', 'IsHidden': 'N'}, {'Name': 'ISS', 'FullName': 'Issue', 'Description': 'Issue number of publication', 'TermCount': '4639', 'IsDate': 'N', 'IsNumerical': 'N', 'SingleToken': 'Y', 'Hierarchy': 'N', 'IsHidden': 'N'}, {'Name': 'PAGE', 'FullName': 'Page Number', 'Description': 'Page number(s) of publication', 'TermCount': '204739', 'IsDate': 'N', 'IsNumerical': 'N', 'SingleToken': 'Y', 'Hierarchy': 'N', 'IsHidden': 'N'}, {'Name': 'ORGN', 'FullName': 'Organism', 'Description': 'Scientific and common names of organism, and all higher levels of taxonomy', 'TermCount': '3676060', 'IsDate': 'N', 'IsNumerical': 'N', 'SingleToken': 'Y', 'Hierarchy': 'Y', 'IsHidden': 'N'}, {'Name': 'ACCN', 'FullName': 'Accession', 'Description': 'Accession number of sequence', 'TermCount': '1664479509', 'IsDate': 'N', 'IsNumerical': 'N', 'SingleToken': 'Y', 'Hierarchy': 'N', 'IsHidden': 'N'}, {'Name': 'PACC', 'FullName': 'Primary Accession', 'Description': 'Does not include retired secondary accessions', 'TermCount': '1662924655', 'IsDate': 'N', 'IsNumerical': 'N', 'SingleToken': 'Y', 'Hierarchy': 'N', 'IsHidden': 'N'}, {'Name': 'GENE', 'FullName': 'Gene Name', 'Description': 'Name of gene associated with sequence', 'TermCount': '1273647323', 'IsDate': 'N', 'IsNumerical': 'N', 'SingleToken': 'Y', 'Hierarchy': 'N', 'IsHidden': 'N'}, {'Name': 'PROT', 'FullName': 'Protein Name', 'Description': 'Name of protein associated with sequence', 'TermCount': '6847131', 'IsDate': 'N', 'IsNumerical': 'N', 'SingleToken': 'Y', 'Hierarchy': 'N', 'IsHidden': 'N'}, {'Name': 'ECNO', 'FullName': 'EC/RN Number', 'Description': 'EC number for enzyme or CAS registry number', 'TermCount': '6214', 'IsDate': 'N', 'IsNumerical': 'N', 'SingleToken': 'Y', 'Hierarchy': 'N', 'IsHidden': 'N'}, {'Name': 'PDAT', 'FullName': 'Publication Date', 'Description': 'Date sequence added to GenBank', 'TermCount': '11535', 'IsDate': 'Y', 'IsNumerical': 'N', 'SingleToken': 'Y', 'Hierarchy': 'N', 'IsHidden': 'N'}, {'Name': 'MDAT', 'FullName': 'Modification Date', 'Description': 'Date of last update', 'TermCount': '6916', 'IsDate': 'Y', 'IsNumerical': 'N', 'SingleToken': 'Y', 'Hierarchy': 'N', 'IsHidden': 'N'}, {'Name': 'SUBS', 'FullName': 'Substance Name', 'Description': 'CAS chemical name or MEDLINE Substance Name', 'TermCount': '913681', 'IsDate': 'N', 'IsNumerical': 'N', 'SingleToken': 'Y', 'Hierarchy': 'N', 'IsHidden': 'N'}, {'Name': 'PROP', 'FullName': 'Properties', 'Description': 'Classification by source qualifiers and molecule type', 'TermCount': '161343', 'IsDate': 'N', 'IsNumerical': 'N', 'SingleToken': 'Y', 'Hierarchy': 'N', 'IsHidden': 'N'}, {'Name': 'SQID', 'FullName': 'SeqID String', 'Description': 'String identifier for sequence', 'TermCount': '623643845', 'IsDate': 'N', 'IsNumerical': 'N', 'SingleToken': 'Y', 'Hierarchy': 'N', 'IsHidden': 'N'}, {'Name': 'GPRJ', 'FullName': 'BioProject', 'Description': 'BioProject', 'TermCount': '140917', 'IsDate': 'N', 'IsNumerical': 'N', 'SingleToken': 'Y', 'Hierarchy': 'Y', 'IsHidden': 'N'}, {'Name': 'SLEN', 'FullName': 'Sequence Length', 'Description': 'Length of sequence', 'TermCount': '15029', 'IsDate': 'N', 'IsNumerical': 'Y', 'SingleToken': 'Y', 'Hierarchy': 'N', 'IsHidden': 'N'}, {'Name': 'MLWT', 'FullName': 'Molecular Weight', 'Description': 'Molecular Weight', 'TermCount': '566834', 'IsDate': 'N', 'IsNumerical': 'Y', 'SingleToken': 'Y', 'Hierarchy': 'N', 'IsHidden': 'N'}, {'Name': 'FKEY', 'FullName': 'Feature key', 'Description': 'Feature annotated on sequence', 'TermCount': '32', 'IsDate': 'N', 'IsNumerical': 'N', 'SingleToken': 'Y', 'Hierarchy': 'N', 'IsHidden': 'N'}, {'Name': 'PORG', 'FullName': 'Primary Organism', 'Description': 'Scientific and common names of primary organism, and all higher levels of taxonomy', 'TermCount': '3668032', 'IsDate': 'N', 'IsNumerical': 'N', 'SingleToken': 'Y', 'Hierarchy': 'Y', 'IsHidden': 'N'}, {'Name': 'ASSM', 'FullName': 'Assembly', 'Description': 'Assembly', 'TermCount': '77', 'IsDate': 'N', 'IsNumerical': 'N', 'SingleToken': 'Y', 'Hierarchy': 'N', 'IsHidden': 'N'}, {'Name': 'DIV', 'FullName': 'Division', 'Description': 'Division', 'TermCount': '13', 'IsDate': 'N', 'IsNumerical': 'N', 'SingleToken': 'Y', 'Hierarchy': 'N', 'IsHidden': 'N'}, {'Name': 'STRN', 'FullName': 'Strain', 'Description': 'Strain', 'TermCount': '937942', 'IsDate': 'N', 'IsNumerical': 'N', 'SingleToken': 'Y', 'Hierarchy': 'N', 'IsHidden': 'N'}, {'Name': 'ISOL', 'FullName': 'Isolate', 'Description': 'Isolate', 'TermCount': '2734730', 'IsDate': 'N', 'IsNumerical': 'N', 'SingleToken': 'Y', 'Hierarchy': 'N', 'IsHidden': 'N'}, {'Name': 'CULT', 'FullName': 'Cultivar', 'Description': 'Cultivar', 'TermCount': '24108', 'IsDate': 'N', 'IsNumerical': 'N', 'SingleToken': 'Y', 'Hierarchy': 'N', 'IsHidden': 'N'}, {'Name': 'BRD', 'FullName': 'Breed', 'Description': 'Breed', 'TermCount': '3224', 'IsDate': 'N', 'IsNumerical': 'N', 'SingleToken': 'Y', 'Hierarchy': 'N', 'IsHidden': 'N'}], 'LinkList': [{'Name': 'nuccore_protein_wp', 'Menu': 'Links to autonomous proteins', 'Description': 'Autonomous protein records', 'DbTo': 'nuccore'}, {'Name': 'protein_biocollections', 'Menu': 'BioCollections', 'Description': 'BioCollections', 'DbTo': 'biocollections'}, {'Name': 'protein_bioproject', 'Menu': 'BioProject Links', 'Description': 'Proteins related to BioProjects', 'DbTo': 'bioproject'}, {'Name': 'protein_biosystems', 'Menu': 'BioSystem Links', 'Description': 'BioSystems', 'DbTo': 'biosystems'}, {'Name': 'protein_ccds', 'Menu': 'ccds', 'Description': 'Link to Consensus CDS', 'DbTo': 'ccds'}, {'Name': 'protein_cdd', 'Menu': 'Conserved Domain Links', 'Description': 'Link to conserved domains within a protein', 'DbTo': 'cdd'}, {'Name': 'protein_cdd_concise_2', 'Menu': 'Concise Conserved Domain Links', 'Description': 'Link to a concise list of conserved domains in a protein', 'DbTo': 'cdd'}, {'Name': 'protein_cdd_summary', 'Menu': '', 'Description': 'Display conserved domains within a protein', 'DbTo': 'cdd'}, {'Name': 'protein_gene', 'Menu': 'Gene Links', 'Description': 'Link to related Genes', 'DbTo': 'gene'}, {'Name': 'protein_genome', 'Menu': 'Genome Links', 'Description': 'Genome record encoding protein sequence', 'DbTo': 'genome'}, {'Name': 'protein_homologene', 'Menu': 'HomoloGene Links', 'Description': 'Related HomoloGene', 'DbTo': 'homologene'}, {'Name': 'protein_nuccore', 'Menu': 'Nucleotide Links', 'Description': 'Nucleotide sequence from coding region', 'DbTo': 'nuccore'}, {'Name': 'protein_nuccore_mat_peptide', 'Menu': 'Mature Peptides', 'Description': 'Link between nucleotide record and mature peptides contained within nucleotide record', 'DbTo': 'nuccore'}, {'Name': 'protein_nuccore_mgc', 'Menu': 'Nucleotide NIH cDNA clone links', 'Description': 'Nucleotide NIH cDNA clone', 'DbTo': 'nuccore'}, {'Name': 'protein_nuccore_mrna', 'Menu': 'Encoding mRNA', 'Description': 'Link from protein to encoding mRNA', 'DbTo': 'nuccore'}, {'Name': 'protein_nuccore_small_genome', 'Menu': 'Link to all nucleotide sequences from this genome', 'Description': 'All nucleotide sequences from this genome', 'DbTo': 'nuccore'}, {'Name': 'protein_nuccore_tsa', 'Menu': 'TSA master records', 'Description': 'Links to TSA master records', 'DbTo': 'nuccore'}, {'Name': 'protein_nuccore_wgs', 'Menu': '', 'Description': 'Links to WGS master sequences', 'DbTo': 'nuccore'}, {'Name': 'protein_nuccore_wp', 'Menu': 'Link to genomic records', 'Description': 'Genomic records', 'DbTo': 'nuccore'}, {'Name': 'protein_nucgss', 'Menu': 'GSS Links', 'Description': 'GSS sequence from coding region', 'DbTo': 'nucgss'}, {'Name': 'protein_nucleotide_mgc_url', 'Menu': '', 'Description': 'Order cDNA clone', 'DbTo': 'nucleotide'}, {'Name': 'protein_omim', 'Menu': 'OMIM Links', 'Description': 'OMIM records associated with protein sequence', 'DbTo': 'omim'}, {'Name': 'protein_pcassay_target', 'Menu': 'BioAssay by Target (List)', 'Description': 'PubChem BioAssays done on the protein target', 'DbTo': 'pcassay'}, {'Name': 'protein_pcassay_target_pig', 'Menu': 'BioAssay by Target (Identical Proteins, List)', 'Description': 'PubChem BioAssays done on the protein target PIG', 'DbTo': 'pcassay'}, {'Name': 'protein_pcassay_target_pig_summary', 'Menu': 'pcassay', 'Description': 'BioAssay by Target (Identical Proteins, Summary)', 'DbTo': 'pcassay'}, {'Name': 'protein_pcassay_target_summary', 'Menu': 'pcassay', 'Description': 'BioAssay by Target (Summary)', 'DbTo': 'pcassay'}, {'Name': 'protein_pccompound', 'Menu': 'PubChem Compound Links', 'Description': 'Related PubChem Compound', 'DbTo': 'pccompound'}, {'Name': 'protein_pcsubstance', 'Menu': 'PubChem Substance Links', 'Description': 'Related PubChem Substance', 'DbTo': 'pcsubstance'}, {'Name': 'protein_pmc', 'Menu': 'PMC Links', 'Description': 'Free full text articles in PMC', 'DbTo': 'pmc'}, {'Name': 'protein_popset', 'Menu': 'PopSet Links', 'Description': 'Population set containing protein sequence', 'DbTo': 'popset'}, {'Name': 'protein_protein_cdart_summary', 'Menu': '', 'Description': 'Display proteins with similar conserved domain architecture', 'DbTo': 'protein'}, {'Name': 'protein_protein_ref2wp', 'Menu': 'Links from references to autonomous proteins', 'Description': 'Autonomous protein records', 'DbTo': 'protein'}, {'Name': 'protein_protein_refseq2uniprot', 'Menu': 'Protein (UniProtKB)', 'Description': 'Protein gi (refseq) to protein gi (UniProtKB)', 'DbTo': 'protein'}, {'Name': 'protein_protein_small_genome', 'Menu': 'Link to all proteins from this genome', 'Description': 'All proteins from this genome', 'DbTo': 'protein'}, {'Name': 'protein_protein_uniprot2refseq', 'Menu': 'Protein (RefSeq)', 'Description': 'Protein gi (UniProtKB) to protein gi (refseq)', 'DbTo': 'protein'}, {'Name': 'protein_protein_wp2ref', 'Menu': 'Link to referencing proteins', 'Description': 'Referencing proteins', 'DbTo': 'protein'}, {'Name': 'protein_proteinclusters', 'Menu': 'Protein Cluster Links', 'Description': 'Related Protein Clusters', 'DbTo': 'proteinclusters'}, {'Name': 'protein_pubmed', 'Menu': 'PubMed Links', 'Description': 'PubMed articles cited by protein sequence record', 'DbTo': 'pubmed'}, {'Name': 'protein_pubmed_refseq', 'Menu': 'PubMed (RefSeq) Links', 'Description': 'Link to RefSeq PubMed articles', 'DbTo': 'pubmed'}, {'Name': 'protein_pubmed_weighted', 'Menu': 'PubMed (Weighted) Links', 'Description': 'Links to pubmed', 'DbTo': 'pubmed'}, {'Name': 'protein_snp', 'Menu': 'SNP Links', 'Description': 'Related SNPs', 'DbTo': 'snp'}, {'Name': 'protein_snp_geneview', 'Menu': '', 'Description': 'SNPs linked from GeneView', 'DbTo': 'snp'}, {'Name': 'protein_structure', 'Menu': 'Identical Structures', 'Description': '3D structures for identical protein sequences', 'DbTo': 'structure'}, {'Name': 'protein_structure_direct', 'Menu': 'Structures', 'Description': 'Experimentally determined 3D Structures', 'DbTo': 'structure'}, {'Name': 'protein_structure_related', 'Menu': '', 'Description': 'Related structures', 'DbTo': 'structure'}, {'Name': 'protein_structure_related_list', 'Menu': 'Related Structures (List)', 'Description': 'List of related structures', 'DbTo': 'structure'}, {'Name': 'protein_taxonomy', 'Menu': 'Taxonomy Links', 'Description': 'Taxonomy sequences associated with protein record', 'DbTo': 'taxonomy'}, {'Name': 'protein_taxonomy_wp2species', 'Menu': 'Links from autonomous proteins to species level organisms', 'Description': 'Species level organisms', 'DbTo': 'taxonomy'}]}}"
      ]
     },
     "execution_count": 37,
     "metadata": {},
     "output_type": "execute_result"
    }
   ],
   "source": [
    "record"
   ]
  },
  {
   "cell_type": "code",
   "execution_count": 38,
   "metadata": {
    "hidden": true
   },
   "outputs": [
    {
     "data": {
      "text/plain": [
       "dict_keys(['DbInfo'])"
      ]
     },
     "execution_count": 38,
     "metadata": {},
     "output_type": "execute_result"
    }
   ],
   "source": [
    "record.keys()"
   ]
  },
  {
   "cell_type": "code",
   "execution_count": 39,
   "metadata": {
    "hidden": true
   },
   "outputs": [
    {
     "data": {
      "text/plain": [
       "dict_keys(['DbName', 'MenuName', 'Description', 'DbBuild', 'Count', 'LastUpdate', 'FieldList', 'LinkList'])"
      ]
     },
     "execution_count": 39,
     "metadata": {},
     "output_type": "execute_result"
    }
   ],
   "source": [
    "record['DbInfo'].keys()"
   ]
  },
  {
   "cell_type": "code",
   "execution_count": 40,
   "metadata": {
    "hidden": true
   },
   "outputs": [
    {
     "data": {
      "text/plain": [
       "'protein'"
      ]
     },
     "execution_count": 40,
     "metadata": {},
     "output_type": "execute_result"
    }
   ],
   "source": [
    "record['DbInfo']['DbName']"
   ]
  },
  {
   "cell_type": "code",
   "execution_count": 41,
   "metadata": {
    "hidden": true
   },
   "outputs": [
    {
     "data": {
      "text/plain": [
       "'Protein'"
      ]
     },
     "execution_count": 41,
     "metadata": {},
     "output_type": "execute_result"
    }
   ],
   "source": [
    "record['DbInfo']['MenuName']"
   ]
  },
  {
   "cell_type": "code",
   "execution_count": 42,
   "metadata": {
    "hidden": true
   },
   "outputs": [
    {
     "data": {
      "text/plain": [
       "'Protein sequence record'"
      ]
     },
     "execution_count": 42,
     "metadata": {},
     "output_type": "execute_result"
    }
   ],
   "source": [
    "record['DbInfo']['Description']"
   ]
  },
  {
   "cell_type": "code",
   "execution_count": 43,
   "metadata": {
    "hidden": true
   },
   "outputs": [
    {
     "data": {
      "text/plain": [
       "'Build200315-0206m.1'"
      ]
     },
     "execution_count": 43,
     "metadata": {},
     "output_type": "execute_result"
    }
   ],
   "source": [
    "record['DbInfo']['DbBuild']"
   ]
  },
  {
   "cell_type": "code",
   "execution_count": 44,
   "metadata": {
    "hidden": true
   },
   "outputs": [
    {
     "data": {
      "text/plain": [
       "'831488909'"
      ]
     },
     "execution_count": 44,
     "metadata": {},
     "output_type": "execute_result"
    }
   ],
   "source": [
    "record['DbInfo']['Count']"
   ]
  },
  {
   "cell_type": "code",
   "execution_count": 45,
   "metadata": {
    "hidden": true
   },
   "outputs": [
    {
     "data": {
      "text/plain": [
       "'2020/03/16 21:46'"
      ]
     },
     "execution_count": 45,
     "metadata": {},
     "output_type": "execute_result"
    }
   ],
   "source": [
    "record['DbInfo']['LastUpdate']"
   ]
  },
  {
   "cell_type": "code",
   "execution_count": 46,
   "metadata": {
    "hidden": true
   },
   "outputs": [
    {
     "data": {
      "text/plain": [
       "33"
      ]
     },
     "execution_count": 46,
     "metadata": {},
     "output_type": "execute_result"
    }
   ],
   "source": [
    "len(record['DbInfo']['FieldList'])"
   ]
  },
  {
   "cell_type": "code",
   "execution_count": 47,
   "metadata": {
    "hidden": true
   },
   "outputs": [
    {
     "name": "stdout",
     "output_type": "stream",
     "text": [
      "ALL, All Fields, All terms from all searchable fields\n",
      "UID, UID, Unique number assigned to each sequence\n",
      "FILT, Filter, Limits the records\n",
      "WORD, Text Word, Free text associated with record\n",
      "TITL, Title, Words in definition line\n",
      "KYWD, Keyword, Nonstandardized terms provided by submitter\n",
      "AUTH, Author, Author(s) of publication\n",
      "JOUR, Journal, Journal abbreviation of publication\n",
      "VOL, Volume, Volume number of publication\n",
      "ISS, Issue, Issue number of publication\n",
      "PAGE, Page Number, Page number(s) of publication\n",
      "ORGN, Organism, Scientific and common names of organism, and all higher levels of taxonomy\n",
      "ACCN, Accession, Accession number of sequence\n",
      "PACC, Primary Accession, Does not include retired secondary accessions\n",
      "GENE, Gene Name, Name of gene associated with sequence\n",
      "PROT, Protein Name, Name of protein associated with sequence\n",
      "ECNO, EC/RN Number, EC number for enzyme or CAS registry number\n",
      "PDAT, Publication Date, Date sequence added to GenBank\n",
      "MDAT, Modification Date, Date of last update\n",
      "SUBS, Substance Name, CAS chemical name or MEDLINE Substance Name\n",
      "PROP, Properties, Classification by source qualifiers and molecule type\n",
      "SQID, SeqID String, String identifier for sequence\n",
      "GPRJ, BioProject, BioProject\n",
      "SLEN, Sequence Length, Length of sequence\n",
      "MLWT, Molecular Weight, Molecular Weight\n",
      "FKEY, Feature key, Feature annotated on sequence\n",
      "PORG, Primary Organism, Scientific and common names of primary organism, and all higher levels of taxonomy\n",
      "ASSM, Assembly, Assembly\n",
      "DIV, Division, Division\n",
      "STRN, Strain, Strain\n",
      "ISOL, Isolate, Isolate\n",
      "CULT, Cultivar, Cultivar\n",
      "BRD, Breed, Breed\n"
     ]
    }
   ],
   "source": [
    "for field in record[\"DbInfo\"][\"FieldList\"]:\n",
    "    print(\"%(Name)s, %(FullName)s, %(Description)s\" % field)"
   ]
  },
  {
   "cell_type": "code",
   "execution_count": 48,
   "metadata": {
    "hidden": true
   },
   "outputs": [
    {
     "name": "stdout",
     "output_type": "stream",
     "text": [
      "{'Name': 'ALL', 'FullName': 'All Fields', 'Description': 'All terms from all searchable fields', 'TermCount': '4427725646', 'IsDate': 'N', 'IsNumerical': 'N', 'SingleToken': 'N', 'Hierarchy': 'N', 'IsHidden': 'N'}\n",
      "\n",
      "\n",
      "{'Name': 'UID', 'FullName': 'UID', 'Description': 'Unique number assigned to each sequence', 'TermCount': '0', 'IsDate': 'N', 'IsNumerical': 'Y', 'SingleToken': 'Y', 'Hierarchy': 'N', 'IsHidden': 'Y'}\n",
      "\n",
      "\n",
      "{'Name': 'FILT', 'FullName': 'Filter', 'Description': 'Limits the records', 'TermCount': '260', 'IsDate': 'N', 'IsNumerical': 'N', 'SingleToken': 'Y', 'Hierarchy': 'N', 'IsHidden': 'N'}\n",
      "\n",
      "\n",
      "{'Name': 'WORD', 'FullName': 'Text Word', 'Description': 'Free text associated with record', 'TermCount': '1159081284', 'IsDate': 'N', 'IsNumerical': 'N', 'SingleToken': 'N', 'Hierarchy': 'N', 'IsHidden': 'N'}\n",
      "\n",
      "\n",
      "{'Name': 'TITL', 'FullName': 'Title', 'Description': 'Words in definition line', 'TermCount': '134102182', 'IsDate': 'N', 'IsNumerical': 'N', 'SingleToken': 'N', 'Hierarchy': 'N', 'IsHidden': 'N'}\n",
      "\n",
      "\n",
      "{'Name': 'KYWD', 'FullName': 'Keyword', 'Description': 'Nonstandardized terms provided by submitter', 'TermCount': '32361', 'IsDate': 'N', 'IsNumerical': 'N', 'SingleToken': 'Y', 'Hierarchy': 'N', 'IsHidden': 'N'}\n",
      "\n",
      "\n",
      "{'Name': 'AUTH', 'FullName': 'Author', 'Description': 'Author(s) of publication', 'TermCount': '2816926', 'IsDate': 'N', 'IsNumerical': 'N', 'SingleToken': 'Y', 'Hierarchy': 'N', 'IsHidden': 'N'}\n",
      "\n",
      "\n",
      "{'Name': 'JOUR', 'FullName': 'Journal', 'Description': 'Journal abbreviation of publication', 'TermCount': '85573', 'IsDate': 'N', 'IsNumerical': 'N', 'SingleToken': 'Y', 'Hierarchy': 'N', 'IsHidden': 'N'}\n",
      "\n",
      "\n",
      "{'Name': 'VOL', 'FullName': 'Volume', 'Description': 'Volume number of publication', 'TermCount': '4633', 'IsDate': 'N', 'IsNumerical': 'N', 'SingleToken': 'Y', 'Hierarchy': 'N', 'IsHidden': 'N'}\n",
      "\n",
      "\n",
      "{'Name': 'ISS', 'FullName': 'Issue', 'Description': 'Issue number of publication', 'TermCount': '4639', 'IsDate': 'N', 'IsNumerical': 'N', 'SingleToken': 'Y', 'Hierarchy': 'N', 'IsHidden': 'N'}\n",
      "\n",
      "\n",
      "{'Name': 'PAGE', 'FullName': 'Page Number', 'Description': 'Page number(s) of publication', 'TermCount': '204739', 'IsDate': 'N', 'IsNumerical': 'N', 'SingleToken': 'Y', 'Hierarchy': 'N', 'IsHidden': 'N'}\n",
      "\n",
      "\n",
      "{'Name': 'ORGN', 'FullName': 'Organism', 'Description': 'Scientific and common names of organism, and all higher levels of taxonomy', 'TermCount': '3676060', 'IsDate': 'N', 'IsNumerical': 'N', 'SingleToken': 'Y', 'Hierarchy': 'Y', 'IsHidden': 'N'}\n",
      "\n",
      "\n",
      "{'Name': 'ACCN', 'FullName': 'Accession', 'Description': 'Accession number of sequence', 'TermCount': '1664479509', 'IsDate': 'N', 'IsNumerical': 'N', 'SingleToken': 'Y', 'Hierarchy': 'N', 'IsHidden': 'N'}\n",
      "\n",
      "\n",
      "{'Name': 'PACC', 'FullName': 'Primary Accession', 'Description': 'Does not include retired secondary accessions', 'TermCount': '1662924655', 'IsDate': 'N', 'IsNumerical': 'N', 'SingleToken': 'Y', 'Hierarchy': 'N', 'IsHidden': 'N'}\n",
      "\n",
      "\n",
      "{'Name': 'GENE', 'FullName': 'Gene Name', 'Description': 'Name of gene associated with sequence', 'TermCount': '1273647323', 'IsDate': 'N', 'IsNumerical': 'N', 'SingleToken': 'Y', 'Hierarchy': 'N', 'IsHidden': 'N'}\n",
      "\n",
      "\n",
      "{'Name': 'PROT', 'FullName': 'Protein Name', 'Description': 'Name of protein associated with sequence', 'TermCount': '6847131', 'IsDate': 'N', 'IsNumerical': 'N', 'SingleToken': 'Y', 'Hierarchy': 'N', 'IsHidden': 'N'}\n",
      "\n",
      "\n",
      "{'Name': 'ECNO', 'FullName': 'EC/RN Number', 'Description': 'EC number for enzyme or CAS registry number', 'TermCount': '6214', 'IsDate': 'N', 'IsNumerical': 'N', 'SingleToken': 'Y', 'Hierarchy': 'N', 'IsHidden': 'N'}\n",
      "\n",
      "\n",
      "{'Name': 'PDAT', 'FullName': 'Publication Date', 'Description': 'Date sequence added to GenBank', 'TermCount': '11535', 'IsDate': 'Y', 'IsNumerical': 'N', 'SingleToken': 'Y', 'Hierarchy': 'N', 'IsHidden': 'N'}\n",
      "\n",
      "\n",
      "{'Name': 'MDAT', 'FullName': 'Modification Date', 'Description': 'Date of last update', 'TermCount': '6916', 'IsDate': 'Y', 'IsNumerical': 'N', 'SingleToken': 'Y', 'Hierarchy': 'N', 'IsHidden': 'N'}\n",
      "\n",
      "\n",
      "{'Name': 'SUBS', 'FullName': 'Substance Name', 'Description': 'CAS chemical name or MEDLINE Substance Name', 'TermCount': '913681', 'IsDate': 'N', 'IsNumerical': 'N', 'SingleToken': 'Y', 'Hierarchy': 'N', 'IsHidden': 'N'}\n",
      "\n",
      "\n",
      "{'Name': 'PROP', 'FullName': 'Properties', 'Description': 'Classification by source qualifiers and molecule type', 'TermCount': '161343', 'IsDate': 'N', 'IsNumerical': 'N', 'SingleToken': 'Y', 'Hierarchy': 'N', 'IsHidden': 'N'}\n",
      "\n",
      "\n",
      "{'Name': 'SQID', 'FullName': 'SeqID String', 'Description': 'String identifier for sequence', 'TermCount': '623643845', 'IsDate': 'N', 'IsNumerical': 'N', 'SingleToken': 'Y', 'Hierarchy': 'N', 'IsHidden': 'N'}\n",
      "\n",
      "\n",
      "{'Name': 'GPRJ', 'FullName': 'BioProject', 'Description': 'BioProject', 'TermCount': '140917', 'IsDate': 'N', 'IsNumerical': 'N', 'SingleToken': 'Y', 'Hierarchy': 'Y', 'IsHidden': 'N'}\n",
      "\n",
      "\n",
      "{'Name': 'SLEN', 'FullName': 'Sequence Length', 'Description': 'Length of sequence', 'TermCount': '15029', 'IsDate': 'N', 'IsNumerical': 'Y', 'SingleToken': 'Y', 'Hierarchy': 'N', 'IsHidden': 'N'}\n",
      "\n",
      "\n",
      "{'Name': 'MLWT', 'FullName': 'Molecular Weight', 'Description': 'Molecular Weight', 'TermCount': '566834', 'IsDate': 'N', 'IsNumerical': 'Y', 'SingleToken': 'Y', 'Hierarchy': 'N', 'IsHidden': 'N'}\n",
      "\n",
      "\n",
      "{'Name': 'FKEY', 'FullName': 'Feature key', 'Description': 'Feature annotated on sequence', 'TermCount': '32', 'IsDate': 'N', 'IsNumerical': 'N', 'SingleToken': 'Y', 'Hierarchy': 'N', 'IsHidden': 'N'}\n",
      "\n",
      "\n",
      "{'Name': 'PORG', 'FullName': 'Primary Organism', 'Description': 'Scientific and common names of primary organism, and all higher levels of taxonomy', 'TermCount': '3668032', 'IsDate': 'N', 'IsNumerical': 'N', 'SingleToken': 'Y', 'Hierarchy': 'Y', 'IsHidden': 'N'}\n",
      "\n",
      "\n",
      "{'Name': 'ASSM', 'FullName': 'Assembly', 'Description': 'Assembly', 'TermCount': '77', 'IsDate': 'N', 'IsNumerical': 'N', 'SingleToken': 'Y', 'Hierarchy': 'N', 'IsHidden': 'N'}\n",
      "\n",
      "\n",
      "{'Name': 'DIV', 'FullName': 'Division', 'Description': 'Division', 'TermCount': '13', 'IsDate': 'N', 'IsNumerical': 'N', 'SingleToken': 'Y', 'Hierarchy': 'N', 'IsHidden': 'N'}\n",
      "\n",
      "\n",
      "{'Name': 'STRN', 'FullName': 'Strain', 'Description': 'Strain', 'TermCount': '937942', 'IsDate': 'N', 'IsNumerical': 'N', 'SingleToken': 'Y', 'Hierarchy': 'N', 'IsHidden': 'N'}\n",
      "\n",
      "\n",
      "{'Name': 'ISOL', 'FullName': 'Isolate', 'Description': 'Isolate', 'TermCount': '2734730', 'IsDate': 'N', 'IsNumerical': 'N', 'SingleToken': 'Y', 'Hierarchy': 'N', 'IsHidden': 'N'}\n",
      "\n",
      "\n",
      "{'Name': 'CULT', 'FullName': 'Cultivar', 'Description': 'Cultivar', 'TermCount': '24108', 'IsDate': 'N', 'IsNumerical': 'N', 'SingleToken': 'Y', 'Hierarchy': 'N', 'IsHidden': 'N'}\n",
      "\n",
      "\n",
      "{'Name': 'BRD', 'FullName': 'Breed', 'Description': 'Breed', 'TermCount': '3224', 'IsDate': 'N', 'IsNumerical': 'N', 'SingleToken': 'Y', 'Hierarchy': 'N', 'IsHidden': 'N'}\n",
      "\n",
      "\n"
     ]
    }
   ],
   "source": [
    "for field in record['DbInfo']['FieldList']:\n",
    "    print(field)\n",
    "    print('\\n')"
   ]
  },
  {
   "cell_type": "code",
   "execution_count": 49,
   "metadata": {
    "hidden": true
   },
   "outputs": [
    {
     "name": "stdout",
     "output_type": "stream",
     "text": [
      "nuccore_protein_wp, Links to autonomous proteins, Autonomous protein records\n",
      "protein_biocollections, BioCollections, BioCollections\n",
      "protein_bioproject, BioProject Links, Proteins related to BioProjects\n",
      "protein_biosystems, BioSystem Links, BioSystems\n",
      "protein_ccds, ccds, Link to Consensus CDS\n",
      "protein_cdd, Conserved Domain Links, Link to conserved domains within a protein\n",
      "protein_cdd_concise_2, Concise Conserved Domain Links, Link to a concise list of conserved domains in a protein\n",
      "protein_cdd_summary, , Display conserved domains within a protein\n",
      "protein_gene, Gene Links, Link to related Genes\n",
      "protein_genome, Genome Links, Genome record encoding protein sequence\n",
      "protein_homologene, HomoloGene Links, Related HomoloGene\n",
      "protein_nuccore, Nucleotide Links, Nucleotide sequence from coding region\n",
      "protein_nuccore_mat_peptide, Mature Peptides, Link between nucleotide record and mature peptides contained within nucleotide record\n",
      "protein_nuccore_mgc, Nucleotide NIH cDNA clone links, Nucleotide NIH cDNA clone\n",
      "protein_nuccore_mrna, Encoding mRNA, Link from protein to encoding mRNA\n",
      "protein_nuccore_small_genome, Link to all nucleotide sequences from this genome, All nucleotide sequences from this genome\n",
      "protein_nuccore_tsa, TSA master records, Links to TSA master records\n",
      "protein_nuccore_wgs, , Links to WGS master sequences\n",
      "protein_nuccore_wp, Link to genomic records, Genomic records\n",
      "protein_nucgss, GSS Links, GSS sequence from coding region\n",
      "protein_nucleotide_mgc_url, , Order cDNA clone\n",
      "protein_omim, OMIM Links, OMIM records associated with protein sequence\n",
      "protein_pcassay_target, BioAssay by Target (List), PubChem BioAssays done on the protein target\n",
      "protein_pcassay_target_pig, BioAssay by Target (Identical Proteins, List), PubChem BioAssays done on the protein target PIG\n",
      "protein_pcassay_target_pig_summary, pcassay, BioAssay by Target (Identical Proteins, Summary)\n",
      "protein_pcassay_target_summary, pcassay, BioAssay by Target (Summary)\n",
      "protein_pccompound, PubChem Compound Links, Related PubChem Compound\n",
      "protein_pcsubstance, PubChem Substance Links, Related PubChem Substance\n",
      "protein_pmc, PMC Links, Free full text articles in PMC\n",
      "protein_popset, PopSet Links, Population set containing protein sequence\n",
      "protein_protein_cdart_summary, , Display proteins with similar conserved domain architecture\n",
      "protein_protein_ref2wp, Links from references to autonomous proteins, Autonomous protein records\n",
      "protein_protein_refseq2uniprot, Protein (UniProtKB), Protein gi (refseq) to protein gi (UniProtKB)\n",
      "protein_protein_small_genome, Link to all proteins from this genome, All proteins from this genome\n",
      "protein_protein_uniprot2refseq, Protein (RefSeq), Protein gi (UniProtKB) to protein gi (refseq)\n",
      "protein_protein_wp2ref, Link to referencing proteins, Referencing proteins\n",
      "protein_proteinclusters, Protein Cluster Links, Related Protein Clusters\n",
      "protein_pubmed, PubMed Links, PubMed articles cited by protein sequence record\n",
      "protein_pubmed_refseq, PubMed (RefSeq) Links, Link to RefSeq PubMed articles\n",
      "protein_pubmed_weighted, PubMed (Weighted) Links, Links to pubmed\n",
      "protein_snp, SNP Links, Related SNPs\n",
      "protein_snp_geneview, , SNPs linked from GeneView\n",
      "protein_structure, Identical Structures, 3D structures for identical protein sequences\n",
      "protein_structure_direct, Structures, Experimentally determined 3D Structures\n",
      "protein_structure_related, , Related structures\n",
      "protein_structure_related_list, Related Structures (List), List of related structures\n",
      "protein_taxonomy, Taxonomy Links, Taxonomy sequences associated with protein record\n",
      "protein_taxonomy_wp2species, Links from autonomous proteins to species level organisms, Species level organisms\n"
     ]
    }
   ],
   "source": [
    "for field in record[\"DbInfo\"][\"LinkList\"]:\n",
    "    print(\"%(Name)s, %(Menu)s, %(Description)s\" % field)"
   ]
  },
  {
   "cell_type": "code",
   "execution_count": 50,
   "metadata": {
    "hidden": true
   },
   "outputs": [
    {
     "name": "stdout",
     "output_type": "stream",
     "text": [
      "{'Name': 'nuccore_protein_wp', 'Menu': 'Links to autonomous proteins', 'Description': 'Autonomous protein records', 'DbTo': 'nuccore'}\n",
      "\n",
      "\n",
      "{'Name': 'protein_biocollections', 'Menu': 'BioCollections', 'Description': 'BioCollections', 'DbTo': 'biocollections'}\n",
      "\n",
      "\n",
      "{'Name': 'protein_bioproject', 'Menu': 'BioProject Links', 'Description': 'Proteins related to BioProjects', 'DbTo': 'bioproject'}\n",
      "\n",
      "\n",
      "{'Name': 'protein_biosystems', 'Menu': 'BioSystem Links', 'Description': 'BioSystems', 'DbTo': 'biosystems'}\n",
      "\n",
      "\n",
      "{'Name': 'protein_ccds', 'Menu': 'ccds', 'Description': 'Link to Consensus CDS', 'DbTo': 'ccds'}\n",
      "\n",
      "\n",
      "{'Name': 'protein_cdd', 'Menu': 'Conserved Domain Links', 'Description': 'Link to conserved domains within a protein', 'DbTo': 'cdd'}\n",
      "\n",
      "\n",
      "{'Name': 'protein_cdd_concise_2', 'Menu': 'Concise Conserved Domain Links', 'Description': 'Link to a concise list of conserved domains in a protein', 'DbTo': 'cdd'}\n",
      "\n",
      "\n",
      "{'Name': 'protein_cdd_summary', 'Menu': '', 'Description': 'Display conserved domains within a protein', 'DbTo': 'cdd'}\n",
      "\n",
      "\n",
      "{'Name': 'protein_gene', 'Menu': 'Gene Links', 'Description': 'Link to related Genes', 'DbTo': 'gene'}\n",
      "\n",
      "\n",
      "{'Name': 'protein_genome', 'Menu': 'Genome Links', 'Description': 'Genome record encoding protein sequence', 'DbTo': 'genome'}\n",
      "\n",
      "\n",
      "{'Name': 'protein_homologene', 'Menu': 'HomoloGene Links', 'Description': 'Related HomoloGene', 'DbTo': 'homologene'}\n",
      "\n",
      "\n",
      "{'Name': 'protein_nuccore', 'Menu': 'Nucleotide Links', 'Description': 'Nucleotide sequence from coding region', 'DbTo': 'nuccore'}\n",
      "\n",
      "\n",
      "{'Name': 'protein_nuccore_mat_peptide', 'Menu': 'Mature Peptides', 'Description': 'Link between nucleotide record and mature peptides contained within nucleotide record', 'DbTo': 'nuccore'}\n",
      "\n",
      "\n",
      "{'Name': 'protein_nuccore_mgc', 'Menu': 'Nucleotide NIH cDNA clone links', 'Description': 'Nucleotide NIH cDNA clone', 'DbTo': 'nuccore'}\n",
      "\n",
      "\n",
      "{'Name': 'protein_nuccore_mrna', 'Menu': 'Encoding mRNA', 'Description': 'Link from protein to encoding mRNA', 'DbTo': 'nuccore'}\n",
      "\n",
      "\n",
      "{'Name': 'protein_nuccore_small_genome', 'Menu': 'Link to all nucleotide sequences from this genome', 'Description': 'All nucleotide sequences from this genome', 'DbTo': 'nuccore'}\n",
      "\n",
      "\n",
      "{'Name': 'protein_nuccore_tsa', 'Menu': 'TSA master records', 'Description': 'Links to TSA master records', 'DbTo': 'nuccore'}\n",
      "\n",
      "\n",
      "{'Name': 'protein_nuccore_wgs', 'Menu': '', 'Description': 'Links to WGS master sequences', 'DbTo': 'nuccore'}\n",
      "\n",
      "\n",
      "{'Name': 'protein_nuccore_wp', 'Menu': 'Link to genomic records', 'Description': 'Genomic records', 'DbTo': 'nuccore'}\n",
      "\n",
      "\n",
      "{'Name': 'protein_nucgss', 'Menu': 'GSS Links', 'Description': 'GSS sequence from coding region', 'DbTo': 'nucgss'}\n",
      "\n",
      "\n",
      "{'Name': 'protein_nucleotide_mgc_url', 'Menu': '', 'Description': 'Order cDNA clone', 'DbTo': 'nucleotide'}\n",
      "\n",
      "\n",
      "{'Name': 'protein_omim', 'Menu': 'OMIM Links', 'Description': 'OMIM records associated with protein sequence', 'DbTo': 'omim'}\n",
      "\n",
      "\n",
      "{'Name': 'protein_pcassay_target', 'Menu': 'BioAssay by Target (List)', 'Description': 'PubChem BioAssays done on the protein target', 'DbTo': 'pcassay'}\n",
      "\n",
      "\n",
      "{'Name': 'protein_pcassay_target_pig', 'Menu': 'BioAssay by Target (Identical Proteins, List)', 'Description': 'PubChem BioAssays done on the protein target PIG', 'DbTo': 'pcassay'}\n",
      "\n",
      "\n",
      "{'Name': 'protein_pcassay_target_pig_summary', 'Menu': 'pcassay', 'Description': 'BioAssay by Target (Identical Proteins, Summary)', 'DbTo': 'pcassay'}\n",
      "\n",
      "\n",
      "{'Name': 'protein_pcassay_target_summary', 'Menu': 'pcassay', 'Description': 'BioAssay by Target (Summary)', 'DbTo': 'pcassay'}\n",
      "\n",
      "\n",
      "{'Name': 'protein_pccompound', 'Menu': 'PubChem Compound Links', 'Description': 'Related PubChem Compound', 'DbTo': 'pccompound'}\n",
      "\n",
      "\n",
      "{'Name': 'protein_pcsubstance', 'Menu': 'PubChem Substance Links', 'Description': 'Related PubChem Substance', 'DbTo': 'pcsubstance'}\n",
      "\n",
      "\n",
      "{'Name': 'protein_pmc', 'Menu': 'PMC Links', 'Description': 'Free full text articles in PMC', 'DbTo': 'pmc'}\n",
      "\n",
      "\n",
      "{'Name': 'protein_popset', 'Menu': 'PopSet Links', 'Description': 'Population set containing protein sequence', 'DbTo': 'popset'}\n",
      "\n",
      "\n",
      "{'Name': 'protein_protein_cdart_summary', 'Menu': '', 'Description': 'Display proteins with similar conserved domain architecture', 'DbTo': 'protein'}\n",
      "\n",
      "\n",
      "{'Name': 'protein_protein_ref2wp', 'Menu': 'Links from references to autonomous proteins', 'Description': 'Autonomous protein records', 'DbTo': 'protein'}\n",
      "\n",
      "\n",
      "{'Name': 'protein_protein_refseq2uniprot', 'Menu': 'Protein (UniProtKB)', 'Description': 'Protein gi (refseq) to protein gi (UniProtKB)', 'DbTo': 'protein'}\n",
      "\n",
      "\n",
      "{'Name': 'protein_protein_small_genome', 'Menu': 'Link to all proteins from this genome', 'Description': 'All proteins from this genome', 'DbTo': 'protein'}\n",
      "\n",
      "\n",
      "{'Name': 'protein_protein_uniprot2refseq', 'Menu': 'Protein (RefSeq)', 'Description': 'Protein gi (UniProtKB) to protein gi (refseq)', 'DbTo': 'protein'}\n",
      "\n",
      "\n",
      "{'Name': 'protein_protein_wp2ref', 'Menu': 'Link to referencing proteins', 'Description': 'Referencing proteins', 'DbTo': 'protein'}\n",
      "\n",
      "\n",
      "{'Name': 'protein_proteinclusters', 'Menu': 'Protein Cluster Links', 'Description': 'Related Protein Clusters', 'DbTo': 'proteinclusters'}\n",
      "\n",
      "\n",
      "{'Name': 'protein_pubmed', 'Menu': 'PubMed Links', 'Description': 'PubMed articles cited by protein sequence record', 'DbTo': 'pubmed'}\n",
      "\n",
      "\n",
      "{'Name': 'protein_pubmed_refseq', 'Menu': 'PubMed (RefSeq) Links', 'Description': 'Link to RefSeq PubMed articles', 'DbTo': 'pubmed'}\n",
      "\n",
      "\n",
      "{'Name': 'protein_pubmed_weighted', 'Menu': 'PubMed (Weighted) Links', 'Description': 'Links to pubmed', 'DbTo': 'pubmed'}\n",
      "\n",
      "\n",
      "{'Name': 'protein_snp', 'Menu': 'SNP Links', 'Description': 'Related SNPs', 'DbTo': 'snp'}\n",
      "\n",
      "\n",
      "{'Name': 'protein_snp_geneview', 'Menu': '', 'Description': 'SNPs linked from GeneView', 'DbTo': 'snp'}\n",
      "\n",
      "\n",
      "{'Name': 'protein_structure', 'Menu': 'Identical Structures', 'Description': '3D structures for identical protein sequences', 'DbTo': 'structure'}\n",
      "\n",
      "\n",
      "{'Name': 'protein_structure_direct', 'Menu': 'Structures', 'Description': 'Experimentally determined 3D Structures', 'DbTo': 'structure'}\n",
      "\n",
      "\n",
      "{'Name': 'protein_structure_related', 'Menu': '', 'Description': 'Related structures', 'DbTo': 'structure'}\n",
      "\n",
      "\n",
      "{'Name': 'protein_structure_related_list', 'Menu': 'Related Structures (List)', 'Description': 'List of related structures', 'DbTo': 'structure'}\n",
      "\n",
      "\n",
      "{'Name': 'protein_taxonomy', 'Menu': 'Taxonomy Links', 'Description': 'Taxonomy sequences associated with protein record', 'DbTo': 'taxonomy'}\n",
      "\n",
      "\n",
      "{'Name': 'protein_taxonomy_wp2species', 'Menu': 'Links from autonomous proteins to species level organisms', 'Description': 'Species level organisms', 'DbTo': 'taxonomy'}\n",
      "\n",
      "\n"
     ]
    }
   ],
   "source": [
    "for field in record['DbInfo']['LinkList']:\n",
    "    print(field)\n",
    "    print('\\n')"
   ]
  },
  {
   "cell_type": "code",
   "execution_count": 51,
   "metadata": {
    "hidden": true
   },
   "outputs": [
    {
     "name": "stdout",
     "output_type": "stream",
     "text": [
      "<?xml version=\"1.0\" encoding=\"UTF-8\" ?>\n",
      "<!DOCTYPE ePostResult PUBLIC \"-//NLM//DTD epost 20090526//EN\" \"https://eutils.ncbi.nlm.nih.gov/eutils/dtd/20090526/epost.dtd\"><ePostResult>\n",
      "\t<QueryKey>1</QueryKey>\n",
      "\t<WebEnv>NCID_1_190607792_130.14.18.97_9001_1584415437_1741210555_0MetA0_S_MegaStore</WebEnv>\n",
      "</ePostResult>\n",
      "\n"
     ]
    }
   ],
   "source": [
    "# look at two data base records\n",
    "Entrez.api_key = api_key\n",
    "Entrez.email = 'elizabethfawcett47@gmail.com'\n",
    "Entrez.tool = 'locus_by_amino_acid'\n",
    "id_list = ['NP_001164209.1', 'XP_016874800.1']\n",
    "print(Entrez.epost(\"protein\", id=\",\".join(id_list)).read())"
   ]
  },
  {
   "cell_type": "code",
   "execution_count": 52,
   "metadata": {
    "hidden": true
   },
   "outputs": [],
   "source": [
    "# store two database records\n",
    "Entrez.api_key = api_key\n",
    "Entrez.email = 'elizabethfawcett47@gmail.com'\n",
    "Entrez.tool = 'locus_by_amino_acid'\n",
    "id_list = ['NP_001164209.1', 'XP_016874800.1']\n",
    "search_results = Entrez.read(Entrez.epost(\"protein\", id=\",\".join(id_list)))"
   ]
  },
  {
   "cell_type": "code",
   "execution_count": 53,
   "metadata": {
    "hidden": true
   },
   "outputs": [
    {
     "name": "stdout",
     "output_type": "stream",
     "text": [
      "NCID_1_190536794_130.14.22.76_9001_1584415437_1110160424_0MetA0_S_MegaStore\n",
      "1\n"
     ]
    }
   ],
   "source": [
    "# look at stored database records\n",
    "webenv = search_results[\"WebEnv\"]\n",
    "query_key = search_results[\"QueryKey\"]\n",
    "print(webenv)\n",
    "print(query_key)"
   ]
  },
  {
   "cell_type": "markdown",
   "metadata": {},
   "source": [
    "## Specific Retrieval Mode = XML"
   ]
  },
  {
   "cell_type": "markdown",
   "metadata": {
    "heading_collapsed": true
   },
   "source": [
    "### For 1 record"
   ]
  },
  {
   "cell_type": "code",
   "execution_count": 54,
   "metadata": {
    "hidden": true
   },
   "outputs": [],
   "source": [
    "# change retrival mode\n",
    "Entrez.api_key = api_key\n",
    "Entrez.email = 'elizabethfawcett47@gmail.com'\n",
    "Entrez.tool = 'locus_by_amino_acid'\n",
    "id_list = ['NP_001164209.1']\n",
    "search_results = Entrez.read(Entrez.efetch(db=\"protein\", id=id_list, retmode='xml'))"
   ]
  },
  {
   "cell_type": "code",
   "execution_count": 55,
   "metadata": {
    "hidden": true
   },
   "outputs": [
    {
     "data": {
      "text/plain": [
       "dict_keys(['GBSeq_locus', 'GBSeq_length', 'GBSeq_moltype', 'GBSeq_topology', 'GBSeq_division', 'GBSeq_update-date', 'GBSeq_create-date', 'GBSeq_definition', 'GBSeq_primary-accession', 'GBSeq_accession-version', 'GBSeq_other-seqids', 'GBSeq_keywords', 'GBSeq_source', 'GBSeq_organism', 'GBSeq_taxonomy', 'GBSeq_references', 'GBSeq_comment', 'GBSeq_source-db', 'GBSeq_feature-table', 'GBSeq_sequence'])"
      ]
     },
     "execution_count": 55,
     "metadata": {},
     "output_type": "execute_result"
    }
   ],
   "source": [
    "search_results[0].keys()"
   ]
  },
  {
   "cell_type": "code",
   "execution_count": 56,
   "metadata": {
    "hidden": true
   },
   "outputs": [
    {
     "data": {
      "text/plain": [
       "'NP_001164209'"
      ]
     },
     "execution_count": 56,
     "metadata": {},
     "output_type": "execute_result"
    }
   ],
   "source": [
    "search_results[0]['GBSeq_locus']"
   ]
  },
  {
   "cell_type": "code",
   "execution_count": 57,
   "metadata": {
    "hidden": true
   },
   "outputs": [
    {
     "data": {
      "text/plain": [
       "'1182'"
      ]
     },
     "execution_count": 57,
     "metadata": {},
     "output_type": "execute_result"
    }
   ],
   "source": [
    "search_results[0]['GBSeq_length']"
   ]
  },
  {
   "cell_type": "code",
   "execution_count": 58,
   "metadata": {
    "hidden": true
   },
   "outputs": [
    {
     "data": {
      "text/plain": [
       "'AA'"
      ]
     },
     "execution_count": 58,
     "metadata": {},
     "output_type": "execute_result"
    }
   ],
   "source": [
    "search_results[0]['GBSeq_moltype']"
   ]
  },
  {
   "cell_type": "code",
   "execution_count": 59,
   "metadata": {
    "hidden": true
   },
   "outputs": [
    {
     "data": {
      "text/plain": [
       "'linear'"
      ]
     },
     "execution_count": 59,
     "metadata": {},
     "output_type": "execute_result"
    }
   ],
   "source": [
    "search_results[0]['GBSeq_topology']"
   ]
  },
  {
   "cell_type": "code",
   "execution_count": 60,
   "metadata": {
    "hidden": true
   },
   "outputs": [
    {
     "data": {
      "text/plain": [
       "'PRI'"
      ]
     },
     "execution_count": 60,
     "metadata": {},
     "output_type": "execute_result"
    }
   ],
   "source": [
    "search_results[0]['GBSeq_division']"
   ]
  },
  {
   "cell_type": "code",
   "execution_count": 61,
   "metadata": {
    "hidden": true
   },
   "outputs": [
    {
     "data": {
      "text/plain": [
       "'25-OCT-2019'"
      ]
     },
     "execution_count": 61,
     "metadata": {},
     "output_type": "execute_result"
    }
   ],
   "source": [
    "search_results[0]['GBSeq_update-date']"
   ]
  },
  {
   "cell_type": "code",
   "execution_count": 62,
   "metadata": {
    "hidden": true
   },
   "outputs": [
    {
     "data": {
      "text/plain": [
       "'31-DEC-2009'"
      ]
     },
     "execution_count": 62,
     "metadata": {},
     "output_type": "execute_result"
    }
   ],
   "source": [
    "search_results[0]['GBSeq_create-date']"
   ]
  },
  {
   "cell_type": "code",
   "execution_count": 63,
   "metadata": {
    "hidden": true
   },
   "outputs": [
    {
     "data": {
      "text/plain": [
       "'IQ motif and SEC7 domain-containing protein 3 isoform 1 [Homo sapiens]'"
      ]
     },
     "execution_count": 63,
     "metadata": {},
     "output_type": "execute_result"
    }
   ],
   "source": [
    "search_results[0]['GBSeq_definition']"
   ]
  },
  {
   "cell_type": "code",
   "execution_count": 64,
   "metadata": {
    "hidden": true
   },
   "outputs": [
    {
     "data": {
      "text/plain": [
       "'NP_001164209'"
      ]
     },
     "execution_count": 64,
     "metadata": {},
     "output_type": "execute_result"
    }
   ],
   "source": [
    "search_results[0]['GBSeq_primary-accession']"
   ]
  },
  {
   "cell_type": "code",
   "execution_count": 65,
   "metadata": {
    "hidden": true
   },
   "outputs": [
    {
     "data": {
      "text/plain": [
       "'NP_001164209.1'"
      ]
     },
     "execution_count": 65,
     "metadata": {},
     "output_type": "execute_result"
    }
   ],
   "source": [
    "search_results[0]['GBSeq_accession-version']"
   ]
  },
  {
   "cell_type": "code",
   "execution_count": 66,
   "metadata": {
    "hidden": true
   },
   "outputs": [
    {
     "data": {
      "text/plain": [
       "'ref|NP_001164209.1|'"
      ]
     },
     "execution_count": 66,
     "metadata": {},
     "output_type": "execute_result"
    }
   ],
   "source": [
    "search_results[0]['GBSeq_other-seqids'][0]"
   ]
  },
  {
   "cell_type": "code",
   "execution_count": 67,
   "metadata": {
    "hidden": true
   },
   "outputs": [
    {
     "data": {
      "text/plain": [
       "'gi|282721018'"
      ]
     },
     "execution_count": 67,
     "metadata": {},
     "output_type": "execute_result"
    }
   ],
   "source": [
    "search_results[0]['GBSeq_other-seqids'][1]"
   ]
  },
  {
   "cell_type": "code",
   "execution_count": 68,
   "metadata": {
    "hidden": true
   },
   "outputs": [
    {
     "data": {
      "text/plain": [
       "['RefSeq', 'MANE Select']"
      ]
     },
     "execution_count": 68,
     "metadata": {},
     "output_type": "execute_result"
    }
   ],
   "source": [
    "search_results[0]['GBSeq_keywords']"
   ]
  },
  {
   "cell_type": "code",
   "execution_count": 69,
   "metadata": {
    "hidden": true
   },
   "outputs": [
    {
     "data": {
      "text/plain": [
       "'Homo sapiens (human)'"
      ]
     },
     "execution_count": 69,
     "metadata": {},
     "output_type": "execute_result"
    }
   ],
   "source": [
    "search_results[0]['GBSeq_source']"
   ]
  },
  {
   "cell_type": "code",
   "execution_count": 70,
   "metadata": {
    "hidden": true
   },
   "outputs": [
    {
     "data": {
      "text/plain": [
       "'Homo sapiens'"
      ]
     },
     "execution_count": 70,
     "metadata": {},
     "output_type": "execute_result"
    }
   ],
   "source": [
    "search_results[0]['GBSeq_organism']"
   ]
  },
  {
   "cell_type": "code",
   "execution_count": 71,
   "metadata": {
    "hidden": true
   },
   "outputs": [
    {
     "data": {
      "text/plain": [
       "'Eukaryota; Metazoa; Chordata; Craniata; Vertebrata; Euteleostomi; Mammalia; Eutheria; Euarchontoglires; Primates; Haplorrhini; Catarrhini; Hominidae; Homo'"
      ]
     },
     "execution_count": 71,
     "metadata": {},
     "output_type": "execute_result"
    }
   ],
   "source": [
    "search_results[0]['GBSeq_taxonomy']"
   ]
  },
  {
   "cell_type": "code",
   "execution_count": 72,
   "metadata": {
    "hidden": true
   },
   "outputs": [
    {
     "data": {
      "text/plain": [
       "{'GBReference_reference': '1', 'GBReference_position': '1..1182', 'GBReference_authors': ['Um JW', 'Choii G', 'Park D', 'Kim D', 'Jeon S', 'Kang H', 'Mori T', 'Papadopoulos T', 'Yoo T', 'Lee Y', 'Kim E', 'Tabuchi K', 'Ko J'], 'GBReference_title': 'IQ Motif and SEC7 Domain-containing Protein 3 (IQSEC3) Interacts with Gephyrin to Promote Inhibitory Synapse Formation', 'GBReference_journal': 'J. Biol. Chem. 291 (19), 10119-10130 (2016)', 'GBReference_xref': [{'GBXref_dbname': 'doi', 'GBXref_id': '10.1074/jbc.M115.712893'}], 'GBReference_pubmed': '27002143', 'GBReference_remark': 'GeneRIF: these data reveal that IQSEC3 acts together with gephyrin to regulate inhibitory synapse development.'}"
      ]
     },
     "execution_count": 72,
     "metadata": {},
     "output_type": "execute_result"
    }
   ],
   "source": [
    "search_results[0]['GBSeq_references'][0]"
   ]
  },
  {
   "cell_type": "code",
   "execution_count": 73,
   "metadata": {
    "hidden": true
   },
   "outputs": [
    {
     "data": {
      "text/plain": [
       "{'GBReference_reference': '2', 'GBReference_position': '1..1182', 'GBReference_authors': ['Turner ST', 'Bailey KR', 'Schwartz GL', 'Chapman AB', 'Chai HS', 'Boerwinkle E'], 'GBReference_title': 'Genomic association analysis identifies multiple loci influencing antihypertensive response to an angiotensin II receptor blocker', 'GBReference_journal': 'Hypertension 59 (6), 1204-1211 (2012)', 'GBReference_xref': [{'GBXref_dbname': 'doi', 'GBXref_id': '10.1161/HYP.0b013e31825b30f8'}], 'GBReference_pubmed': '22566498'}"
      ]
     },
     "execution_count": 73,
     "metadata": {},
     "output_type": "execute_result"
    }
   ],
   "source": [
    "search_results[0]['GBSeq_references'][1]"
   ]
  },
  {
   "cell_type": "code",
   "execution_count": 74,
   "metadata": {
    "hidden": true
   },
   "outputs": [
    {
     "data": {
      "text/plain": [
       "{'GBReference_reference': '3', 'GBReference_position': '1..1182', 'GBReference_authors': ['Hattori Y', 'Ohta S', 'Hamada K', 'Yamada-Okabe H', 'Kanemura Y', 'Matsuzaki Y', 'Okano H', 'Kawakami Y', 'Toda M'], 'GBReference_title': 'Identification of a neuron-specific human gene, KIAA1110, that is a guanine nucleotide exchange factor for ARF1', 'GBReference_journal': 'Biochem. Biophys. Res. Commun. 364 (4), 737-742 (2007)', 'GBReference_xref': [{'GBXref_dbname': 'doi', 'GBXref_id': '10.1016/j.bbrc.2007.10.041'}], 'GBReference_pubmed': '17981261', 'GBReference_remark': 'GeneRIF: These results suggest that KIAA1110 is expressed specifically in mature neurons and may play an important role in the secretion pathway as a GEF for ARF1.'}"
      ]
     },
     "execution_count": 74,
     "metadata": {},
     "output_type": "execute_result"
    }
   ],
   "source": [
    "search_results[0]['GBSeq_references'][2]"
   ]
  },
  {
   "cell_type": "code",
   "execution_count": 75,
   "metadata": {
    "hidden": true
   },
   "outputs": [
    {
     "data": {
      "text/plain": [
       "'VALIDATED REFSEQ: This record has undergone validation or preliminary review. The reference sequence was derived from AC026369.21 and AC007406.1.; ~Transcript Variant: This variant (1) represents the longer transcript and encodes the longer isoform (1).; ~Sequence Note: The RefSeq transcript and protein were derived from genomic sequence to make the sequence consistent with the reference genome assembly. The genomic coordinates used for the transcript record were based on transcript alignments and orthologous data.; ; ##Evidence-Data-START## ; RNAseq introns :: single sample supports all introns SAMEA2145743, SAMEA2154665 [ECO:0000348] ; ##Evidence-Data-END##; ; ##RefSeq-Attributes-START## ; MANE Ensembl match :: ENST00000538872.6/ ENSP00000437554.1 ; RefSeq Select criteria :: based on conservation, expression, longest protein ; ##RefSeq-Attributes-END##'"
      ]
     },
     "execution_count": 75,
     "metadata": {},
     "output_type": "execute_result"
    }
   ],
   "source": [
    "search_results[0]['GBSeq_comment']"
   ]
  },
  {
   "cell_type": "code",
   "execution_count": 76,
   "metadata": {
    "hidden": true
   },
   "outputs": [
    {
     "data": {
      "text/plain": [
       "'REFSEQ: accession NM_001170738.2'"
      ]
     },
     "execution_count": 76,
     "metadata": {},
     "output_type": "execute_result"
    }
   ],
   "source": [
    "search_results[0]['GBSeq_source-db']"
   ]
  },
  {
   "cell_type": "code",
   "execution_count": 77,
   "metadata": {
    "hidden": true
   },
   "outputs": [
    {
     "data": {
      "text/plain": [
       "9"
      ]
     },
     "execution_count": 77,
     "metadata": {},
     "output_type": "execute_result"
    }
   ],
   "source": [
    "len(search_results[0]['GBSeq_feature-table'])"
   ]
  },
  {
   "cell_type": "code",
   "execution_count": 78,
   "metadata": {
    "hidden": true
   },
   "outputs": [
    {
     "name": "stdout",
     "output_type": "stream",
     "text": [
      "{'GBFeature_key': 'source', 'GBFeature_location': '1..1182', 'GBFeature_intervals': [{'GBInterval_from': '1', 'GBInterval_to': '1182', 'GBInterval_accession': 'NP_001164209.1'}], 'GBFeature_quals': [{'GBQualifier_name': 'organism', 'GBQualifier_value': 'Homo sapiens'}, {'GBQualifier_name': 'db_xref', 'GBQualifier_value': 'taxon:9606'}, {'GBQualifier_name': 'chromosome', 'GBQualifier_value': '12'}, {'GBQualifier_name': 'map', 'GBQualifier_value': '12p13.33'}]}\n",
      "\n",
      "\n",
      "{'GBFeature_key': 'Protein', 'GBFeature_location': '1..1182', 'GBFeature_intervals': [{'GBInterval_from': '1', 'GBInterval_to': '1182', 'GBInterval_accession': 'NP_001164209.1'}], 'GBFeature_quals': [{'GBQualifier_name': 'product', 'GBQualifier_value': 'IQ motif and SEC7 domain-containing protein 3 isoform 1'}, {'GBQualifier_name': 'note', 'GBQualifier_value': 'IQ motif and SEC7 domain-containing protein 3; IQ motif and Sec7 domain 3'}, {'GBQualifier_name': 'calculated_mol_wt', 'GBQualifier_value': '127491'}]}\n",
      "\n",
      "\n",
      "{'GBFeature_key': 'Region', 'GBFeature_location': '<32..63', 'GBFeature_intervals': [{'GBInterval_from': '32', 'GBInterval_to': '63', 'GBInterval_accession': 'NP_001164209.1'}], 'GBFeature_partial5': StringElement('', attributes={'value': 'true'}), 'GBFeature_quals': [{'GBQualifier_name': 'region_name', 'GBQualifier_value': 'bZIP'}, {'GBQualifier_name': 'note', 'GBQualifier_value': 'Basic leucine zipper (bZIP) domain of bZIP transcription factors: a DNA-binding and dimerization domain; cd14686'}, {'GBQualifier_name': 'db_xref', 'GBQualifier_value': 'CDD:269834'}]}\n",
      "\n",
      "\n",
      "{'GBFeature_key': 'Site', 'GBFeature_location': 'order(32,35..36,39..40,42..43,46..47,49..50,53..54,56..57,60..61,63)', 'GBFeature_intervals': [{'GBInterval_point': '32', 'GBInterval_accession': 'NP_001164209.1'}, {'GBInterval_from': '35', 'GBInterval_to': '36', 'GBInterval_accession': 'NP_001164209.1'}, {'GBInterval_from': '39', 'GBInterval_to': '40', 'GBInterval_accession': 'NP_001164209.1'}, {'GBInterval_from': '42', 'GBInterval_to': '43', 'GBInterval_accession': 'NP_001164209.1'}, {'GBInterval_from': '46', 'GBInterval_to': '47', 'GBInterval_accession': 'NP_001164209.1'}, {'GBInterval_from': '49', 'GBInterval_to': '50', 'GBInterval_accession': 'NP_001164209.1'}, {'GBInterval_from': '53', 'GBInterval_to': '54', 'GBInterval_accession': 'NP_001164209.1'}, {'GBInterval_from': '56', 'GBInterval_to': '57', 'GBInterval_accession': 'NP_001164209.1'}, {'GBInterval_from': '60', 'GBInterval_to': '61', 'GBInterval_accession': 'NP_001164209.1'}, {'GBInterval_point': '63', 'GBInterval_accession': 'NP_001164209.1'}], 'GBFeature_operator': 'order', 'GBFeature_quals': [{'GBQualifier_name': 'site_type', 'GBQualifier_value': 'other'}, {'GBQualifier_name': 'note', 'GBQualifier_value': 'dimer interface [polypeptide binding]'}, {'GBQualifier_name': 'db_xref', 'GBQualifier_value': 'CDD:269834'}]}\n",
      "\n",
      "\n",
      "{'GBFeature_key': 'Site', 'GBFeature_location': '259', 'GBFeature_intervals': [{'GBInterval_point': '259', 'GBInterval_accession': 'NP_001164209.1'}], 'GBFeature_quals': [{'GBQualifier_name': 'site_type', 'GBQualifier_value': 'phosphorylation'}, {'GBQualifier_name': 'experiment', 'GBQualifier_value': 'experimental evidence, no additional details recorded'}, {'GBQualifier_name': 'note', 'GBQualifier_value': 'Phosphoserine. {ECO:0000250|UniProtKB:Q3TES0}; propagated from UniProtKB/Swiss-Prot (Q9UPP2.3)'}]}\n",
      "\n",
      "\n",
      "{'GBFeature_key': 'Region', 'GBFeature_location': '651..839', 'GBFeature_intervals': [{'GBInterval_from': '651', 'GBInterval_to': '839', 'GBInterval_accession': 'NP_001164209.1'}], 'GBFeature_quals': [{'GBQualifier_name': 'region_name', 'GBQualifier_value': 'Sec7'}, {'GBQualifier_name': 'note', 'GBQualifier_value': 'Sec7 domain; pfam01369'}, {'GBQualifier_name': 'db_xref', 'GBQualifier_value': 'CDD:279680'}]}\n",
      "\n",
      "\n",
      "{'GBFeature_key': 'Site', 'GBFeature_location': 'order(742..749,781..794)', 'GBFeature_intervals': [{'GBInterval_from': '742', 'GBInterval_to': '749', 'GBInterval_accession': 'NP_001164209.1'}, {'GBInterval_from': '781', 'GBInterval_to': '794', 'GBInterval_accession': 'NP_001164209.1'}], 'GBFeature_operator': 'order', 'GBFeature_quals': [{'GBQualifier_name': 'site_type', 'GBQualifier_value': 'active'}, {'GBQualifier_name': 'note', 'GBQualifier_value': 'active site/putative ARF binding site [active]'}, {'GBQualifier_name': 'db_xref', 'GBQualifier_value': 'CDD:238100'}]}\n",
      "\n",
      "\n",
      "{'GBFeature_key': 'Region', 'GBFeature_location': '866..996', 'GBFeature_intervals': [{'GBInterval_from': '866', 'GBInterval_to': '996', 'GBInterval_accession': 'NP_001164209.1'}], 'GBFeature_quals': [{'GBQualifier_name': 'region_name', 'GBQualifier_value': 'PH_IQSEC'}, {'GBQualifier_name': 'note', 'GBQualifier_value': 'IQ motif and SEC7 domain-containing protein family Pleckstrin homology domain; cd13318'}, {'GBQualifier_name': 'db_xref', 'GBQualifier_value': 'CDD:270128'}]}\n",
      "\n",
      "\n",
      "{'GBFeature_key': 'CDS', 'GBFeature_location': '1..1182', 'GBFeature_intervals': [{'GBInterval_from': '1', 'GBInterval_to': '1182', 'GBInterval_accession': 'NP_001164209.1'}], 'GBFeature_quals': [{'GBQualifier_name': 'gene', 'GBQualifier_value': 'IQSEC3'}, {'GBQualifier_name': 'coded_by', 'GBQualifier_value': 'NM_001170738.2:117..3665'}, {'GBQualifier_name': 'note', 'GBQualifier_value': 'isoform 1 is encoded by transcript variant 1'}, {'GBQualifier_name': 'transl_table', 'GBQualifier_value': '1'}, {'GBQualifier_name': 'db_xref', 'GBQualifier_value': 'CCDS:CCDS53728.1'}, {'GBQualifier_name': 'db_xref', 'GBQualifier_value': 'GeneID:440073'}, {'GBQualifier_name': 'db_xref', 'GBQualifier_value': 'HGNC:HGNC:29193'}, {'GBQualifier_name': 'db_xref', 'GBQualifier_value': 'MIM:612118'}]}\n",
      "\n",
      "\n"
     ]
    }
   ],
   "source": [
    "for feature in search_results[0]['GBSeq_feature-table']:\n",
    "    print(feature)\n",
    "    print('\\n')"
   ]
  },
  {
   "cell_type": "code",
   "execution_count": 79,
   "metadata": {
    "hidden": true
   },
   "outputs": [
    {
     "data": {
      "text/plain": [
       "dict_keys(['GBFeature_key', 'GBFeature_location', 'GBFeature_intervals', 'GBFeature_quals'])"
      ]
     },
     "execution_count": 79,
     "metadata": {},
     "output_type": "execute_result"
    }
   ],
   "source": [
    "search_results[0]['GBSeq_feature-table'][0].keys()"
   ]
  },
  {
   "cell_type": "code",
   "execution_count": 80,
   "metadata": {
    "hidden": true
   },
   "outputs": [
    {
     "name": "stdout",
     "output_type": "stream",
     "text": [
      "source\n",
      "1..1182\n",
      "{'GBInterval_from': '1', 'GBInterval_to': '1182', 'GBInterval_accession': 'NP_001164209.1'}\n",
      "1\n",
      "1182\n",
      "{'GBQualifier_name': 'organism', 'GBQualifier_value': 'Homo sapiens'}\n",
      "{'GBQualifier_name': 'db_xref', 'GBQualifier_value': 'taxon:9606'}\n",
      "{'GBQualifier_name': 'chromosome', 'GBQualifier_value': '12'}\n",
      "12\n"
     ]
    }
   ],
   "source": [
    "print(search_results[0]['GBSeq_feature-table'][0]['GBFeature_key'])\n",
    "print(search_results[0]['GBSeq_feature-table'][0]['GBFeature_location'])\n",
    "print(search_results[0]['GBSeq_feature-table'][0]['GBFeature_intervals'][0])\n",
    "print(search_results[0]['GBSeq_feature-table'][0]['GBFeature_intervals'][0]['GBInterval_from'])\n",
    "print(search_results[0]['GBSeq_feature-table'][0]['GBFeature_intervals'][0]['GBInterval_to'])\n",
    "print(search_results[0]['GBSeq_feature-table'][0]['GBFeature_quals'][0])\n",
    "print(search_results[0]['GBSeq_feature-table'][0]['GBFeature_quals'][1])\n",
    "print(search_results[0]['GBSeq_feature-table'][0]['GBFeature_quals'][2])\n",
    "print(search_results[0]['GBSeq_feature-table'][0]['GBFeature_quals'][2]['GBQualifier_value'])"
   ]
  },
  {
   "cell_type": "code",
   "execution_count": 81,
   "metadata": {
    "hidden": true
   },
   "outputs": [
    {
     "data": {
      "text/plain": [
       "dict_keys(['GBFeature_key', 'GBFeature_location', 'GBFeature_intervals', 'GBFeature_quals'])"
      ]
     },
     "execution_count": 81,
     "metadata": {},
     "output_type": "execute_result"
    }
   ],
   "source": [
    "search_results[0]['GBSeq_feature-table'][1].keys()"
   ]
  },
  {
   "cell_type": "code",
   "execution_count": 82,
   "metadata": {
    "hidden": true
   },
   "outputs": [
    {
     "name": "stdout",
     "output_type": "stream",
     "text": [
      "Protein\n",
      "1..1182\n",
      "{'GBInterval_from': '1', 'GBInterval_to': '1182', 'GBInterval_accession': 'NP_001164209.1'}\n",
      "1\n",
      "1182\n",
      "{'GBQualifier_name': 'product', 'GBQualifier_value': 'IQ motif and SEC7 domain-containing protein 3 isoform 1'}\n",
      "{'GBQualifier_name': 'note', 'GBQualifier_value': 'IQ motif and SEC7 domain-containing protein 3; IQ motif and Sec7 domain 3'}\n",
      "{'GBQualifier_name': 'calculated_mol_wt', 'GBQualifier_value': '127491'}\n",
      "127491\n"
     ]
    }
   ],
   "source": [
    "print(search_results[0]['GBSeq_feature-table'][1]['GBFeature_key'])\n",
    "print(search_results[0]['GBSeq_feature-table'][1]['GBFeature_location'])\n",
    "print(search_results[0]['GBSeq_feature-table'][1]['GBFeature_intervals'][0])\n",
    "print(search_results[0]['GBSeq_feature-table'][1]['GBFeature_intervals'][0]['GBInterval_from'])\n",
    "print(search_results[0]['GBSeq_feature-table'][1]['GBFeature_intervals'][0]['GBInterval_to'])\n",
    "print(search_results[0]['GBSeq_feature-table'][1]['GBFeature_quals'][0])\n",
    "print(search_results[0]['GBSeq_feature-table'][1]['GBFeature_quals'][1])\n",
    "print(search_results[0]['GBSeq_feature-table'][1]['GBFeature_quals'][2])\n",
    "print(search_results[0]['GBSeq_feature-table'][1]['GBFeature_quals'][2]['GBQualifier_value'])"
   ]
  },
  {
   "cell_type": "code",
   "execution_count": 83,
   "metadata": {
    "hidden": true
   },
   "outputs": [
    {
     "data": {
      "text/plain": [
       "dict_keys(['GBFeature_key', 'GBFeature_location', 'GBFeature_intervals', 'GBFeature_partial5', 'GBFeature_quals'])"
      ]
     },
     "execution_count": 83,
     "metadata": {},
     "output_type": "execute_result"
    }
   ],
   "source": [
    "search_results[0]['GBSeq_feature-table'][2].keys()"
   ]
  },
  {
   "cell_type": "code",
   "execution_count": 84,
   "metadata": {
    "hidden": true
   },
   "outputs": [
    {
     "name": "stdout",
     "output_type": "stream",
     "text": [
      "Region\n",
      "<32..63\n",
      "{'GBInterval_from': '32', 'GBInterval_to': '63', 'GBInterval_accession': 'NP_001164209.1'}\n",
      "32\n",
      "63\n",
      "\n",
      "{'GBQualifier_name': 'region_name', 'GBQualifier_value': 'bZIP'}\n",
      "{'GBQualifier_name': 'note', 'GBQualifier_value': 'Basic leucine zipper (bZIP) domain of bZIP transcription factors: a DNA-binding and dimerization domain; cd14686'}\n",
      "{'GBQualifier_name': 'db_xref', 'GBQualifier_value': 'CDD:269834'}\n",
      "CDD:269834\n"
     ]
    }
   ],
   "source": [
    "print(search_results[0]['GBSeq_feature-table'][2]['GBFeature_key'])\n",
    "print(search_results[0]['GBSeq_feature-table'][2]['GBFeature_location'])\n",
    "print(search_results[0]['GBSeq_feature-table'][2]['GBFeature_intervals'][0])\n",
    "print(search_results[0]['GBSeq_feature-table'][2]['GBFeature_intervals'][0]['GBInterval_from'])\n",
    "print(search_results[0]['GBSeq_feature-table'][2]['GBFeature_intervals'][0]['GBInterval_to'])\n",
    "print(search_results[0]['GBSeq_feature-table'][2]['GBFeature_partial5'])\n",
    "print(search_results[0]['GBSeq_feature-table'][2]['GBFeature_quals'][0])\n",
    "print(search_results[0]['GBSeq_feature-table'][2]['GBFeature_quals'][1])\n",
    "print(search_results[0]['GBSeq_feature-table'][2]['GBFeature_quals'][2])\n",
    "print(search_results[0]['GBSeq_feature-table'][2]['GBFeature_quals'][2]['GBQualifier_value'])"
   ]
  },
  {
   "cell_type": "code",
   "execution_count": 85,
   "metadata": {
    "hidden": true
   },
   "outputs": [
    {
     "data": {
      "text/plain": [
       "StringElement('', attributes={'value': 'true'})"
      ]
     },
     "execution_count": 85,
     "metadata": {},
     "output_type": "execute_result"
    }
   ],
   "source": [
    "search_results[0]['GBSeq_feature-table'][2]['GBFeature_partial5']"
   ]
  },
  {
   "cell_type": "code",
   "execution_count": 86,
   "metadata": {
    "hidden": true
   },
   "outputs": [
    {
     "data": {
      "text/plain": [
       "dict_keys(['GBFeature_key', 'GBFeature_location', 'GBFeature_intervals', 'GBFeature_operator', 'GBFeature_quals'])"
      ]
     },
     "execution_count": 86,
     "metadata": {},
     "output_type": "execute_result"
    }
   ],
   "source": [
    "search_results[0]['GBSeq_feature-table'][3].keys()"
   ]
  },
  {
   "cell_type": "code",
   "execution_count": 87,
   "metadata": {
    "hidden": true
   },
   "outputs": [
    {
     "name": "stdout",
     "output_type": "stream",
     "text": [
      "Site\n",
      "order(32,35..36,39..40,42..43,46..47,49..50,53..54,56..57,60..61,63)\n",
      "{'GBInterval_point': '32', 'GBInterval_accession': 'NP_001164209.1'}\n",
      "{'GBInterval_from': '35', 'GBInterval_to': '36', 'GBInterval_accession': 'NP_001164209.1'}\n",
      "{'GBInterval_from': '39', 'GBInterval_to': '40', 'GBInterval_accession': 'NP_001164209.1'}\n",
      "{'GBInterval_from': '42', 'GBInterval_to': '43', 'GBInterval_accession': 'NP_001164209.1'}\n",
      "{'GBInterval_from': '46', 'GBInterval_to': '47', 'GBInterval_accession': 'NP_001164209.1'}\n",
      "{'GBInterval_from': '49', 'GBInterval_to': '50', 'GBInterval_accession': 'NP_001164209.1'}\n",
      "{'GBInterval_from': '53', 'GBInterval_to': '54', 'GBInterval_accession': 'NP_001164209.1'}\n",
      "{'GBInterval_from': '56', 'GBInterval_to': '57', 'GBInterval_accession': 'NP_001164209.1'}\n",
      "{'GBInterval_from': '60', 'GBInterval_to': '61', 'GBInterval_accession': 'NP_001164209.1'}\n",
      "{'GBInterval_point': '63', 'GBInterval_accession': 'NP_001164209.1'}\n",
      "order\n",
      "{'GBQualifier_name': 'site_type', 'GBQualifier_value': 'other'}\n",
      "{'GBQualifier_name': 'note', 'GBQualifier_value': 'dimer interface [polypeptide binding]'}\n",
      "{'GBQualifier_name': 'db_xref', 'GBQualifier_value': 'CDD:269834'}\n"
     ]
    }
   ],
   "source": [
    "print(search_results[0]['GBSeq_feature-table'][3]['GBFeature_key'])\n",
    "print(search_results[0]['GBSeq_feature-table'][3]['GBFeature_location'])\n",
    "for i in range(0, len(search_results[0]['GBSeq_feature-table'][3]['GBFeature_intervals'])):\n",
    "    print(search_results[0]['GBSeq_feature-table'][3]['GBFeature_intervals'][i])\n",
    "print(search_results[0]['GBSeq_feature-table'][3]['GBFeature_operator'])\n",
    "for i in search_results[0]['GBSeq_feature-table'][3]['GBFeature_quals']:\n",
    "    print(i)"
   ]
  },
  {
   "cell_type": "code",
   "execution_count": 88,
   "metadata": {
    "hidden": true
   },
   "outputs": [
    {
     "data": {
      "text/plain": [
       "dict_keys(['GBFeature_key', 'GBFeature_location', 'GBFeature_intervals', 'GBFeature_quals'])"
      ]
     },
     "execution_count": 88,
     "metadata": {},
     "output_type": "execute_result"
    }
   ],
   "source": [
    "search_results[0]['GBSeq_feature-table'][4].keys()"
   ]
  },
  {
   "cell_type": "code",
   "execution_count": 89,
   "metadata": {
    "hidden": true
   },
   "outputs": [
    {
     "name": "stdout",
     "output_type": "stream",
     "text": [
      "Site\n",
      "259\n",
      "{'GBInterval_point': '259', 'GBInterval_accession': 'NP_001164209.1'}\n",
      "{'GBQualifier_name': 'site_type', 'GBQualifier_value': 'phosphorylation'}\n",
      "{'GBQualifier_name': 'experiment', 'GBQualifier_value': 'experimental evidence, no additional details recorded'}\n",
      "{'GBQualifier_name': 'note', 'GBQualifier_value': 'Phosphoserine. {ECO:0000250|UniProtKB:Q3TES0}; propagated from UniProtKB/Swiss-Prot (Q9UPP2.3)'}\n",
      "Phosphoserine. {ECO:0000250|UniProtKB:Q3TES0}; propagated from UniProtKB/Swiss-Prot (Q9UPP2.3)\n"
     ]
    }
   ],
   "source": [
    "print(search_results[0]['GBSeq_feature-table'][4]['GBFeature_key'])\n",
    "print(search_results[0]['GBSeq_feature-table'][4]['GBFeature_location'])\n",
    "print(search_results[0]['GBSeq_feature-table'][4]['GBFeature_intervals'][0])\n",
    "# print(search_results[0]['GBSeq_feature-table'][4]['GBFeature_intervals'][0]['GBInterval_from'])\n",
    "# print(search_results[0]['GBSeq_feature-table'][4]['GBFeature_intervals'][0]['GBInterval_to'])\n",
    "print(search_results[0]['GBSeq_feature-table'][4]['GBFeature_quals'][0])\n",
    "print(search_results[0]['GBSeq_feature-table'][4]['GBFeature_quals'][1])\n",
    "print(search_results[0]['GBSeq_feature-table'][4]['GBFeature_quals'][2])\n",
    "print(search_results[0]['GBSeq_feature-table'][4]['GBFeature_quals'][2]['GBQualifier_value'])"
   ]
  },
  {
   "cell_type": "code",
   "execution_count": 90,
   "metadata": {
    "hidden": true
   },
   "outputs": [
    {
     "data": {
      "text/plain": [
       "dict_keys(['GBFeature_key', 'GBFeature_location', 'GBFeature_intervals', 'GBFeature_quals'])"
      ]
     },
     "execution_count": 90,
     "metadata": {},
     "output_type": "execute_result"
    }
   ],
   "source": [
    "search_results[0]['GBSeq_feature-table'][5].keys()"
   ]
  },
  {
   "cell_type": "code",
   "execution_count": 91,
   "metadata": {
    "hidden": true
   },
   "outputs": [
    {
     "name": "stdout",
     "output_type": "stream",
     "text": [
      "Region\n",
      "651..839\n",
      "{'GBInterval_from': '651', 'GBInterval_to': '839', 'GBInterval_accession': 'NP_001164209.1'}\n",
      "651\n",
      "839\n",
      "{'GBQualifier_name': 'region_name', 'GBQualifier_value': 'Sec7'}\n",
      "{'GBQualifier_name': 'note', 'GBQualifier_value': 'Sec7 domain; pfam01369'}\n",
      "{'GBQualifier_name': 'db_xref', 'GBQualifier_value': 'CDD:279680'}\n",
      "CDD:279680\n"
     ]
    }
   ],
   "source": [
    "print(search_results[0]['GBSeq_feature-table'][5]['GBFeature_key'])\n",
    "print(search_results[0]['GBSeq_feature-table'][5]['GBFeature_location'])\n",
    "print(search_results[0]['GBSeq_feature-table'][5]['GBFeature_intervals'][0])\n",
    "print(search_results[0]['GBSeq_feature-table'][5]['GBFeature_intervals'][0]['GBInterval_from'])\n",
    "print(search_results[0]['GBSeq_feature-table'][5]['GBFeature_intervals'][0]['GBInterval_to'])\n",
    "print(search_results[0]['GBSeq_feature-table'][5]['GBFeature_quals'][0])\n",
    "print(search_results[0]['GBSeq_feature-table'][5]['GBFeature_quals'][1])\n",
    "print(search_results[0]['GBSeq_feature-table'][5]['GBFeature_quals'][2])\n",
    "print(search_results[0]['GBSeq_feature-table'][5]['GBFeature_quals'][2]['GBQualifier_value'])"
   ]
  },
  {
   "cell_type": "code",
   "execution_count": 92,
   "metadata": {
    "hidden": true
   },
   "outputs": [
    {
     "data": {
      "text/plain": [
       "dict_keys(['GBFeature_key', 'GBFeature_location', 'GBFeature_intervals', 'GBFeature_operator', 'GBFeature_quals'])"
      ]
     },
     "execution_count": 92,
     "metadata": {},
     "output_type": "execute_result"
    }
   ],
   "source": [
    "search_results[0]['GBSeq_feature-table'][6].keys()"
   ]
  },
  {
   "cell_type": "code",
   "execution_count": 93,
   "metadata": {
    "hidden": true
   },
   "outputs": [
    {
     "name": "stdout",
     "output_type": "stream",
     "text": [
      "Site\n",
      "order(742..749,781..794)\n",
      "{'GBInterval_from': '742', 'GBInterval_to': '749', 'GBInterval_accession': 'NP_001164209.1'}\n",
      "{'GBInterval_from': '781', 'GBInterval_to': '794', 'GBInterval_accession': 'NP_001164209.1'}\n",
      "order\n",
      "{'GBQualifier_name': 'site_type', 'GBQualifier_value': 'active'}\n",
      "{'GBQualifier_name': 'note', 'GBQualifier_value': 'active site/putative ARF binding site [active]'}\n",
      "{'GBQualifier_name': 'db_xref', 'GBQualifier_value': 'CDD:238100'}\n"
     ]
    }
   ],
   "source": [
    "print(search_results[0]['GBSeq_feature-table'][6]['GBFeature_key'])\n",
    "print(search_results[0]['GBSeq_feature-table'][6]['GBFeature_location'])\n",
    "for i in range(0, len(search_results[0]['GBSeq_feature-table'][6]['GBFeature_intervals'])):\n",
    "    print(search_results[0]['GBSeq_feature-table'][6]['GBFeature_intervals'][i])\n",
    "print(search_results[0]['GBSeq_feature-table'][6]['GBFeature_operator'])\n",
    "for i in search_results[0]['GBSeq_feature-table'][6]['GBFeature_quals']:\n",
    "    print(i)"
   ]
  },
  {
   "cell_type": "code",
   "execution_count": 94,
   "metadata": {
    "hidden": true
   },
   "outputs": [
    {
     "data": {
      "text/plain": [
       "dict_keys(['GBFeature_key', 'GBFeature_location', 'GBFeature_intervals', 'GBFeature_quals'])"
      ]
     },
     "execution_count": 94,
     "metadata": {},
     "output_type": "execute_result"
    }
   ],
   "source": [
    "search_results[0]['GBSeq_feature-table'][7].keys()"
   ]
  },
  {
   "cell_type": "code",
   "execution_count": 95,
   "metadata": {
    "hidden": true
   },
   "outputs": [
    {
     "name": "stdout",
     "output_type": "stream",
     "text": [
      "Region\n",
      "866..996\n",
      "{'GBInterval_from': '866', 'GBInterval_to': '996', 'GBInterval_accession': 'NP_001164209.1'}\n",
      "866\n",
      "996\n",
      "{'GBQualifier_name': 'region_name', 'GBQualifier_value': 'PH_IQSEC'}\n",
      "{'GBQualifier_name': 'note', 'GBQualifier_value': 'IQ motif and SEC7 domain-containing protein family Pleckstrin homology domain; cd13318'}\n",
      "{'GBQualifier_name': 'db_xref', 'GBQualifier_value': 'CDD:270128'}\n",
      "CDD:270128\n"
     ]
    }
   ],
   "source": [
    "print(search_results[0]['GBSeq_feature-table'][7]['GBFeature_key'])\n",
    "print(search_results[0]['GBSeq_feature-table'][7]['GBFeature_location'])\n",
    "print(search_results[0]['GBSeq_feature-table'][7]['GBFeature_intervals'][0])\n",
    "print(search_results[0]['GBSeq_feature-table'][7]['GBFeature_intervals'][0]['GBInterval_from'])\n",
    "print(search_results[0]['GBSeq_feature-table'][7]['GBFeature_intervals'][0]['GBInterval_to'])\n",
    "print(search_results[0]['GBSeq_feature-table'][7]['GBFeature_quals'][0])\n",
    "print(search_results[0]['GBSeq_feature-table'][7]['GBFeature_quals'][1])\n",
    "print(search_results[0]['GBSeq_feature-table'][7]['GBFeature_quals'][2])\n",
    "print(search_results[0]['GBSeq_feature-table'][7]['GBFeature_quals'][2]['GBQualifier_value'])"
   ]
  },
  {
   "cell_type": "code",
   "execution_count": 96,
   "metadata": {
    "hidden": true
   },
   "outputs": [
    {
     "data": {
      "text/plain": [
       "dict_keys(['GBFeature_key', 'GBFeature_location', 'GBFeature_intervals', 'GBFeature_quals'])"
      ]
     },
     "execution_count": 96,
     "metadata": {},
     "output_type": "execute_result"
    }
   ],
   "source": [
    "search_results[0]['GBSeq_feature-table'][8].keys()"
   ]
  },
  {
   "cell_type": "code",
   "execution_count": 97,
   "metadata": {
    "hidden": true
   },
   "outputs": [
    {
     "name": "stdout",
     "output_type": "stream",
     "text": [
      "CDS\n",
      "1..1182\n",
      "{'GBInterval_from': '1', 'GBInterval_to': '1182', 'GBInterval_accession': 'NP_001164209.1'}\n",
      "1\n",
      "1182\n",
      "{'GBQualifier_name': 'gene', 'GBQualifier_value': 'IQSEC3'}\n",
      "{'GBQualifier_name': 'coded_by', 'GBQualifier_value': 'NM_001170738.2:117..3665'}\n",
      "{'GBQualifier_name': 'note', 'GBQualifier_value': 'isoform 1 is encoded by transcript variant 1'}\n",
      "isoform 1 is encoded by transcript variant 1\n"
     ]
    }
   ],
   "source": [
    "print(search_results[0]['GBSeq_feature-table'][8]['GBFeature_key'])\n",
    "print(search_results[0]['GBSeq_feature-table'][8]['GBFeature_location'])\n",
    "print(search_results[0]['GBSeq_feature-table'][8]['GBFeature_intervals'][0])\n",
    "print(search_results[0]['GBSeq_feature-table'][8]['GBFeature_intervals'][0]['GBInterval_from'])\n",
    "print(search_results[0]['GBSeq_feature-table'][8]['GBFeature_intervals'][0]['GBInterval_to'])\n",
    "print(search_results[0]['GBSeq_feature-table'][8]['GBFeature_quals'][0])\n",
    "print(search_results[0]['GBSeq_feature-table'][8]['GBFeature_quals'][1])\n",
    "print(search_results[0]['GBSeq_feature-table'][8]['GBFeature_quals'][2])\n",
    "print(search_results[0]['GBSeq_feature-table'][8]['GBFeature_quals'][2]['GBQualifier_value'])"
   ]
  },
  {
   "cell_type": "code",
   "execution_count": 98,
   "metadata": {
    "hidden": true
   },
   "outputs": [
    {
     "data": {
      "text/plain": [
       "'mesllenpvravlylkeltaivqnqqslihtqreridelerrldelsaenrslwehqqllqaqpppglvppssaplpaapatapaaaaraqeplqdqgqrsaaaphpapdrpprqhhgqlleqpqrgpgsrahtpqsphkhlgtqgavtdkekerppsccaaagallqhkspsalgkgvlsrrpenetvlhqfccpaadacsdlasqsdgsctqagggmedsvvaaaavaagrpsahapkaqaqelqeeeerpgagaaspragpqhkaspgrqqpalatalcphapaasdyelsldlknkqiemlehkygghlvsrraactiqtafrqyqlsknfekirnsllesrlprrislrkvrsptaeslaaekalmegyglvglplvrspslpptfagtlteledsfteqvqslaksiddalstwslktmcslresgayqlhqalqaaagppgleaegrapesagpgpgddaaetpglppahsgtlmmafrdvtvqianqnisvssstalsvanclgaqtvqapaepaagkaeqgetsgreapeapavgredasaedscaeaaasgaadgatapkteeeeeeeetaevgrgaeaeagdleqlsssststksaksgseasasaskdalqamilslpryhcenpascksptlstdtlrkrlyriglnlfninpdkgiqflisrgfipdtpigvahfllqrkglsrqmigeflgnskkqfnrdvldcvvdemdfssmeldealrkfqahirvqgeaqkverlieafsqrycmcnpevvqqfhnpdtifilafaiillntdmyspnikpdrkmmledfirnlrgvddgadiprelvvgiyeriqqkelksnedhvtyvtkveksivgmktvlsvphrrlvccsrlfevtdvnklqkqaahqrevflfndllvilklcpkkkssstytfcksvgllgmqfqlfeneyyshgitlvtplsgsekkqvlhfcalgsdemqkfvedlkesiaevteleqiriewelekqqgtktlsfkpcgaqgdpqskqgsptakreaalrerpaestvevsihnrlqtsqhnsglgaergapvpppdlqpspprqqtpplppppptppgtlvqcqqivkvivldkpclarmepllsqalscytssssdscgstplggpgspvkvthqpplppppppynhphqfcppgsllhghryssgsrslv'"
      ]
     },
     "execution_count": 98,
     "metadata": {},
     "output_type": "execute_result"
    }
   ],
   "source": [
    "search_results[0]['GBSeq_sequence']"
   ]
  },
  {
   "cell_type": "markdown",
   "metadata": {
    "heading_collapsed": true
   },
   "source": [
    "### For multiple records"
   ]
  },
  {
   "cell_type": "code",
   "execution_count": 101,
   "metadata": {
    "hidden": true
   },
   "outputs": [],
   "source": [
    "results = Entrez.read(Entrez.efetch(db=\"protein\", webenv=webenv, query_key=query_key, retmode='xml'))"
   ]
  },
  {
   "cell_type": "code",
   "execution_count": 102,
   "metadata": {
    "hidden": true
   },
   "outputs": [
    {
     "data": {
      "text/plain": [
       "2"
      ]
     },
     "execution_count": 102,
     "metadata": {},
     "output_type": "execute_result"
    }
   ],
   "source": [
    "len(results)"
   ]
  },
  {
   "cell_type": "markdown",
   "metadata": {},
   "source": [
    "## Explore Database Conclusions"
   ]
  },
  {
   "cell_type": "markdown",
   "metadata": {},
   "source": [
    "I need to pull out the following information:\n",
    "- GBSeq_sequence\n",
    "- GBSeq_references using line comprehension --> not in every entry\n",
    "- GBSeq_organism\n",
    "- GBSeq_accession-version\n",
    "- GBSeq_definition\n",
    "- GBSeq_division\n",
    "- GBSeq_topology\n",
    "- GBSeq_moltype\n",
    "- ['GBSeq_feature-table'][0]['GBFeature_key'] == 'source', then ['GBSeq_feature-table'][0]['GBFeature_quals'][2]['GBQualifier_value'] # for chromosome #\n",
    "- ['GBSeq_feature-table'][1]['GBFeature_key'] == 'Protein', ['GBSeq_feature-table'][1]['GBFeature_quals'][2]['GBQualifier_value'] # for molar weight\n",
    " - count 'GBSeq_feature-table[x]['GBFeature_key'] == 'Region'\n",
    " - count 'GBSeq_feature-table[x]['GBFeature_key'] == 'Site'"
   ]
  },
  {
   "cell_type": "code",
   "execution_count": 103,
   "metadata": {},
   "outputs": [],
   "source": [
    "protein_additional_data = pd.DataFrame()\n",
    "accession_version = []\n",
    "definition = []\n",
    "division = []\n",
    "topology = []\n",
    "moltype = []\n",
    "organism = []\n",
    "sequence = []\n",
    "chromosome = []\n",
    "molar_weight = []\n",
    "regions = []\n",
    "sites = []\n",
    "for i in results:\n",
    "    region = 0\n",
    "    site = 0\n",
    "    accession_version.append(i['GBSeq_accession-version'])\n",
    "    organism.append(i['GBSeq_organism'])\n",
    "    definition.append(i['GBSeq_definition'])\n",
    "    division.append(i['GBSeq_division'])\n",
    "    topology.append(i['GBSeq_topology'])\n",
    "    moltype.append(i['GBSeq_moltype'])\n",
    "    sequence.append(i['GBSeq_sequence'])\n",
    "    if i['GBSeq_feature-table'][0]['GBFeature_key'] == 'source':\n",
    "        chromosome.append(i['GBSeq_feature-table'][0]['GBFeature_quals'][2]['GBQualifier_value'])\n",
    "    else:\n",
    "        continue\n",
    "    if i['GBSeq_feature-table'][1]['GBFeature_key'] == 'Protein':\n",
    "        if i['GBSeq_feature-table'][1]['GBFeature_quals'][0]['GBQualifier_name'] == 'calculated_mol_wt':\n",
    "            molar_weight.append(i['GBSeq_feature-table'][1]['GBFeature_quals'][0]['GBQualifier_value'])\n",
    "        elif i['GBSeq_feature-table'][1]['GBFeature_quals'][1]['GBQualifier_name'] == 'calculated_mol_wt':\n",
    "            molar_weight.append(i['GBSeq_feature-table'][1]['GBFeature_quals'][1]['GBQualifier_value'])\n",
    "        elif i['GBSeq_feature-table'][1]['GBFeature_quals'][2]['GBQualifier_name'] == 'calculated_mol_wt':\n",
    "            molar_weight.append(i['GBSeq_feature-table'][1]['GBFeature_quals'][2]['GBQualifier_value'])\n",
    "        else:\n",
    "            print('add more elif statements')\n",
    "    else:\n",
    "        continue\n",
    "    for j in range(0, len(i['GBSeq_feature-table'])):\n",
    "        if i['GBSeq_feature-table'][j]['GBFeature_key'] == 'Region':\n",
    "            region += 1\n",
    "        else:\n",
    "            continue\n",
    "    for j in range(0, len(i['GBSeq_feature-table'])):\n",
    "        if i['GBSeq_feature-table'][j]['GBFeature_key'] == 'Site':\n",
    "            site += 1\n",
    "        else:\n",
    "            continue\n",
    "    regions.append(region)\n",
    "    sites.append(site)\n",
    "protein_additional_data['Chromosome'] = chromosome\n",
    "protein_additional_data['Accesion Version'] = accession_version\n",
    "protein_additional_data['Organism'] = organism\n",
    "protein_additional_data['Definition'] = definition\n",
    "protein_additional_data['Division'] = division\n",
    "protein_additional_data['Topology'] = topology\n",
    "protein_additional_data['Molecule Type'] = moltype\n",
    "protein_additional_data['Molecular Weight'] = molar_weight\n",
    "protein_additional_data['Number of Regions'] = regions\n",
    "protein_additional_data['Number of Binding Sites'] = sites\n",
    "protein_additional_data['Sequence'] = sequence"
   ]
  },
  {
   "cell_type": "code",
   "execution_count": 104,
   "metadata": {},
   "outputs": [
    {
     "data": {
      "text/html": [
       "<div>\n",
       "<style scoped>\n",
       "    .dataframe tbody tr th:only-of-type {\n",
       "        vertical-align: middle;\n",
       "    }\n",
       "\n",
       "    .dataframe tbody tr th {\n",
       "        vertical-align: top;\n",
       "    }\n",
       "\n",
       "    .dataframe thead th {\n",
       "        text-align: right;\n",
       "    }\n",
       "</style>\n",
       "<table border=\"1\" class=\"dataframe\">\n",
       "  <thead>\n",
       "    <tr style=\"text-align: right;\">\n",
       "      <th></th>\n",
       "      <th>Chromosome</th>\n",
       "      <th>Accesion Version</th>\n",
       "      <th>Organism</th>\n",
       "      <th>Definition</th>\n",
       "      <th>Division</th>\n",
       "      <th>Topology</th>\n",
       "      <th>Molecule Type</th>\n",
       "      <th>Molecular Weight</th>\n",
       "      <th>Number of Regions</th>\n",
       "      <th>Number of Binding Sites</th>\n",
       "      <th>Sequence</th>\n",
       "    </tr>\n",
       "  </thead>\n",
       "  <tbody>\n",
       "    <tr>\n",
       "      <td>0</td>\n",
       "      <td>12</td>\n",
       "      <td>NP_001164209.1</td>\n",
       "      <td>Homo sapiens</td>\n",
       "      <td>IQ motif and SEC7 domain-containing protein 3 ...</td>\n",
       "      <td>PRI</td>\n",
       "      <td>linear</td>\n",
       "      <td>AA</td>\n",
       "      <td>127491</td>\n",
       "      <td>3</td>\n",
       "      <td>3</td>\n",
       "      <td>mesllenpvravlylkeltaivqnqqslihtqreridelerrldel...</td>\n",
       "    </tr>\n",
       "    <tr>\n",
       "      <td>1</td>\n",
       "      <td>12</td>\n",
       "      <td>XP_016874800.1</td>\n",
       "      <td>Homo sapiens</td>\n",
       "      <td>IQ motif and SEC7 domain-containing protein 3 ...</td>\n",
       "      <td>PRI</td>\n",
       "      <td>linear</td>\n",
       "      <td>AA</td>\n",
       "      <td>112808</td>\n",
       "      <td>0</td>\n",
       "      <td>0</td>\n",
       "      <td>mesllenpvravlylkeltaivqnqqslihtqreridelerrldel...</td>\n",
       "    </tr>\n",
       "  </tbody>\n",
       "</table>\n",
       "</div>"
      ],
      "text/plain": [
       "  Chromosome Accesion Version      Organism  \\\n",
       "0         12   NP_001164209.1  Homo sapiens   \n",
       "1         12   XP_016874800.1  Homo sapiens   \n",
       "\n",
       "                                          Definition Division Topology  \\\n",
       "0  IQ motif and SEC7 domain-containing protein 3 ...      PRI   linear   \n",
       "1  IQ motif and SEC7 domain-containing protein 3 ...      PRI   linear   \n",
       "\n",
       "  Molecule Type Molecular Weight  Number of Regions  Number of Binding Sites  \\\n",
       "0            AA           127491                  3                        3   \n",
       "1            AA           112808                  0                        0   \n",
       "\n",
       "                                            Sequence  \n",
       "0  mesllenpvravlylkeltaivqnqqslihtqreridelerrldel...  \n",
       "1  mesllenpvravlylkeltaivqnqqslihtqreridelerrldel...  "
      ]
     },
     "execution_count": 104,
     "metadata": {},
     "output_type": "execute_result"
    }
   ],
   "source": [
    "protein_additional_data"
   ]
  },
  {
   "cell_type": "markdown",
   "metadata": {},
   "source": [
    "# Chromosome and Protein Information"
   ]
  },
  {
   "cell_type": "code",
   "execution_count": 8,
   "metadata": {},
   "outputs": [],
   "source": [
    "reference_accession_numbers_dna = dna_data['RefSeq-Accn'].unique()"
   ]
  },
  {
   "cell_type": "code",
   "execution_count": 9,
   "metadata": {},
   "outputs": [
    {
     "data": {
      "text/html": [
       "<div>\n",
       "<style scoped>\n",
       "    .dataframe tbody tr th:only-of-type {\n",
       "        vertical-align: middle;\n",
       "    }\n",
       "\n",
       "    .dataframe tbody tr th {\n",
       "        vertical-align: top;\n",
       "    }\n",
       "\n",
       "    .dataframe thead th {\n",
       "        text-align: right;\n",
       "    }\n",
       "</style>\n",
       "<table border=\"1\" class=\"dataframe\">\n",
       "  <thead>\n",
       "    <tr style=\"text-align: right;\">\n",
       "      <th></th>\n",
       "      <th>Accession Number</th>\n",
       "      <th>Number of Proteins</th>\n",
       "    </tr>\n",
       "  </thead>\n",
       "  <tbody>\n",
       "    <tr>\n",
       "      <td>0</td>\n",
       "      <td>NC_000001.11</td>\n",
       "      <td>11086</td>\n",
       "    </tr>\n",
       "    <tr>\n",
       "      <td>1</td>\n",
       "      <td>NC_000002.12</td>\n",
       "      <td>8442</td>\n",
       "    </tr>\n",
       "    <tr>\n",
       "      <td>2</td>\n",
       "      <td>NC_000003.12</td>\n",
       "      <td>7198</td>\n",
       "    </tr>\n",
       "    <tr>\n",
       "      <td>3</td>\n",
       "      <td>NC_000004.12</td>\n",
       "      <td>4622</td>\n",
       "    </tr>\n",
       "    <tr>\n",
       "      <td>4</td>\n",
       "      <td>NC_000005.10</td>\n",
       "      <td>4796</td>\n",
       "    </tr>\n",
       "    <tr>\n",
       "      <td>5</td>\n",
       "      <td>NC_000006.12</td>\n",
       "      <td>5618</td>\n",
       "    </tr>\n",
       "    <tr>\n",
       "      <td>6</td>\n",
       "      <td>NC_000007.14</td>\n",
       "      <td>5212</td>\n",
       "    </tr>\n",
       "    <tr>\n",
       "      <td>7</td>\n",
       "      <td>NC_000008.11</td>\n",
       "      <td>4090</td>\n",
       "    </tr>\n",
       "    <tr>\n",
       "      <td>8</td>\n",
       "      <td>NC_000009.12</td>\n",
       "      <td>4652</td>\n",
       "    </tr>\n",
       "    <tr>\n",
       "      <td>9</td>\n",
       "      <td>NC_000010.11</td>\n",
       "      <td>5420</td>\n",
       "    </tr>\n",
       "    <tr>\n",
       "      <td>10</td>\n",
       "      <td>NC_000011.10</td>\n",
       "      <td>6710</td>\n",
       "    </tr>\n",
       "    <tr>\n",
       "      <td>11</td>\n",
       "      <td>NC_000012.12</td>\n",
       "      <td>5957</td>\n",
       "    </tr>\n",
       "    <tr>\n",
       "      <td>12</td>\n",
       "      <td>NC_000013.11</td>\n",
       "      <td>2019</td>\n",
       "    </tr>\n",
       "    <tr>\n",
       "      <td>13</td>\n",
       "      <td>NC_000014.9</td>\n",
       "      <td>3493</td>\n",
       "    </tr>\n",
       "    <tr>\n",
       "      <td>14</td>\n",
       "      <td>NC_000015.10</td>\n",
       "      <td>3548</td>\n",
       "    </tr>\n",
       "    <tr>\n",
       "      <td>15</td>\n",
       "      <td>NC_000016.10</td>\n",
       "      <td>4575</td>\n",
       "    </tr>\n",
       "    <tr>\n",
       "      <td>16</td>\n",
       "      <td>NC_000017.11</td>\n",
       "      <td>6096</td>\n",
       "    </tr>\n",
       "    <tr>\n",
       "      <td>17</td>\n",
       "      <td>NC_000018.10</td>\n",
       "      <td>2038</td>\n",
       "    </tr>\n",
       "    <tr>\n",
       "      <td>18</td>\n",
       "      <td>NC_000019.10</td>\n",
       "      <td>6702</td>\n",
       "    </tr>\n",
       "    <tr>\n",
       "      <td>19</td>\n",
       "      <td>NC_000020.11</td>\n",
       "      <td>2805</td>\n",
       "    </tr>\n",
       "    <tr>\n",
       "      <td>20</td>\n",
       "      <td>NC_000021.9</td>\n",
       "      <td>1286</td>\n",
       "    </tr>\n",
       "    <tr>\n",
       "      <td>21</td>\n",
       "      <td>NC_000022.11</td>\n",
       "      <td>2508</td>\n",
       "    </tr>\n",
       "    <tr>\n",
       "      <td>22</td>\n",
       "      <td>NC_000023.11</td>\n",
       "      <td>3803</td>\n",
       "    </tr>\n",
       "  </tbody>\n",
       "</table>\n",
       "</div>"
      ],
      "text/plain": [
       "   Accession Number  Number of Proteins\n",
       "0      NC_000001.11               11086\n",
       "1      NC_000002.12                8442\n",
       "2      NC_000003.12                7198\n",
       "3      NC_000004.12                4622\n",
       "4      NC_000005.10                4796\n",
       "5      NC_000006.12                5618\n",
       "6      NC_000007.14                5212\n",
       "7      NC_000008.11                4090\n",
       "8      NC_000009.12                4652\n",
       "9      NC_000010.11                5420\n",
       "10     NC_000011.10                6710\n",
       "11     NC_000012.12                5957\n",
       "12     NC_000013.11                2019\n",
       "13      NC_000014.9                3493\n",
       "14     NC_000015.10                3548\n",
       "15     NC_000016.10                4575\n",
       "16     NC_000017.11                6096\n",
       "17     NC_000018.10                2038\n",
       "18     NC_000019.10                6702\n",
       "19     NC_000020.11                2805\n",
       "20      NC_000021.9                1286\n",
       "21     NC_000022.11                2508\n",
       "22     NC_000023.11                3803"
      ]
     },
     "execution_count": 9,
     "metadata": {},
     "output_type": "execute_result"
    }
   ],
   "source": [
    "decision_about_chromosome = pd.DataFrame()\n",
    "accession_numbers = dna_data['RefSeq-Accn'].unique()\n",
    "number_of_proteins = []\n",
    "for accession_number in reference_accession_numbers_dna:\n",
    "    number_of_proteins.append(len(protein_data[protein_data['Replicon Accession']==accession_number]))\n",
    "decision_about_chromosome['Accession Number'] = accession_numbers\n",
    "decision_about_chromosome['Number of Proteins'] = number_of_proteins\n",
    "decision_about_chromosome[decision_about_chromosome['Number of Proteins'] >= 1000]"
   ]
  },
  {
   "cell_type": "code",
   "execution_count": 10,
   "metadata": {},
   "outputs": [
    {
     "data": {
      "text/plain": [
       "['XP_006723962.1',\n",
       " 'XP_011544381.1',\n",
       " 'XP_011544380.1',\n",
       " 'NP_001350699.1',\n",
       " 'NP_001350689.1',\n",
       " 'NP_001350690.1',\n",
       " 'NP_001350687.1',\n",
       " 'NP_001355167.1',\n",
       " 'XP_011544384.3',\n",
       " 'XP_016883695.1']"
      ]
     },
     "execution_count": 10,
     "metadata": {},
     "output_type": "execute_result"
    }
   ],
   "source": [
    "protein_accession_numbers = list(protein_data[protein_data['Replicon Accession']=='NC_000021.9']['Protein product'])\n",
    "protein_accession_numbers[0:10]"
   ]
  },
  {
   "cell_type": "markdown",
   "metadata": {},
   "source": [
    "# Chromosome 21"
   ]
  },
  {
   "cell_type": "markdown",
   "metadata": {},
   "source": [
    "## Obtain Data Using API Calls to NCBI's Protein Database"
   ]
  },
  {
   "cell_type": "markdown",
   "metadata": {
    "heading_collapsed": true
   },
   "source": [
    "### First Batch"
   ]
  },
  {
   "cell_type": "code",
   "execution_count": 109,
   "metadata": {
    "hidden": true
   },
   "outputs": [],
   "source": [
    "# First batch\n",
    "Entrez.api_key = api_key\n",
    "Entrez.email = 'elizabethfawcett47@gmail.com'\n",
    "Entrez.tool = 'locus_by_amino_acid'\n",
    "id_list = protein_accession_numbers[0:200]\n",
    "search_results = Entrez.read(Entrez.epost(\"protein\", id=\",\".join(id_list)))"
   ]
  },
  {
   "cell_type": "code",
   "execution_count": 110,
   "metadata": {
    "hidden": true
   },
   "outputs": [],
   "source": [
    "webenv = search_results[\"WebEnv\"]\n",
    "query_key = search_results[\"QueryKey\"]"
   ]
  },
  {
   "cell_type": "code",
   "execution_count": 111,
   "metadata": {
    "hidden": true
   },
   "outputs": [],
   "source": [
    "results = Entrez.read(Entrez.efetch(db=\"protein\", webenv=webenv, query_key=query_key, retmode='xml'))"
   ]
  },
  {
   "cell_type": "code",
   "execution_count": 112,
   "metadata": {
    "hidden": true
   },
   "outputs": [],
   "source": [
    "protein_additional_data_1 = pd.DataFrame()\n",
    "accession_version = []\n",
    "definition = []\n",
    "division = []\n",
    "topology = []\n",
    "moltype = []\n",
    "organism = []\n",
    "sequence = []\n",
    "chromosome = []\n",
    "molar_weight = []\n",
    "regions = []\n",
    "sites = []\n",
    "for i in results:\n",
    "    region = 0\n",
    "    site = 0\n",
    "    accession_version.append(i['GBSeq_accession-version'])\n",
    "    organism.append(i['GBSeq_organism'])\n",
    "    definition.append(i['GBSeq_definition'])\n",
    "    division.append(i['GBSeq_division'])\n",
    "    topology.append(i['GBSeq_topology'])\n",
    "    moltype.append(i['GBSeq_moltype'])\n",
    "    sequence.append(i['GBSeq_sequence'])\n",
    "    if i['GBSeq_feature-table'][0]['GBFeature_key'] == 'source':\n",
    "        chromosome.append(i['GBSeq_feature-table'][0]['GBFeature_quals'][2]['GBQualifier_value'])\n",
    "    else:\n",
    "        continue\n",
    "    if i['GBSeq_feature-table'][1]['GBFeature_key'] == 'Protein':\n",
    "        if i['GBSeq_feature-table'][1]['GBFeature_quals'][0]['GBQualifier_name'] == 'calculated_mol_wt':\n",
    "            molar_weight.append(i['GBSeq_feature-table'][1]['GBFeature_quals'][0]['GBQualifier_value'])\n",
    "        elif i['GBSeq_feature-table'][1]['GBFeature_quals'][1]['GBQualifier_name'] == 'calculated_mol_wt':\n",
    "            molar_weight.append(i['GBSeq_feature-table'][1]['GBFeature_quals'][1]['GBQualifier_value'])\n",
    "        elif i['GBSeq_feature-table'][1]['GBFeature_quals'][2]['GBQualifier_name'] == 'calculated_mol_wt':\n",
    "            molar_weight.append(i['GBSeq_feature-table'][1]['GBFeature_quals'][2]['GBQualifier_value'])\n",
    "        elif i['GBSeq_feature-table'][1]['GBFeature_quals'][3]['GBQualifier_name'] == 'calculated_mol_wt':\n",
    "            molar_weight.append(i['GBSeq_feature-table'][1]['GBFeature_quals'][3]['GBQualifier_value'])\n",
    "        elif i['GBSeq_feature-table'][1]['GBFeature_quals'][4]['GBQualifier_name'] == 'calculated_mol_wt':\n",
    "            molar_weight.append(i['GBSeq_feature-table'][1]['GBFeature_quals'][4]['GBQualifier_value'])\n",
    "        elif i['GBSeq_feature-table'][1]['GBFeature_quals'][5]['GBQualifier_name'] == 'calculated_mol_wt':\n",
    "            molar_weight.append(i['GBSeq_feature-table'][1]['GBFeature_quals'][5]['GBQualifier_value'])\n",
    "        elif i['GBSeq_feature-table'][1]['GBFeature_quals'][6]['GBQualifier_name'] == 'calculated_mol_wt':\n",
    "            molar_weight.append(i['GBSeq_feature-table'][1]['GBFeature_quals'][6]['GBQualifier_value'])\n",
    "        else:\n",
    "            print('add more elif statements')\n",
    "    else:\n",
    "        continue\n",
    "    for j in range(0, len(i['GBSeq_feature-table'])):\n",
    "        if i['GBSeq_feature-table'][j]['GBFeature_key'] == 'Region':\n",
    "            region += 1\n",
    "        else:\n",
    "            continue\n",
    "    for j in range(0, len(i['GBSeq_feature-table'])):\n",
    "        if i['GBSeq_feature-table'][j]['GBFeature_key'] == 'Site':\n",
    "            site += 1\n",
    "        else:\n",
    "            continue\n",
    "    regions.append(region)\n",
    "    sites.append(site)\n",
    "protein_additional_data_1['Chromosome'] = chromosome\n",
    "protein_additional_data_1['Accession Version'] = accession_version\n",
    "protein_additional_data_1['Organism'] = organism\n",
    "protein_additional_data_1['Definition'] = definition\n",
    "protein_additional_data_1['Division'] = division\n",
    "protein_additional_data_1['Topology'] = topology\n",
    "protein_additional_data_1['Molecule Type'] = moltype\n",
    "protein_additional_data_1['Molecular Weight'] = molar_weight\n",
    "protein_additional_data_1['Number of Regions'] = regions\n",
    "protein_additional_data_1['Number of Binding Sites'] = sites\n",
    "protein_additional_data_1['Sequence'] = sequence"
   ]
  },
  {
   "cell_type": "code",
   "execution_count": 113,
   "metadata": {
    "hidden": true
   },
   "outputs": [
    {
     "data": {
      "text/html": [
       "<div>\n",
       "<style scoped>\n",
       "    .dataframe tbody tr th:only-of-type {\n",
       "        vertical-align: middle;\n",
       "    }\n",
       "\n",
       "    .dataframe tbody tr th {\n",
       "        vertical-align: top;\n",
       "    }\n",
       "\n",
       "    .dataframe thead th {\n",
       "        text-align: right;\n",
       "    }\n",
       "</style>\n",
       "<table border=\"1\" class=\"dataframe\">\n",
       "  <thead>\n",
       "    <tr style=\"text-align: right;\">\n",
       "      <th></th>\n",
       "      <th>Chromosome</th>\n",
       "      <th>Accession Version</th>\n",
       "      <th>Organism</th>\n",
       "      <th>Definition</th>\n",
       "      <th>Division</th>\n",
       "      <th>Topology</th>\n",
       "      <th>Molecule Type</th>\n",
       "      <th>Molecular Weight</th>\n",
       "      <th>Number of Regions</th>\n",
       "      <th>Number of Binding Sites</th>\n",
       "      <th>Sequence</th>\n",
       "    </tr>\n",
       "  </thead>\n",
       "  <tbody>\n",
       "    <tr>\n",
       "      <td>0</td>\n",
       "      <td>21</td>\n",
       "      <td>XP_006723962.1</td>\n",
       "      <td>Homo sapiens</td>\n",
       "      <td>ICOS ligand isoform X1 [Homo sapiens]</td>\n",
       "      <td>PRI</td>\n",
       "      <td>linear</td>\n",
       "      <td>AA</td>\n",
       "      <td>56181</td>\n",
       "      <td>2</td>\n",
       "      <td>0</td>\n",
       "      <td>mrlgspgllfllfsslradtqekevramvgsdvelscacpegsrfd...</td>\n",
       "    </tr>\n",
       "    <tr>\n",
       "      <td>1</td>\n",
       "      <td>21</td>\n",
       "      <td>XP_011544381.1</td>\n",
       "      <td>Homo sapiens</td>\n",
       "      <td>ICOS ligand isoform X3 [Homo sapiens]</td>\n",
       "      <td>PRI</td>\n",
       "      <td>linear</td>\n",
       "      <td>AA</td>\n",
       "      <td>33350</td>\n",
       "      <td>2</td>\n",
       "      <td>0</td>\n",
       "      <td>mrlgspgllfllfsslradtqekevramvgsdvelscacpegsrfd...</td>\n",
       "    </tr>\n",
       "    <tr>\n",
       "      <td>2</td>\n",
       "      <td>21</td>\n",
       "      <td>XP_011544380.1</td>\n",
       "      <td>Homo sapiens</td>\n",
       "      <td>ICOS ligand isoform X2 [Homo sapiens]</td>\n",
       "      <td>PRI</td>\n",
       "      <td>linear</td>\n",
       "      <td>AA</td>\n",
       "      <td>39507</td>\n",
       "      <td>2</td>\n",
       "      <td>0</td>\n",
       "      <td>mrlgspgllfllfsslradtqekevramvgsdvelscacpegsrfd...</td>\n",
       "    </tr>\n",
       "    <tr>\n",
       "      <td>3</td>\n",
       "      <td>21</td>\n",
       "      <td>NP_001350699.1</td>\n",
       "      <td>Homo sapiens</td>\n",
       "      <td>ICOS ligand precursor [Homo sapiens]</td>\n",
       "      <td>PRI</td>\n",
       "      <td>linear</td>\n",
       "      <td>AA</td>\n",
       "      <td>31389</td>\n",
       "      <td>2</td>\n",
       "      <td>0</td>\n",
       "      <td>mrlgspgllfllfsslradtqekevramvgsdvelscacpegsrfd...</td>\n",
       "    </tr>\n",
       "    <tr>\n",
       "      <td>4</td>\n",
       "      <td>21</td>\n",
       "      <td>NP_001350689.1</td>\n",
       "      <td>Homo sapiens</td>\n",
       "      <td>glutamine amidotransferase-like class 1 domain...</td>\n",
       "      <td>PRI</td>\n",
       "      <td>linear</td>\n",
       "      <td>AA</td>\n",
       "      <td>24598</td>\n",
       "      <td>1</td>\n",
       "      <td>1</td>\n",
       "      <td>maavralvasrlaaasaftslspggrtpsqraalhlsvprpaarva...</td>\n",
       "    </tr>\n",
       "    <tr>\n",
       "      <td>...</td>\n",
       "      <td>...</td>\n",
       "      <td>...</td>\n",
       "      <td>...</td>\n",
       "      <td>...</td>\n",
       "      <td>...</td>\n",
       "      <td>...</td>\n",
       "      <td>...</td>\n",
       "      <td>...</td>\n",
       "      <td>...</td>\n",
       "      <td>...</td>\n",
       "      <td>...</td>\n",
       "    </tr>\n",
       "    <tr>\n",
       "      <td>195</td>\n",
       "      <td>21</td>\n",
       "      <td>XP_024307892.1</td>\n",
       "      <td>Homo sapiens</td>\n",
       "      <td>junctional adhesion molecule B isoform X1 [Hom...</td>\n",
       "      <td>PRI</td>\n",
       "      <td>linear</td>\n",
       "      <td>AA</td>\n",
       "      <td>22874</td>\n",
       "      <td>2</td>\n",
       "      <td>0</td>\n",
       "      <td>midfniriknvtrsdagkyrcevsapseqgqnleedtvtlevlvap...</td>\n",
       "    </tr>\n",
       "    <tr>\n",
       "      <td>196</td>\n",
       "      <td>21</td>\n",
       "      <td>NP_001003701.1</td>\n",
       "      <td>Homo sapiens</td>\n",
       "      <td>ATP synthase-coupling factor 6, mitochondrial ...</td>\n",
       "      <td>PRI</td>\n",
       "      <td>linear</td>\n",
       "      <td>AA</td>\n",
       "      <td>13257</td>\n",
       "      <td>1</td>\n",
       "      <td>0</td>\n",
       "      <td>mhcdggismilqrlfrfssvirsavsvhlrrnigvtavafnkeldp...</td>\n",
       "    </tr>\n",
       "    <tr>\n",
       "      <td>197</td>\n",
       "      <td>21</td>\n",
       "      <td>NP_001003697.1</td>\n",
       "      <td>Homo sapiens</td>\n",
       "      <td>ATP synthase-coupling factor 6, mitochondrial ...</td>\n",
       "      <td>PRI</td>\n",
       "      <td>linear</td>\n",
       "      <td>AA</td>\n",
       "      <td>8960</td>\n",
       "      <td>1</td>\n",
       "      <td>9</td>\n",
       "      <td>milqrlfrfssvirsavsvhlrrnigvtavafnkeldpiqklfvdk...</td>\n",
       "    </tr>\n",
       "    <tr>\n",
       "      <td>198</td>\n",
       "      <td>21</td>\n",
       "      <td>NP_001003696.1</td>\n",
       "      <td>Homo sapiens</td>\n",
       "      <td>ATP synthase-coupling factor 6, mitochondrial ...</td>\n",
       "      <td>PRI</td>\n",
       "      <td>linear</td>\n",
       "      <td>AA</td>\n",
       "      <td>8960</td>\n",
       "      <td>1</td>\n",
       "      <td>9</td>\n",
       "      <td>milqrlfrfssvirsavsvhlrrnigvtavafnkeldpiqklfvdk...</td>\n",
       "    </tr>\n",
       "    <tr>\n",
       "      <td>199</td>\n",
       "      <td>21</td>\n",
       "      <td>NP_001307196.1</td>\n",
       "      <td>Homo sapiens</td>\n",
       "      <td>ATP synthase-coupling factor 6, mitochondrial ...</td>\n",
       "      <td>PRI</td>\n",
       "      <td>linear</td>\n",
       "      <td>AA</td>\n",
       "      <td>12456</td>\n",
       "      <td>1</td>\n",
       "      <td>9</td>\n",
       "      <td>milqrlfrfssvirsavsvhlrrnigvtavafnkeldpiqklfvdk...</td>\n",
       "    </tr>\n",
       "  </tbody>\n",
       "</table>\n",
       "<p>200 rows × 11 columns</p>\n",
       "</div>"
      ],
      "text/plain": [
       "    Chromosome Accession Version      Organism  \\\n",
       "0           21    XP_006723962.1  Homo sapiens   \n",
       "1           21    XP_011544381.1  Homo sapiens   \n",
       "2           21    XP_011544380.1  Homo sapiens   \n",
       "3           21    NP_001350699.1  Homo sapiens   \n",
       "4           21    NP_001350689.1  Homo sapiens   \n",
       "..         ...               ...           ...   \n",
       "195         21    XP_024307892.1  Homo sapiens   \n",
       "196         21    NP_001003701.1  Homo sapiens   \n",
       "197         21    NP_001003697.1  Homo sapiens   \n",
       "198         21    NP_001003696.1  Homo sapiens   \n",
       "199         21    NP_001307196.1  Homo sapiens   \n",
       "\n",
       "                                            Definition Division Topology  \\\n",
       "0                ICOS ligand isoform X1 [Homo sapiens]      PRI   linear   \n",
       "1                ICOS ligand isoform X3 [Homo sapiens]      PRI   linear   \n",
       "2                ICOS ligand isoform X2 [Homo sapiens]      PRI   linear   \n",
       "3                 ICOS ligand precursor [Homo sapiens]      PRI   linear   \n",
       "4    glutamine amidotransferase-like class 1 domain...      PRI   linear   \n",
       "..                                                 ...      ...      ...   \n",
       "195  junctional adhesion molecule B isoform X1 [Hom...      PRI   linear   \n",
       "196  ATP synthase-coupling factor 6, mitochondrial ...      PRI   linear   \n",
       "197  ATP synthase-coupling factor 6, mitochondrial ...      PRI   linear   \n",
       "198  ATP synthase-coupling factor 6, mitochondrial ...      PRI   linear   \n",
       "199  ATP synthase-coupling factor 6, mitochondrial ...      PRI   linear   \n",
       "\n",
       "    Molecule Type Molecular Weight  Number of Regions  \\\n",
       "0              AA            56181                  2   \n",
       "1              AA            33350                  2   \n",
       "2              AA            39507                  2   \n",
       "3              AA            31389                  2   \n",
       "4              AA            24598                  1   \n",
       "..            ...              ...                ...   \n",
       "195            AA            22874                  2   \n",
       "196            AA            13257                  1   \n",
       "197            AA             8960                  1   \n",
       "198            AA             8960                  1   \n",
       "199            AA            12456                  1   \n",
       "\n",
       "     Number of Binding Sites  \\\n",
       "0                          0   \n",
       "1                          0   \n",
       "2                          0   \n",
       "3                          0   \n",
       "4                          1   \n",
       "..                       ...   \n",
       "195                        0   \n",
       "196                        0   \n",
       "197                        9   \n",
       "198                        9   \n",
       "199                        9   \n",
       "\n",
       "                                              Sequence  \n",
       "0    mrlgspgllfllfsslradtqekevramvgsdvelscacpegsrfd...  \n",
       "1    mrlgspgllfllfsslradtqekevramvgsdvelscacpegsrfd...  \n",
       "2    mrlgspgllfllfsslradtqekevramvgsdvelscacpegsrfd...  \n",
       "3    mrlgspgllfllfsslradtqekevramvgsdvelscacpegsrfd...  \n",
       "4    maavralvasrlaaasaftslspggrtpsqraalhlsvprpaarva...  \n",
       "..                                                 ...  \n",
       "195  midfniriknvtrsdagkyrcevsapseqgqnleedtvtlevlvap...  \n",
       "196  mhcdggismilqrlfrfssvirsavsvhlrrnigvtavafnkeldp...  \n",
       "197  milqrlfrfssvirsavsvhlrrnigvtavafnkeldpiqklfvdk...  \n",
       "198  milqrlfrfssvirsavsvhlrrnigvtavafnkeldpiqklfvdk...  \n",
       "199  milqrlfrfssvirsavsvhlrrnigvtavafnkeldpiqklfvdk...  \n",
       "\n",
       "[200 rows x 11 columns]"
      ]
     },
     "execution_count": 113,
     "metadata": {},
     "output_type": "execute_result"
    }
   ],
   "source": [
    "protein_additional_data_1"
   ]
  },
  {
   "cell_type": "code",
   "execution_count": 114,
   "metadata": {
    "hidden": true
   },
   "outputs": [],
   "source": [
    "import time\n",
    "time.sleep(10)"
   ]
  },
  {
   "cell_type": "markdown",
   "metadata": {
    "heading_collapsed": true
   },
   "source": [
    "### Subsequent Batches"
   ]
  },
  {
   "cell_type": "code",
   "execution_count": 115,
   "metadata": {
    "hidden": true
   },
   "outputs": [],
   "source": [
    "# second batch\n",
    "Entrez.api_key = api_key\n",
    "Entrez.email = 'elizabethfawcett47@gmail.com'\n",
    "Entrez.tool = 'locus_by_amino_acid'\n",
    "id_list = protein_accession_numbers[200:400]\n",
    "search_results = Entrez.read(Entrez.epost(\"protein\", id=\",\".join(id_list)))"
   ]
  },
  {
   "cell_type": "code",
   "execution_count": 116,
   "metadata": {
    "hidden": true
   },
   "outputs": [],
   "source": [
    "webenv = search_results[\"WebEnv\"]\n",
    "query_key = search_results[\"QueryKey\"]"
   ]
  },
  {
   "cell_type": "code",
   "execution_count": 117,
   "metadata": {
    "hidden": true
   },
   "outputs": [],
   "source": [
    "results = Entrez.read(Entrez.efetch(db=\"protein\", webenv=webenv, query_key=query_key, retmode='xml'))"
   ]
  },
  {
   "cell_type": "code",
   "execution_count": 118,
   "metadata": {
    "hidden": true
   },
   "outputs": [],
   "source": [
    "protein_additional_data_2 = pd.DataFrame()\n",
    "accession_version = []\n",
    "definition = []\n",
    "division = []\n",
    "topology = []\n",
    "moltype = []\n",
    "organism = []\n",
    "sequence = []\n",
    "chromosome = []\n",
    "molar_weight = []\n",
    "regions = []\n",
    "sites = []\n",
    "for i in results:\n",
    "    region = 0\n",
    "    site = 0\n",
    "    accession_version.append(i['GBSeq_accession-version'])\n",
    "    organism.append(i['GBSeq_organism'])\n",
    "    definition.append(i['GBSeq_definition'])\n",
    "    division.append(i['GBSeq_division'])\n",
    "    topology.append(i['GBSeq_topology'])\n",
    "    moltype.append(i['GBSeq_moltype'])\n",
    "    sequence.append(i['GBSeq_sequence'])\n",
    "    if i['GBSeq_feature-table'][0]['GBFeature_key'] == 'source':\n",
    "        chromosome.append(i['GBSeq_feature-table'][0]['GBFeature_quals'][2]['GBQualifier_value'])\n",
    "    else:\n",
    "        continue\n",
    "    if i['GBSeq_feature-table'][1]['GBFeature_key'] == 'Protein':\n",
    "        if i['GBSeq_feature-table'][1]['GBFeature_quals'][0]['GBQualifier_name'] == 'calculated_mol_wt':\n",
    "            molar_weight.append(i['GBSeq_feature-table'][1]['GBFeature_quals'][0]['GBQualifier_value'])\n",
    "        elif i['GBSeq_feature-table'][1]['GBFeature_quals'][1]['GBQualifier_name'] == 'calculated_mol_wt':\n",
    "            molar_weight.append(i['GBSeq_feature-table'][1]['GBFeature_quals'][1]['GBQualifier_value'])\n",
    "        elif i['GBSeq_feature-table'][1]['GBFeature_quals'][2]['GBQualifier_name'] == 'calculated_mol_wt':\n",
    "            molar_weight.append(i['GBSeq_feature-table'][1]['GBFeature_quals'][2]['GBQualifier_value'])\n",
    "        elif i['GBSeq_feature-table'][1]['GBFeature_quals'][3]['GBQualifier_name'] == 'calculated_mol_wt':\n",
    "            molar_weight.append(i['GBSeq_feature-table'][1]['GBFeature_quals'][3]['GBQualifier_value'])\n",
    "        elif i['GBSeq_feature-table'][1]['GBFeature_quals'][4]['GBQualifier_name'] == 'calculated_mol_wt':\n",
    "            molar_weight.append(i['GBSeq_feature-table'][1]['GBFeature_quals'][4]['GBQualifier_value'])\n",
    "        elif i['GBSeq_feature-table'][1]['GBFeature_quals'][5]['GBQualifier_name'] == 'calculated_mol_wt':\n",
    "            molar_weight.append(i['GBSeq_feature-table'][1]['GBFeature_quals'][5]['GBQualifier_value'])\n",
    "        elif i['GBSeq_feature-table'][1]['GBFeature_quals'][6]['GBQualifier_name'] == 'calculated_mol_wt':\n",
    "            molar_weight.append(i['GBSeq_feature-table'][1]['GBFeature_quals'][6]['GBQualifier_value'])\n",
    "        else:\n",
    "            print('add more elif statements')\n",
    "    else:\n",
    "        continue\n",
    "    for j in range(0, len(i['GBSeq_feature-table'])):\n",
    "        if i['GBSeq_feature-table'][j]['GBFeature_key'] == 'Region':\n",
    "            region += 1\n",
    "        else:\n",
    "            continue\n",
    "    for j in range(0, len(i['GBSeq_feature-table'])):\n",
    "        if i['GBSeq_feature-table'][j]['GBFeature_key'] == 'Site':\n",
    "            site += 1\n",
    "        else:\n",
    "            continue\n",
    "    regions.append(region)\n",
    "    sites.append(site)\n",
    "protein_additional_data_2['Chromosome'] = chromosome\n",
    "protein_additional_data_2['Accession Version'] = accession_version\n",
    "protein_additional_data_2['Organism'] = organism\n",
    "protein_additional_data_2['Definition'] = definition\n",
    "protein_additional_data_2['Division'] = division\n",
    "protein_additional_data_2['Topology'] = topology\n",
    "protein_additional_data_2['Molecule Type'] = moltype\n",
    "protein_additional_data_2['Molecular Weight'] = molar_weight\n",
    "protein_additional_data_2['Number of Regions'] = regions\n",
    "protein_additional_data_2['Number of Binding Sites'] = sites\n",
    "protein_additional_data_2['Sequence'] = sequence"
   ]
  },
  {
   "cell_type": "code",
   "execution_count": 119,
   "metadata": {
    "hidden": true
   },
   "outputs": [
    {
     "data": {
      "text/html": [
       "<div>\n",
       "<style scoped>\n",
       "    .dataframe tbody tr th:only-of-type {\n",
       "        vertical-align: middle;\n",
       "    }\n",
       "\n",
       "    .dataframe tbody tr th {\n",
       "        vertical-align: top;\n",
       "    }\n",
       "\n",
       "    .dataframe thead th {\n",
       "        text-align: right;\n",
       "    }\n",
       "</style>\n",
       "<table border=\"1\" class=\"dataframe\">\n",
       "  <thead>\n",
       "    <tr style=\"text-align: right;\">\n",
       "      <th></th>\n",
       "      <th>Chromosome</th>\n",
       "      <th>Accession Version</th>\n",
       "      <th>Organism</th>\n",
       "      <th>Definition</th>\n",
       "      <th>Division</th>\n",
       "      <th>Topology</th>\n",
       "      <th>Molecule Type</th>\n",
       "      <th>Molecular Weight</th>\n",
       "      <th>Number of Regions</th>\n",
       "      <th>Number of Binding Sites</th>\n",
       "      <th>Sequence</th>\n",
       "    </tr>\n",
       "  </thead>\n",
       "  <tbody>\n",
       "    <tr>\n",
       "      <td>0</td>\n",
       "      <td>21</td>\n",
       "      <td>NP_001676.2</td>\n",
       "      <td>Homo sapiens</td>\n",
       "      <td>ATP synthase-coupling factor 6, mitochondrial ...</td>\n",
       "      <td>PRI</td>\n",
       "      <td>linear</td>\n",
       "      <td>AA</td>\n",
       "      <td>8960</td>\n",
       "      <td>1</td>\n",
       "      <td>9</td>\n",
       "      <td>milqrlfrfssvirsavsvhlrrnigvtavafnkeldpiqklfvdk...</td>\n",
       "    </tr>\n",
       "    <tr>\n",
       "      <td>1</td>\n",
       "      <td>21</td>\n",
       "      <td>NP_001307195.1</td>\n",
       "      <td>Homo sapiens</td>\n",
       "      <td>ATP synthase-coupling factor 6, mitochondrial ...</td>\n",
       "      <td>PRI</td>\n",
       "      <td>linear</td>\n",
       "      <td>AA</td>\n",
       "      <td>12456</td>\n",
       "      <td>1</td>\n",
       "      <td>9</td>\n",
       "      <td>milqrlfrfssvirsavsvhlrrnigvtavafnkeldpiqklfvdk...</td>\n",
       "    </tr>\n",
       "    <tr>\n",
       "      <td>2</td>\n",
       "      <td>21</td>\n",
       "      <td>NP_001003703.1</td>\n",
       "      <td>Homo sapiens</td>\n",
       "      <td>ATP synthase-coupling factor 6, mitochondrial ...</td>\n",
       "      <td>PRI</td>\n",
       "      <td>linear</td>\n",
       "      <td>AA</td>\n",
       "      <td>8960</td>\n",
       "      <td>1</td>\n",
       "      <td>9</td>\n",
       "      <td>milqrlfrfssvirsavsvhlrrnigvtavafnkeldpiqklfvdk...</td>\n",
       "    </tr>\n",
       "    <tr>\n",
       "      <td>3</td>\n",
       "      <td>21</td>\n",
       "      <td>XP_005260995.1</td>\n",
       "      <td>Homo sapiens</td>\n",
       "      <td>GA-binding protein alpha chain isoform X1 [Hom...</td>\n",
       "      <td>PRI</td>\n",
       "      <td>linear</td>\n",
       "      <td>AA</td>\n",
       "      <td>51164</td>\n",
       "      <td>3</td>\n",
       "      <td>0</td>\n",
       "      <td>mtkreaeelieieidgtekaecteesiveqtyapaecvsqaidine...</td>\n",
       "    </tr>\n",
       "    <tr>\n",
       "      <td>4</td>\n",
       "      <td>21</td>\n",
       "      <td>NP_001184226.1</td>\n",
       "      <td>Homo sapiens</td>\n",
       "      <td>GA-binding protein alpha chain [Homo sapiens]</td>\n",
       "      <td>PRI</td>\n",
       "      <td>linear</td>\n",
       "      <td>AA</td>\n",
       "      <td>51164</td>\n",
       "      <td>3</td>\n",
       "      <td>1</td>\n",
       "      <td>mtkreaeelieieidgtekaecteesiveqtyapaecvsqaidine...</td>\n",
       "    </tr>\n",
       "    <tr>\n",
       "      <td>...</td>\n",
       "      <td>...</td>\n",
       "      <td>...</td>\n",
       "      <td>...</td>\n",
       "      <td>...</td>\n",
       "      <td>...</td>\n",
       "      <td>...</td>\n",
       "      <td>...</td>\n",
       "      <td>...</td>\n",
       "      <td>...</td>\n",
       "      <td>...</td>\n",
       "      <td>...</td>\n",
       "    </tr>\n",
       "    <tr>\n",
       "      <td>195</td>\n",
       "      <td>21</td>\n",
       "      <td>NP_037461.2</td>\n",
       "      <td>Homo sapiens</td>\n",
       "      <td>PAX3- and PAX7-binding protein 1 isoform 2 [Ho...</td>\n",
       "      <td>PRI</td>\n",
       "      <td>linear</td>\n",
       "      <td>AA</td>\n",
       "      <td>93040</td>\n",
       "      <td>2</td>\n",
       "      <td>10</td>\n",
       "      <td>mfrkarrvnvrkrndseeeererdeeqepppllpppgtgeeagpgg...</td>\n",
       "    </tr>\n",
       "    <tr>\n",
       "      <td>196</td>\n",
       "      <td>21</td>\n",
       "      <td>XP_011528106.1</td>\n",
       "      <td>Homo sapiens</td>\n",
       "      <td>PAX3- and PAX7-binding protein 1 isoform X2 [H...</td>\n",
       "      <td>PRI</td>\n",
       "      <td>linear</td>\n",
       "      <td>AA</td>\n",
       "      <td>73726</td>\n",
       "      <td>1</td>\n",
       "      <td>0</td>\n",
       "      <td>mfrkarrvnvrkrndseeeererdeeqepppllpppgtgeeagpgg...</td>\n",
       "    </tr>\n",
       "    <tr>\n",
       "      <td>197</td>\n",
       "      <td>21</td>\n",
       "      <td>NP_001155967.2</td>\n",
       "      <td>Homo sapiens</td>\n",
       "      <td>uncharacterized protein C21orf62 precursor [Ho...</td>\n",
       "      <td>PRI</td>\n",
       "      <td>linear</td>\n",
       "      <td>AA</td>\n",
       "      <td>22843</td>\n",
       "      <td>1</td>\n",
       "      <td>0</td>\n",
       "      <td>mappsrhclllistlgvfalncftkgqknstliftrentirncscs...</td>\n",
       "    </tr>\n",
       "    <tr>\n",
       "      <td>198</td>\n",
       "      <td>21</td>\n",
       "      <td>NP_062542.5</td>\n",
       "      <td>Homo sapiens</td>\n",
       "      <td>uncharacterized protein C21orf62 precursor [Ho...</td>\n",
       "      <td>PRI</td>\n",
       "      <td>linear</td>\n",
       "      <td>AA</td>\n",
       "      <td>22843</td>\n",
       "      <td>1</td>\n",
       "      <td>0</td>\n",
       "      <td>mappsrhclllistlgvfalncftkgqknstliftrentirncscs...</td>\n",
       "    </tr>\n",
       "    <tr>\n",
       "      <td>199</td>\n",
       "      <td>21</td>\n",
       "      <td>NP_001155968.2</td>\n",
       "      <td>Homo sapiens</td>\n",
       "      <td>uncharacterized protein C21orf62 precursor [Ho...</td>\n",
       "      <td>PRI</td>\n",
       "      <td>linear</td>\n",
       "      <td>AA</td>\n",
       "      <td>22843</td>\n",
       "      <td>1</td>\n",
       "      <td>0</td>\n",
       "      <td>mappsrhclllistlgvfalncftkgqknstliftrentirncscs...</td>\n",
       "    </tr>\n",
       "  </tbody>\n",
       "</table>\n",
       "<p>200 rows × 11 columns</p>\n",
       "</div>"
      ],
      "text/plain": [
       "    Chromosome Accession Version      Organism  \\\n",
       "0           21       NP_001676.2  Homo sapiens   \n",
       "1           21    NP_001307195.1  Homo sapiens   \n",
       "2           21    NP_001003703.1  Homo sapiens   \n",
       "3           21    XP_005260995.1  Homo sapiens   \n",
       "4           21    NP_001184226.1  Homo sapiens   \n",
       "..         ...               ...           ...   \n",
       "195         21       NP_037461.2  Homo sapiens   \n",
       "196         21    XP_011528106.1  Homo sapiens   \n",
       "197         21    NP_001155967.2  Homo sapiens   \n",
       "198         21       NP_062542.5  Homo sapiens   \n",
       "199         21    NP_001155968.2  Homo sapiens   \n",
       "\n",
       "                                            Definition Division Topology  \\\n",
       "0    ATP synthase-coupling factor 6, mitochondrial ...      PRI   linear   \n",
       "1    ATP synthase-coupling factor 6, mitochondrial ...      PRI   linear   \n",
       "2    ATP synthase-coupling factor 6, mitochondrial ...      PRI   linear   \n",
       "3    GA-binding protein alpha chain isoform X1 [Hom...      PRI   linear   \n",
       "4        GA-binding protein alpha chain [Homo sapiens]      PRI   linear   \n",
       "..                                                 ...      ...      ...   \n",
       "195  PAX3- and PAX7-binding protein 1 isoform 2 [Ho...      PRI   linear   \n",
       "196  PAX3- and PAX7-binding protein 1 isoform X2 [H...      PRI   linear   \n",
       "197  uncharacterized protein C21orf62 precursor [Ho...      PRI   linear   \n",
       "198  uncharacterized protein C21orf62 precursor [Ho...      PRI   linear   \n",
       "199  uncharacterized protein C21orf62 precursor [Ho...      PRI   linear   \n",
       "\n",
       "    Molecule Type Molecular Weight  Number of Regions  \\\n",
       "0              AA             8960                  1   \n",
       "1              AA            12456                  1   \n",
       "2              AA             8960                  1   \n",
       "3              AA            51164                  3   \n",
       "4              AA            51164                  3   \n",
       "..            ...              ...                ...   \n",
       "195            AA            93040                  2   \n",
       "196            AA            73726                  1   \n",
       "197            AA            22843                  1   \n",
       "198            AA            22843                  1   \n",
       "199            AA            22843                  1   \n",
       "\n",
       "     Number of Binding Sites  \\\n",
       "0                          9   \n",
       "1                          9   \n",
       "2                          9   \n",
       "3                          0   \n",
       "4                          1   \n",
       "..                       ...   \n",
       "195                       10   \n",
       "196                        0   \n",
       "197                        0   \n",
       "198                        0   \n",
       "199                        0   \n",
       "\n",
       "                                              Sequence  \n",
       "0    milqrlfrfssvirsavsvhlrrnigvtavafnkeldpiqklfvdk...  \n",
       "1    milqrlfrfssvirsavsvhlrrnigvtavafnkeldpiqklfvdk...  \n",
       "2    milqrlfrfssvirsavsvhlrrnigvtavafnkeldpiqklfvdk...  \n",
       "3    mtkreaeelieieidgtekaecteesiveqtyapaecvsqaidine...  \n",
       "4    mtkreaeelieieidgtekaecteesiveqtyapaecvsqaidine...  \n",
       "..                                                 ...  \n",
       "195  mfrkarrvnvrkrndseeeererdeeqepppllpppgtgeeagpgg...  \n",
       "196  mfrkarrvnvrkrndseeeererdeeqepppllpppgtgeeagpgg...  \n",
       "197  mappsrhclllistlgvfalncftkgqknstliftrentirncscs...  \n",
       "198  mappsrhclllistlgvfalncftkgqknstliftrentirncscs...  \n",
       "199  mappsrhclllistlgvfalncftkgqknstliftrentirncscs...  \n",
       "\n",
       "[200 rows x 11 columns]"
      ]
     },
     "execution_count": 119,
     "metadata": {},
     "output_type": "execute_result"
    }
   ],
   "source": [
    "protein_additional_data_2"
   ]
  },
  {
   "cell_type": "code",
   "execution_count": 120,
   "metadata": {
    "hidden": true
   },
   "outputs": [],
   "source": [
    "time.sleep(10)"
   ]
  },
  {
   "cell_type": "code",
   "execution_count": 121,
   "metadata": {
    "hidden": true
   },
   "outputs": [],
   "source": [
    "# third batch\n",
    "Entrez.api_key = api_key\n",
    "Entrez.email = 'elizabethfawcett47@gmail.com'\n",
    "Entrez.tool = 'locus_by_amino_acid'\n",
    "id_list = protein_accession_numbers[400:600]\n",
    "search_results = Entrez.read(Entrez.epost(\"protein\", id=\",\".join(id_list)))"
   ]
  },
  {
   "cell_type": "code",
   "execution_count": 122,
   "metadata": {
    "hidden": true
   },
   "outputs": [],
   "source": [
    "webenv = search_results[\"WebEnv\"]\n",
    "query_key = search_results[\"QueryKey\"]"
   ]
  },
  {
   "cell_type": "code",
   "execution_count": 123,
   "metadata": {
    "hidden": true
   },
   "outputs": [],
   "source": [
    "results = Entrez.read(Entrez.efetch(db=\"protein\", webenv=webenv, query_key=query_key, retmode='xml'))"
   ]
  },
  {
   "cell_type": "code",
   "execution_count": 124,
   "metadata": {
    "hidden": true
   },
   "outputs": [],
   "source": [
    "protein_additional_data_3 = pd.DataFrame()\n",
    "accession_version = []\n",
    "definition = []\n",
    "division = []\n",
    "topology = []\n",
    "moltype = []\n",
    "organism = []\n",
    "sequence = []\n",
    "chromosome = []\n",
    "molar_weight = []\n",
    "regions = []\n",
    "sites = []\n",
    "for i in results:\n",
    "    region = 0\n",
    "    site = 0\n",
    "    accession_version.append(i['GBSeq_accession-version'])\n",
    "    organism.append(i['GBSeq_organism'])\n",
    "    definition.append(i['GBSeq_definition'])\n",
    "    division.append(i['GBSeq_division'])\n",
    "    topology.append(i['GBSeq_topology'])\n",
    "    moltype.append(i['GBSeq_moltype'])\n",
    "    sequence.append(i['GBSeq_sequence'])\n",
    "    if i['GBSeq_feature-table'][0]['GBFeature_key'] == 'source':\n",
    "        chromosome.append(i['GBSeq_feature-table'][0]['GBFeature_quals'][2]['GBQualifier_value'])\n",
    "    else:\n",
    "        continue\n",
    "    if i['GBSeq_feature-table'][1]['GBFeature_key'] == 'Protein':\n",
    "        if i['GBSeq_feature-table'][1]['GBFeature_quals'][0]['GBQualifier_name'] == 'calculated_mol_wt':\n",
    "            molar_weight.append(i['GBSeq_feature-table'][1]['GBFeature_quals'][0]['GBQualifier_value'])\n",
    "        elif i['GBSeq_feature-table'][1]['GBFeature_quals'][1]['GBQualifier_name'] == 'calculated_mol_wt':\n",
    "            molar_weight.append(i['GBSeq_feature-table'][1]['GBFeature_quals'][1]['GBQualifier_value'])\n",
    "        elif i['GBSeq_feature-table'][1]['GBFeature_quals'][2]['GBQualifier_name'] == 'calculated_mol_wt':\n",
    "            molar_weight.append(i['GBSeq_feature-table'][1]['GBFeature_quals'][2]['GBQualifier_value'])\n",
    "        elif i['GBSeq_feature-table'][1]['GBFeature_quals'][3]['GBQualifier_name'] == 'calculated_mol_wt':\n",
    "            molar_weight.append(i['GBSeq_feature-table'][1]['GBFeature_quals'][3]['GBQualifier_value'])\n",
    "        elif i['GBSeq_feature-table'][1]['GBFeature_quals'][4]['GBQualifier_name'] == 'calculated_mol_wt':\n",
    "            molar_weight.append(i['GBSeq_feature-table'][1]['GBFeature_quals'][4]['GBQualifier_value'])\n",
    "        elif i['GBSeq_feature-table'][1]['GBFeature_quals'][5]['GBQualifier_name'] == 'calculated_mol_wt':\n",
    "            molar_weight.append(i['GBSeq_feature-table'][1]['GBFeature_quals'][5]['GBQualifier_value'])\n",
    "        elif i['GBSeq_feature-table'][1]['GBFeature_quals'][6]['GBQualifier_name'] == 'calculated_mol_wt':\n",
    "            molar_weight.append(i['GBSeq_feature-table'][1]['GBFeature_quals'][6]['GBQualifier_value'])\n",
    "        else:\n",
    "            print('add more elif statements')\n",
    "    else:\n",
    "        continue\n",
    "    for j in range(0, len(i['GBSeq_feature-table'])):\n",
    "        if i['GBSeq_feature-table'][j]['GBFeature_key'] == 'Region':\n",
    "            region += 1\n",
    "        else:\n",
    "            continue\n",
    "    for j in range(0, len(i['GBSeq_feature-table'])):\n",
    "        if i['GBSeq_feature-table'][j]['GBFeature_key'] == 'Site':\n",
    "            site += 1\n",
    "        else:\n",
    "            continue\n",
    "    regions.append(region)\n",
    "    sites.append(site)\n",
    "protein_additional_data_3['Chromosome'] = chromosome\n",
    "protein_additional_data_3['Accession Version'] = accession_version\n",
    "protein_additional_data_3['Organism'] = organism\n",
    "protein_additional_data_3['Definition'] = definition\n",
    "protein_additional_data_3['Division'] = division\n",
    "protein_additional_data_3['Topology'] = topology\n",
    "protein_additional_data_3['Molecule Type'] = moltype\n",
    "protein_additional_data_3['Molecular Weight'] = molar_weight\n",
    "protein_additional_data_3['Number of Regions'] = regions\n",
    "protein_additional_data_3['Number of Binding Sites'] = sites\n",
    "protein_additional_data_3['Sequence'] = sequence"
   ]
  },
  {
   "cell_type": "code",
   "execution_count": 125,
   "metadata": {
    "hidden": true
   },
   "outputs": [
    {
     "data": {
      "text/html": [
       "<div>\n",
       "<style scoped>\n",
       "    .dataframe tbody tr th:only-of-type {\n",
       "        vertical-align: middle;\n",
       "    }\n",
       "\n",
       "    .dataframe tbody tr th {\n",
       "        vertical-align: top;\n",
       "    }\n",
       "\n",
       "    .dataframe thead th {\n",
       "        text-align: right;\n",
       "    }\n",
       "</style>\n",
       "<table border=\"1\" class=\"dataframe\">\n",
       "  <thead>\n",
       "    <tr style=\"text-align: right;\">\n",
       "      <th></th>\n",
       "      <th>Chromosome</th>\n",
       "      <th>Accession Version</th>\n",
       "      <th>Organism</th>\n",
       "      <th>Definition</th>\n",
       "      <th>Division</th>\n",
       "      <th>Topology</th>\n",
       "      <th>Molecule Type</th>\n",
       "      <th>Molecular Weight</th>\n",
       "      <th>Number of Regions</th>\n",
       "      <th>Number of Binding Sites</th>\n",
       "      <th>Sequence</th>\n",
       "    </tr>\n",
       "  </thead>\n",
       "  <tbody>\n",
       "    <tr>\n",
       "      <td>0</td>\n",
       "      <td>21</td>\n",
       "      <td>XP_011527955.1</td>\n",
       "      <td>Homo sapiens</td>\n",
       "      <td>uncharacterized protein C21orf62 isoform X1 [H...</td>\n",
       "      <td>PRI</td>\n",
       "      <td>linear</td>\n",
       "      <td>AA</td>\n",
       "      <td>11529</td>\n",
       "      <td>0</td>\n",
       "      <td>0</td>\n",
       "      <td>mrlvgqqlppgchgndqaagppkteknskcktthstlacrlnqlss...</td>\n",
       "    </tr>\n",
       "    <tr>\n",
       "      <td>1</td>\n",
       "      <td>21</td>\n",
       "      <td>NP_005797.1</td>\n",
       "      <td>Homo sapiens</td>\n",
       "      <td>oligodendrocyte transcription factor 2 [Homo s...</td>\n",
       "      <td>PRI</td>\n",
       "      <td>linear</td>\n",
       "      <td>AA</td>\n",
       "      <td>32254</td>\n",
       "      <td>1</td>\n",
       "      <td>3</td>\n",
       "      <td>mdsdaslvssrpsspepddlflparskgssgsaftggtvssstpsd...</td>\n",
       "    </tr>\n",
       "    <tr>\n",
       "      <td>2</td>\n",
       "      <td>21</td>\n",
       "      <td>XP_005260965.1</td>\n",
       "      <td>Homo sapiens</td>\n",
       "      <td>oligodendrocyte transcription factor 2 isoform...</td>\n",
       "      <td>PRI</td>\n",
       "      <td>linear</td>\n",
       "      <td>AA</td>\n",
       "      <td>32254</td>\n",
       "      <td>1</td>\n",
       "      <td>3</td>\n",
       "      <td>mdsdaslvssrpsspepddlflparskgssgsaftggtvssstpsd...</td>\n",
       "    </tr>\n",
       "    <tr>\n",
       "      <td>3</td>\n",
       "      <td>21</td>\n",
       "      <td>NP_620450.2</td>\n",
       "      <td>Homo sapiens</td>\n",
       "      <td>oligodendrocyte transcription factor 1 [Homo s...</td>\n",
       "      <td>PRI</td>\n",
       "      <td>linear</td>\n",
       "      <td>AA</td>\n",
       "      <td>27774</td>\n",
       "      <td>1</td>\n",
       "      <td>3</td>\n",
       "      <td>myyavsqarvnavpgtmlrpqrpgdlqlgaslyelvgyrqppssss...</td>\n",
       "    </tr>\n",
       "    <tr>\n",
       "      <td>4</td>\n",
       "      <td>21</td>\n",
       "      <td>NP_000865.2</td>\n",
       "      <td>Homo sapiens</td>\n",
       "      <td>interferon alpha/beta receptor 2 isoform b [Ho...</td>\n",
       "      <td>PRI</td>\n",
       "      <td>linear</td>\n",
       "      <td>AA</td>\n",
       "      <td>37262</td>\n",
       "      <td>3</td>\n",
       "      <td>0</td>\n",
       "      <td>mllsqnafifrslnlvlmvyislvfgisydspdytdesctfkislr...</td>\n",
       "    </tr>\n",
       "    <tr>\n",
       "      <td>...</td>\n",
       "      <td>...</td>\n",
       "      <td>...</td>\n",
       "      <td>...</td>\n",
       "      <td>...</td>\n",
       "      <td>...</td>\n",
       "      <td>...</td>\n",
       "      <td>...</td>\n",
       "      <td>...</td>\n",
       "      <td>...</td>\n",
       "      <td>...</td>\n",
       "      <td>...</td>\n",
       "    </tr>\n",
       "    <tr>\n",
       "      <td>195</td>\n",
       "      <td>21</td>\n",
       "      <td>XP_006724040.1</td>\n",
       "      <td>Homo sapiens</td>\n",
       "      <td>dual specificity tyrosine-phosphorylation-regu...</td>\n",
       "      <td>PRI</td>\n",
       "      <td>linear</td>\n",
       "      <td>AA</td>\n",
       "      <td>85453</td>\n",
       "      <td>1</td>\n",
       "      <td>4</td>\n",
       "      <td>mhtggetsackpssvrlapsfsfhaaglqmagqmphshqysdrrqp...</td>\n",
       "    </tr>\n",
       "    <tr>\n",
       "      <td>196</td>\n",
       "      <td>21</td>\n",
       "      <td>XP_016883773.1</td>\n",
       "      <td>Homo sapiens</td>\n",
       "      <td>dual specificity tyrosine-phosphorylation-regu...</td>\n",
       "      <td>PRI</td>\n",
       "      <td>linear</td>\n",
       "      <td>AA</td>\n",
       "      <td>84426</td>\n",
       "      <td>1</td>\n",
       "      <td>4</td>\n",
       "      <td>mhtggetsackpssvrlapsfsfhaaglqmagqmphshqysdrrqp...</td>\n",
       "    </tr>\n",
       "    <tr>\n",
       "      <td>197</td>\n",
       "      <td>21</td>\n",
       "      <td>NP_001334650.1</td>\n",
       "      <td>Homo sapiens</td>\n",
       "      <td>dual specificity tyrosine-phosphorylation-regu...</td>\n",
       "      <td>PRI</td>\n",
       "      <td>linear</td>\n",
       "      <td>AA</td>\n",
       "      <td>84426</td>\n",
       "      <td>2</td>\n",
       "      <td>20</td>\n",
       "      <td>mhtggetsackpssvrlapsfsfhaaglqmagqmphshqysdrrqp...</td>\n",
       "    </tr>\n",
       "    <tr>\n",
       "      <td>198</td>\n",
       "      <td>21</td>\n",
       "      <td>NP_001387.2</td>\n",
       "      <td>Homo sapiens</td>\n",
       "      <td>dual specificity tyrosine-phosphorylation-regu...</td>\n",
       "      <td>PRI</td>\n",
       "      <td>linear</td>\n",
       "      <td>AA</td>\n",
       "      <td>85453</td>\n",
       "      <td>2</td>\n",
       "      <td>20</td>\n",
       "      <td>mhtggetsackpssvrlapsfsfhaaglqmagqmphshqysdrrqp...</td>\n",
       "    </tr>\n",
       "    <tr>\n",
       "      <td>199</td>\n",
       "      <td>21</td>\n",
       "      <td>XP_006724039.1</td>\n",
       "      <td>Homo sapiens</td>\n",
       "      <td>dual specificity tyrosine-phosphorylation-regu...</td>\n",
       "      <td>PRI</td>\n",
       "      <td>linear</td>\n",
       "      <td>AA</td>\n",
       "      <td>85453</td>\n",
       "      <td>1</td>\n",
       "      <td>4</td>\n",
       "      <td>mhtggetsackpssvrlapsfsfhaaglqmagqmphshqysdrrqp...</td>\n",
       "    </tr>\n",
       "  </tbody>\n",
       "</table>\n",
       "<p>200 rows × 11 columns</p>\n",
       "</div>"
      ],
      "text/plain": [
       "    Chromosome Accession Version      Organism  \\\n",
       "0           21    XP_011527955.1  Homo sapiens   \n",
       "1           21       NP_005797.1  Homo sapiens   \n",
       "2           21    XP_005260965.1  Homo sapiens   \n",
       "3           21       NP_620450.2  Homo sapiens   \n",
       "4           21       NP_000865.2  Homo sapiens   \n",
       "..         ...               ...           ...   \n",
       "195         21    XP_006724040.1  Homo sapiens   \n",
       "196         21    XP_016883773.1  Homo sapiens   \n",
       "197         21    NP_001334650.1  Homo sapiens   \n",
       "198         21       NP_001387.2  Homo sapiens   \n",
       "199         21    XP_006724039.1  Homo sapiens   \n",
       "\n",
       "                                            Definition Division Topology  \\\n",
       "0    uncharacterized protein C21orf62 isoform X1 [H...      PRI   linear   \n",
       "1    oligodendrocyte transcription factor 2 [Homo s...      PRI   linear   \n",
       "2    oligodendrocyte transcription factor 2 isoform...      PRI   linear   \n",
       "3    oligodendrocyte transcription factor 1 [Homo s...      PRI   linear   \n",
       "4    interferon alpha/beta receptor 2 isoform b [Ho...      PRI   linear   \n",
       "..                                                 ...      ...      ...   \n",
       "195  dual specificity tyrosine-phosphorylation-regu...      PRI   linear   \n",
       "196  dual specificity tyrosine-phosphorylation-regu...      PRI   linear   \n",
       "197  dual specificity tyrosine-phosphorylation-regu...      PRI   linear   \n",
       "198  dual specificity tyrosine-phosphorylation-regu...      PRI   linear   \n",
       "199  dual specificity tyrosine-phosphorylation-regu...      PRI   linear   \n",
       "\n",
       "    Molecule Type Molecular Weight  Number of Regions  \\\n",
       "0              AA            11529                  0   \n",
       "1              AA            32254                  1   \n",
       "2              AA            32254                  1   \n",
       "3              AA            27774                  1   \n",
       "4              AA            37262                  3   \n",
       "..            ...              ...                ...   \n",
       "195            AA            85453                  1   \n",
       "196            AA            84426                  1   \n",
       "197            AA            84426                  2   \n",
       "198            AA            85453                  2   \n",
       "199            AA            85453                  1   \n",
       "\n",
       "     Number of Binding Sites  \\\n",
       "0                          0   \n",
       "1                          3   \n",
       "2                          3   \n",
       "3                          3   \n",
       "4                          0   \n",
       "..                       ...   \n",
       "195                        4   \n",
       "196                        4   \n",
       "197                       20   \n",
       "198                       20   \n",
       "199                        4   \n",
       "\n",
       "                                              Sequence  \n",
       "0    mrlvgqqlppgchgndqaagppkteknskcktthstlacrlnqlss...  \n",
       "1    mdsdaslvssrpsspepddlflparskgssgsaftggtvssstpsd...  \n",
       "2    mdsdaslvssrpsspepddlflparskgssgsaftggtvssstpsd...  \n",
       "3    myyavsqarvnavpgtmlrpqrpgdlqlgaslyelvgyrqppssss...  \n",
       "4    mllsqnafifrslnlvlmvyislvfgisydspdytdesctfkislr...  \n",
       "..                                                 ...  \n",
       "195  mhtggetsackpssvrlapsfsfhaaglqmagqmphshqysdrrqp...  \n",
       "196  mhtggetsackpssvrlapsfsfhaaglqmagqmphshqysdrrqp...  \n",
       "197  mhtggetsackpssvrlapsfsfhaaglqmagqmphshqysdrrqp...  \n",
       "198  mhtggetsackpssvrlapsfsfhaaglqmagqmphshqysdrrqp...  \n",
       "199  mhtggetsackpssvrlapsfsfhaaglqmagqmphshqysdrrqp...  \n",
       "\n",
       "[200 rows x 11 columns]"
      ]
     },
     "execution_count": 125,
     "metadata": {},
     "output_type": "execute_result"
    }
   ],
   "source": [
    "protein_additional_data_3"
   ]
  },
  {
   "cell_type": "code",
   "execution_count": 126,
   "metadata": {
    "hidden": true
   },
   "outputs": [],
   "source": [
    "time.sleep(10)"
   ]
  },
  {
   "cell_type": "code",
   "execution_count": 127,
   "metadata": {
    "hidden": true
   },
   "outputs": [],
   "source": [
    "# forth batch\n",
    "Entrez.api_key = api_key\n",
    "Entrez.email = 'elizabethfawcett47@gmail.com'\n",
    "Entrez.tool = 'locus_by_amino_acid'\n",
    "id_list = protein_accession_numbers[600:800]\n",
    "search_results = Entrez.read(Entrez.epost(\"protein\", id=\",\".join(id_list)))"
   ]
  },
  {
   "cell_type": "code",
   "execution_count": 128,
   "metadata": {
    "hidden": true
   },
   "outputs": [],
   "source": [
    "webenv = search_results[\"WebEnv\"]\n",
    "query_key = search_results[\"QueryKey\"]"
   ]
  },
  {
   "cell_type": "code",
   "execution_count": 129,
   "metadata": {
    "hidden": true
   },
   "outputs": [],
   "source": [
    "results = Entrez.read(Entrez.efetch(db=\"protein\", webenv=webenv, query_key=query_key, retmode='xml'))"
   ]
  },
  {
   "cell_type": "code",
   "execution_count": 130,
   "metadata": {
    "hidden": true
   },
   "outputs": [],
   "source": [
    "protein_additional_data_4 = pd.DataFrame()\n",
    "accession_version = []\n",
    "definition = []\n",
    "division = []\n",
    "topology = []\n",
    "moltype = []\n",
    "organism = []\n",
    "sequence = []\n",
    "chromosome = []\n",
    "molar_weight = []\n",
    "regions = []\n",
    "sites = []\n",
    "for i in results:\n",
    "    region = 0\n",
    "    site = 0\n",
    "    accession_version.append(i['GBSeq_accession-version'])\n",
    "    organism.append(i['GBSeq_organism'])\n",
    "    definition.append(i['GBSeq_definition'])\n",
    "    division.append(i['GBSeq_division'])\n",
    "    topology.append(i['GBSeq_topology'])\n",
    "    moltype.append(i['GBSeq_moltype'])\n",
    "    sequence.append(i['GBSeq_sequence'])\n",
    "    if i['GBSeq_feature-table'][0]['GBFeature_key'] == 'source':\n",
    "        chromosome.append(i['GBSeq_feature-table'][0]['GBFeature_quals'][2]['GBQualifier_value'])\n",
    "    else:\n",
    "        continue\n",
    "    if i['GBSeq_feature-table'][1]['GBFeature_key'] == 'Protein':\n",
    "        if i['GBSeq_feature-table'][1]['GBFeature_quals'][0]['GBQualifier_name'] == 'calculated_mol_wt':\n",
    "            molar_weight.append(i['GBSeq_feature-table'][1]['GBFeature_quals'][0]['GBQualifier_value'])\n",
    "        elif i['GBSeq_feature-table'][1]['GBFeature_quals'][1]['GBQualifier_name'] == 'calculated_mol_wt':\n",
    "            molar_weight.append(i['GBSeq_feature-table'][1]['GBFeature_quals'][1]['GBQualifier_value'])\n",
    "        elif i['GBSeq_feature-table'][1]['GBFeature_quals'][2]['GBQualifier_name'] == 'calculated_mol_wt':\n",
    "            molar_weight.append(i['GBSeq_feature-table'][1]['GBFeature_quals'][2]['GBQualifier_value'])\n",
    "        elif i['GBSeq_feature-table'][1]['GBFeature_quals'][3]['GBQualifier_name'] == 'calculated_mol_wt':\n",
    "            molar_weight.append(i['GBSeq_feature-table'][1]['GBFeature_quals'][3]['GBQualifier_value'])\n",
    "        elif i['GBSeq_feature-table'][1]['GBFeature_quals'][4]['GBQualifier_name'] == 'calculated_mol_wt':\n",
    "            molar_weight.append(i['GBSeq_feature-table'][1]['GBFeature_quals'][4]['GBQualifier_value'])\n",
    "        elif i['GBSeq_feature-table'][1]['GBFeature_quals'][5]['GBQualifier_name'] == 'calculated_mol_wt':\n",
    "            molar_weight.append(i['GBSeq_feature-table'][1]['GBFeature_quals'][5]['GBQualifier_value'])\n",
    "        elif i['GBSeq_feature-table'][1]['GBFeature_quals'][6]['GBQualifier_name'] == 'calculated_mol_wt':\n",
    "            molar_weight.append(i['GBSeq_feature-table'][1]['GBFeature_quals'][6]['GBQualifier_value'])\n",
    "        else:\n",
    "            print('add more elif statements')\n",
    "    else:\n",
    "        continue\n",
    "    for j in range(0, len(i['GBSeq_feature-table'])):\n",
    "        if i['GBSeq_feature-table'][j]['GBFeature_key'] == 'Region':\n",
    "            region += 1\n",
    "        else:\n",
    "            continue\n",
    "    for j in range(0, len(i['GBSeq_feature-table'])):\n",
    "        if i['GBSeq_feature-table'][j]['GBFeature_key'] == 'Site':\n",
    "            site += 1\n",
    "        else:\n",
    "            continue\n",
    "    regions.append(region)\n",
    "    sites.append(site)\n",
    "protein_additional_data_4['Chromosome'] = chromosome\n",
    "protein_additional_data_4['Accession Version'] = accession_version\n",
    "protein_additional_data_4['Organism'] = organism\n",
    "protein_additional_data_4['Definition'] = definition\n",
    "protein_additional_data_4['Division'] = division\n",
    "protein_additional_data_4['Topology'] = topology\n",
    "protein_additional_data_4['Molecule Type'] = moltype\n",
    "protein_additional_data_4['Molecular Weight'] = molar_weight\n",
    "protein_additional_data_4['Number of Regions'] = regions\n",
    "protein_additional_data_4['Number of Binding Sites'] = sites\n",
    "protein_additional_data_4['Sequence'] = sequence"
   ]
  },
  {
   "cell_type": "code",
   "execution_count": 131,
   "metadata": {
    "hidden": true
   },
   "outputs": [
    {
     "data": {
      "text/html": [
       "<div>\n",
       "<style scoped>\n",
       "    .dataframe tbody tr th:only-of-type {\n",
       "        vertical-align: middle;\n",
       "    }\n",
       "\n",
       "    .dataframe tbody tr th {\n",
       "        vertical-align: top;\n",
       "    }\n",
       "\n",
       "    .dataframe thead th {\n",
       "        text-align: right;\n",
       "    }\n",
       "</style>\n",
       "<table border=\"1\" class=\"dataframe\">\n",
       "  <thead>\n",
       "    <tr style=\"text-align: right;\">\n",
       "      <th></th>\n",
       "      <th>Chromosome</th>\n",
       "      <th>Accession Version</th>\n",
       "      <th>Organism</th>\n",
       "      <th>Definition</th>\n",
       "      <th>Division</th>\n",
       "      <th>Topology</th>\n",
       "      <th>Molecule Type</th>\n",
       "      <th>Molecular Weight</th>\n",
       "      <th>Number of Regions</th>\n",
       "      <th>Number of Binding Sites</th>\n",
       "      <th>Sequence</th>\n",
       "    </tr>\n",
       "  </thead>\n",
       "  <tbody>\n",
       "    <tr>\n",
       "      <td>0</td>\n",
       "      <td>21</td>\n",
       "      <td>XP_011527785.1</td>\n",
       "      <td>Homo sapiens</td>\n",
       "      <td>dual specificity tyrosine-phosphorylation-regu...</td>\n",
       "      <td>PRI</td>\n",
       "      <td>linear</td>\n",
       "      <td>AA</td>\n",
       "      <td>85453</td>\n",
       "      <td>1</td>\n",
       "      <td>4</td>\n",
       "      <td>mhtggetsackpssvrlapsfsfhaaglqmagqmphshqysdrrqp...</td>\n",
       "    </tr>\n",
       "    <tr>\n",
       "      <td>1</td>\n",
       "      <td>21</td>\n",
       "      <td>NP_569120.1</td>\n",
       "      <td>Homo sapiens</td>\n",
       "      <td>dual specificity tyrosine-phosphorylation-regu...</td>\n",
       "      <td>PRI</td>\n",
       "      <td>linear</td>\n",
       "      <td>AA</td>\n",
       "      <td>84426</td>\n",
       "      <td>2</td>\n",
       "      <td>20</td>\n",
       "      <td>mhtggetsackpssvrlapsfsfhaaglqmagqmphshqysdrrqp...</td>\n",
       "    </tr>\n",
       "    <tr>\n",
       "      <td>2</td>\n",
       "      <td>21</td>\n",
       "      <td>NP_567824.1</td>\n",
       "      <td>Homo sapiens</td>\n",
       "      <td>dual specificity tyrosine-phosphorylation-regu...</td>\n",
       "      <td>PRI</td>\n",
       "      <td>linear</td>\n",
       "      <td>AA</td>\n",
       "      <td>65968</td>\n",
       "      <td>2</td>\n",
       "      <td>4</td>\n",
       "      <td>mhtggetsackpssvrlapsfsfhaaglqmagqmphshqysdrrqp...</td>\n",
       "    </tr>\n",
       "    <tr>\n",
       "      <td>3</td>\n",
       "      <td>21</td>\n",
       "      <td>NP_569122.1</td>\n",
       "      <td>Homo sapiens</td>\n",
       "      <td>dual specificity tyrosine-phosphorylation-regu...</td>\n",
       "      <td>PRI</td>\n",
       "      <td>linear</td>\n",
       "      <td>AA</td>\n",
       "      <td>60199</td>\n",
       "      <td>2</td>\n",
       "      <td>16</td>\n",
       "      <td>mhtggetsackpssvrlapsfsfhaaglqmagqmphshqysdrrqp...</td>\n",
       "    </tr>\n",
       "    <tr>\n",
       "      <td>4</td>\n",
       "      <td>21</td>\n",
       "      <td>XP_006724041.1</td>\n",
       "      <td>Homo sapiens</td>\n",
       "      <td>dual specificity tyrosine-phosphorylation-regu...</td>\n",
       "      <td>PRI</td>\n",
       "      <td>linear</td>\n",
       "      <td>AA</td>\n",
       "      <td>85453</td>\n",
       "      <td>1</td>\n",
       "      <td>4</td>\n",
       "      <td>mhtggetsackpssvrlapsfsfhaaglqmagqmphshqysdrrqp...</td>\n",
       "    </tr>\n",
       "    <tr>\n",
       "      <td>...</td>\n",
       "      <td>...</td>\n",
       "      <td>...</td>\n",
       "      <td>...</td>\n",
       "      <td>...</td>\n",
       "      <td>...</td>\n",
       "      <td>...</td>\n",
       "      <td>...</td>\n",
       "      <td>...</td>\n",
       "      <td>...</td>\n",
       "      <td>...</td>\n",
       "      <td>...</td>\n",
       "    </tr>\n",
       "    <tr>\n",
       "      <td>195</td>\n",
       "      <td>21</td>\n",
       "      <td>NP_004906.3</td>\n",
       "      <td>Homo sapiens</td>\n",
       "      <td>ATP-binding cassette sub-family G member 1 iso...</td>\n",
       "      <td>PRI</td>\n",
       "      <td>linear</td>\n",
       "      <td>AA</td>\n",
       "      <td>75461</td>\n",
       "      <td>3</td>\n",
       "      <td>13</td>\n",
       "      <td>maclmaafsvgtamnassysaemtepksvcvsvdevvssnmeatet...</td>\n",
       "    </tr>\n",
       "    <tr>\n",
       "      <td>196</td>\n",
       "      <td>21</td>\n",
       "      <td>NP_058198.2</td>\n",
       "      <td>Homo sapiens</td>\n",
       "      <td>ATP-binding cassette sub-family G member 1 iso...</td>\n",
       "      <td>PRI</td>\n",
       "      <td>linear</td>\n",
       "      <td>AA</td>\n",
       "      <td>74024</td>\n",
       "      <td>3</td>\n",
       "      <td>13</td>\n",
       "      <td>maclmaafsvgtamnassysaemtepksvcvsvdevvssnmeatet...</td>\n",
       "    </tr>\n",
       "    <tr>\n",
       "      <td>197</td>\n",
       "      <td>21</td>\n",
       "      <td>XP_011528109.1</td>\n",
       "      <td>Homo sapiens</td>\n",
       "      <td>ATP-binding cassette sub-family G member 1 iso...</td>\n",
       "      <td>PRI</td>\n",
       "      <td>linear</td>\n",
       "      <td>AA</td>\n",
       "      <td>70746</td>\n",
       "      <td>3</td>\n",
       "      <td>7</td>\n",
       "      <td>mrislpraperdggvsasslldtvtnassysaemtepksvcvsvde...</td>\n",
       "    </tr>\n",
       "    <tr>\n",
       "      <td>198</td>\n",
       "      <td>21</td>\n",
       "      <td>NP_997057.1</td>\n",
       "      <td>Homo sapiens</td>\n",
       "      <td>ATP-binding cassette sub-family G member 1 iso...</td>\n",
       "      <td>PRI</td>\n",
       "      <td>linear</td>\n",
       "      <td>AA</td>\n",
       "      <td>75250</td>\n",
       "      <td>3</td>\n",
       "      <td>7</td>\n",
       "      <td>mrislpraperdggvsasslldtvtnassysaemtepksvcvsvde...</td>\n",
       "    </tr>\n",
       "    <tr>\n",
       "      <td>199</td>\n",
       "      <td>21</td>\n",
       "      <td>XP_011528108.1</td>\n",
       "      <td>Homo sapiens</td>\n",
       "      <td>ATP-binding cassette sub-family G member 1 iso...</td>\n",
       "      <td>PRI</td>\n",
       "      <td>linear</td>\n",
       "      <td>AA</td>\n",
       "      <td>76687</td>\n",
       "      <td>3</td>\n",
       "      <td>7</td>\n",
       "      <td>mrislpraperdggvsasslldtvtnassysaemtepksvcvsvde...</td>\n",
       "    </tr>\n",
       "  </tbody>\n",
       "</table>\n",
       "<p>200 rows × 11 columns</p>\n",
       "</div>"
      ],
      "text/plain": [
       "    Chromosome Accession Version      Organism  \\\n",
       "0           21    XP_011527785.1  Homo sapiens   \n",
       "1           21       NP_569120.1  Homo sapiens   \n",
       "2           21       NP_567824.1  Homo sapiens   \n",
       "3           21       NP_569122.1  Homo sapiens   \n",
       "4           21    XP_006724041.1  Homo sapiens   \n",
       "..         ...               ...           ...   \n",
       "195         21       NP_004906.3  Homo sapiens   \n",
       "196         21       NP_058198.2  Homo sapiens   \n",
       "197         21    XP_011528109.1  Homo sapiens   \n",
       "198         21       NP_997057.1  Homo sapiens   \n",
       "199         21    XP_011528108.1  Homo sapiens   \n",
       "\n",
       "                                            Definition Division Topology  \\\n",
       "0    dual specificity tyrosine-phosphorylation-regu...      PRI   linear   \n",
       "1    dual specificity tyrosine-phosphorylation-regu...      PRI   linear   \n",
       "2    dual specificity tyrosine-phosphorylation-regu...      PRI   linear   \n",
       "3    dual specificity tyrosine-phosphorylation-regu...      PRI   linear   \n",
       "4    dual specificity tyrosine-phosphorylation-regu...      PRI   linear   \n",
       "..                                                 ...      ...      ...   \n",
       "195  ATP-binding cassette sub-family G member 1 iso...      PRI   linear   \n",
       "196  ATP-binding cassette sub-family G member 1 iso...      PRI   linear   \n",
       "197  ATP-binding cassette sub-family G member 1 iso...      PRI   linear   \n",
       "198  ATP-binding cassette sub-family G member 1 iso...      PRI   linear   \n",
       "199  ATP-binding cassette sub-family G member 1 iso...      PRI   linear   \n",
       "\n",
       "    Molecule Type Molecular Weight  Number of Regions  \\\n",
       "0              AA            85453                  1   \n",
       "1              AA            84426                  2   \n",
       "2              AA            65968                  2   \n",
       "3              AA            60199                  2   \n",
       "4              AA            85453                  1   \n",
       "..            ...              ...                ...   \n",
       "195            AA            75461                  3   \n",
       "196            AA            74024                  3   \n",
       "197            AA            70746                  3   \n",
       "198            AA            75250                  3   \n",
       "199            AA            76687                  3   \n",
       "\n",
       "     Number of Binding Sites  \\\n",
       "0                          4   \n",
       "1                         20   \n",
       "2                          4   \n",
       "3                         16   \n",
       "4                          4   \n",
       "..                       ...   \n",
       "195                       13   \n",
       "196                       13   \n",
       "197                        7   \n",
       "198                        7   \n",
       "199                        7   \n",
       "\n",
       "                                              Sequence  \n",
       "0    mhtggetsackpssvrlapsfsfhaaglqmagqmphshqysdrrqp...  \n",
       "1    mhtggetsackpssvrlapsfsfhaaglqmagqmphshqysdrrqp...  \n",
       "2    mhtggetsackpssvrlapsfsfhaaglqmagqmphshqysdrrqp...  \n",
       "3    mhtggetsackpssvrlapsfsfhaaglqmagqmphshqysdrrqp...  \n",
       "4    mhtggetsackpssvrlapsfsfhaaglqmagqmphshqysdrrqp...  \n",
       "..                                                 ...  \n",
       "195  maclmaafsvgtamnassysaemtepksvcvsvdevvssnmeatet...  \n",
       "196  maclmaafsvgtamnassysaemtepksvcvsvdevvssnmeatet...  \n",
       "197  mrislpraperdggvsasslldtvtnassysaemtepksvcvsvde...  \n",
       "198  mrislpraperdggvsasslldtvtnassysaemtepksvcvsvde...  \n",
       "199  mrislpraperdggvsasslldtvtnassysaemtepksvcvsvde...  \n",
       "\n",
       "[200 rows x 11 columns]"
      ]
     },
     "execution_count": 131,
     "metadata": {},
     "output_type": "execute_result"
    }
   ],
   "source": [
    "protein_additional_data_4"
   ]
  },
  {
   "cell_type": "code",
   "execution_count": 132,
   "metadata": {
    "hidden": true
   },
   "outputs": [],
   "source": [
    "time.sleep(10)"
   ]
  },
  {
   "cell_type": "code",
   "execution_count": 133,
   "metadata": {
    "hidden": true
   },
   "outputs": [],
   "source": [
    "# fifth batch\n",
    "Entrez.api_key = api_key\n",
    "Entrez.email = 'elizabethfawcett47@gmail.com'\n",
    "Entrez.tool = 'locus_by_amino_acid'\n",
    "id_list = protein_accession_numbers[800:1000]\n",
    "search_results = Entrez.read(Entrez.epost(\"protein\", id=\",\".join(id_list)))"
   ]
  },
  {
   "cell_type": "code",
   "execution_count": 134,
   "metadata": {
    "hidden": true
   },
   "outputs": [],
   "source": [
    "webenv = search_results[\"WebEnv\"]\n",
    "query_key = search_results[\"QueryKey\"]"
   ]
  },
  {
   "cell_type": "code",
   "execution_count": 135,
   "metadata": {
    "hidden": true
   },
   "outputs": [],
   "source": [
    "results = Entrez.read(Entrez.efetch(db=\"protein\", webenv=webenv, query_key=query_key, retmode='xml'))"
   ]
  },
  {
   "cell_type": "code",
   "execution_count": 136,
   "metadata": {
    "hidden": true
   },
   "outputs": [],
   "source": [
    "protein_additional_data_5 = pd.DataFrame()\n",
    "accession_version = []\n",
    "definition = []\n",
    "division = []\n",
    "topology = []\n",
    "moltype = []\n",
    "organism = []\n",
    "sequence = []\n",
    "chromosome = []\n",
    "molar_weight = []\n",
    "regions = []\n",
    "sites = []\n",
    "for i in results:\n",
    "    region = 0\n",
    "    site = 0\n",
    "    accession_version.append(i['GBSeq_accession-version'])\n",
    "    organism.append(i['GBSeq_organism'])\n",
    "    definition.append(i['GBSeq_definition'])\n",
    "    division.append(i['GBSeq_division'])\n",
    "    topology.append(i['GBSeq_topology'])\n",
    "    moltype.append(i['GBSeq_moltype'])\n",
    "    sequence.append(i['GBSeq_sequence'])\n",
    "    if i['GBSeq_feature-table'][0]['GBFeature_key'] == 'source':\n",
    "        chromosome.append(i['GBSeq_feature-table'][0]['GBFeature_quals'][2]['GBQualifier_value'])\n",
    "    else:\n",
    "        continue\n",
    "    if i['GBSeq_feature-table'][1]['GBFeature_key'] == 'Protein':\n",
    "        if i['GBSeq_feature-table'][1]['GBFeature_quals'][0]['GBQualifier_name'] == 'calculated_mol_wt':\n",
    "            molar_weight.append(i['GBSeq_feature-table'][1]['GBFeature_quals'][0]['GBQualifier_value'])\n",
    "        elif i['GBSeq_feature-table'][1]['GBFeature_quals'][1]['GBQualifier_name'] == 'calculated_mol_wt':\n",
    "            molar_weight.append(i['GBSeq_feature-table'][1]['GBFeature_quals'][1]['GBQualifier_value'])\n",
    "        elif i['GBSeq_feature-table'][1]['GBFeature_quals'][2]['GBQualifier_name'] == 'calculated_mol_wt':\n",
    "            molar_weight.append(i['GBSeq_feature-table'][1]['GBFeature_quals'][2]['GBQualifier_value'])\n",
    "        elif i['GBSeq_feature-table'][1]['GBFeature_quals'][3]['GBQualifier_name'] == 'calculated_mol_wt':\n",
    "            molar_weight.append(i['GBSeq_feature-table'][1]['GBFeature_quals'][3]['GBQualifier_value'])\n",
    "        elif i['GBSeq_feature-table'][1]['GBFeature_quals'][4]['GBQualifier_name'] == 'calculated_mol_wt':\n",
    "            molar_weight.append(i['GBSeq_feature-table'][1]['GBFeature_quals'][4]['GBQualifier_value'])\n",
    "        elif i['GBSeq_feature-table'][1]['GBFeature_quals'][5]['GBQualifier_name'] == 'calculated_mol_wt':\n",
    "            molar_weight.append(i['GBSeq_feature-table'][1]['GBFeature_quals'][5]['GBQualifier_value'])\n",
    "        elif i['GBSeq_feature-table'][1]['GBFeature_quals'][6]['GBQualifier_name'] == 'calculated_mol_wt':\n",
    "            molar_weight.append(i['GBSeq_feature-table'][1]['GBFeature_quals'][6]['GBQualifier_value'])\n",
    "        else:\n",
    "            print('add more elif statements')\n",
    "    else:\n",
    "        continue\n",
    "    for j in range(0, len(i['GBSeq_feature-table'])):\n",
    "        if i['GBSeq_feature-table'][j]['GBFeature_key'] == 'Region':\n",
    "            region += 1\n",
    "        else:\n",
    "            continue\n",
    "    for j in range(0, len(i['GBSeq_feature-table'])):\n",
    "        if i['GBSeq_feature-table'][j]['GBFeature_key'] == 'Site':\n",
    "            site += 1\n",
    "        else:\n",
    "            continue\n",
    "    regions.append(region)\n",
    "    sites.append(site)\n",
    "protein_additional_data_5['Chromosome'] = chromosome\n",
    "protein_additional_data_5['Accession Version'] = accession_version\n",
    "protein_additional_data_5['Organism'] = organism\n",
    "protein_additional_data_5['Definition'] = definition\n",
    "protein_additional_data_5['Division'] = division\n",
    "protein_additional_data_5['Topology'] = topology\n",
    "protein_additional_data_5['Molecule Type'] = moltype\n",
    "protein_additional_data_5['Molecular Weight'] = molar_weight\n",
    "protein_additional_data_5['Number of Regions'] = regions\n",
    "protein_additional_data_5['Number of Binding Sites'] = sites\n",
    "protein_additional_data_5['Sequence'] = sequence"
   ]
  },
  {
   "cell_type": "code",
   "execution_count": 137,
   "metadata": {
    "hidden": true
   },
   "outputs": [
    {
     "data": {
      "text/html": [
       "<div>\n",
       "<style scoped>\n",
       "    .dataframe tbody tr th:only-of-type {\n",
       "        vertical-align: middle;\n",
       "    }\n",
       "\n",
       "    .dataframe tbody tr th {\n",
       "        vertical-align: top;\n",
       "    }\n",
       "\n",
       "    .dataframe thead th {\n",
       "        text-align: right;\n",
       "    }\n",
       "</style>\n",
       "<table border=\"1\" class=\"dataframe\">\n",
       "  <thead>\n",
       "    <tr style=\"text-align: right;\">\n",
       "      <th></th>\n",
       "      <th>Chromosome</th>\n",
       "      <th>Accession Version</th>\n",
       "      <th>Organism</th>\n",
       "      <th>Definition</th>\n",
       "      <th>Division</th>\n",
       "      <th>Topology</th>\n",
       "      <th>Molecule Type</th>\n",
       "      <th>Molecular Weight</th>\n",
       "      <th>Number of Regions</th>\n",
       "      <th>Number of Binding Sites</th>\n",
       "      <th>Sequence</th>\n",
       "    </tr>\n",
       "  </thead>\n",
       "  <tbody>\n",
       "    <tr>\n",
       "      <td>0</td>\n",
       "      <td>21</td>\n",
       "      <td>NP_997511.1</td>\n",
       "      <td>Homo sapiens</td>\n",
       "      <td>ATP-binding cassette sub-family G member 1 iso...</td>\n",
       "      <td>PRI</td>\n",
       "      <td>linear</td>\n",
       "      <td>AA</td>\n",
       "      <td>71829</td>\n",
       "      <td>3</td>\n",
       "      <td>7</td>\n",
       "      <td>mtepksvcvsvdevvssnmeatetdllnghlkkvdnnlteaqrfss...</td>\n",
       "    </tr>\n",
       "    <tr>\n",
       "      <td>1</td>\n",
       "      <td>21</td>\n",
       "      <td>XP_024307909.1</td>\n",
       "      <td>Homo sapiens</td>\n",
       "      <td>ATP-binding cassette sub-family G member 1 iso...</td>\n",
       "      <td>PRI</td>\n",
       "      <td>linear</td>\n",
       "      <td>AA</td>\n",
       "      <td>86625</td>\n",
       "      <td>1</td>\n",
       "      <td>0</td>\n",
       "      <td>mvrrgwsvctaillarlwclvpthtflseypeaaeyphpgwvywlq...</td>\n",
       "    </tr>\n",
       "    <tr>\n",
       "      <td>2</td>\n",
       "      <td>21</td>\n",
       "      <td>NP_003217.3</td>\n",
       "      <td>Homo sapiens</td>\n",
       "      <td>trefoil factor 3 precursor [Homo sapiens]</td>\n",
       "      <td>PRI</td>\n",
       "      <td>linear</td>\n",
       "      <td>AA</td>\n",
       "      <td>6581</td>\n",
       "      <td>1</td>\n",
       "      <td>2</td>\n",
       "      <td>mkrvlscvpeptvvmaaralcmlglvlallssssaeeyvglsanqc...</td>\n",
       "    </tr>\n",
       "    <tr>\n",
       "      <td>3</td>\n",
       "      <td>21</td>\n",
       "      <td>NP_005414.1</td>\n",
       "      <td>Homo sapiens</td>\n",
       "      <td>trefoil factor 2 precursor [Homo sapiens]</td>\n",
       "      <td>PRI</td>\n",
       "      <td>linear</td>\n",
       "      <td>AA</td>\n",
       "      <td>11990</td>\n",
       "      <td>2</td>\n",
       "      <td>4</td>\n",
       "      <td>mgrrdaqllaallvlglcalagsekpspcqcsrlsphnrtncgfpg...</td>\n",
       "    </tr>\n",
       "    <tr>\n",
       "      <td>4</td>\n",
       "      <td>21</td>\n",
       "      <td>NP_003216.1</td>\n",
       "      <td>Homo sapiens</td>\n",
       "      <td>trefoil factor 1 precursor [Homo sapiens]</td>\n",
       "      <td>PRI</td>\n",
       "      <td>linear</td>\n",
       "      <td>AA</td>\n",
       "      <td>6674</td>\n",
       "      <td>1</td>\n",
       "      <td>2</td>\n",
       "      <td>matmenkvicalvlvsmlalgtlaeaqtetctvaprerqncgfpgv...</td>\n",
       "    </tr>\n",
       "    <tr>\n",
       "      <td>...</td>\n",
       "      <td>...</td>\n",
       "      <td>...</td>\n",
       "      <td>...</td>\n",
       "      <td>...</td>\n",
       "      <td>...</td>\n",
       "      <td>...</td>\n",
       "      <td>...</td>\n",
       "      <td>...</td>\n",
       "      <td>...</td>\n",
       "      <td>...</td>\n",
       "      <td>...</td>\n",
       "    </tr>\n",
       "    <tr>\n",
       "      <td>195</td>\n",
       "      <td>21</td>\n",
       "      <td>XP_024307828.1</td>\n",
       "      <td>Homo sapiens</td>\n",
       "      <td>ICOS ligand isoform X1 [Homo sapiens]</td>\n",
       "      <td>PRI</td>\n",
       "      <td>linear</td>\n",
       "      <td>AA</td>\n",
       "      <td>51794</td>\n",
       "      <td>2</td>\n",
       "      <td>0</td>\n",
       "      <td>mrlgspgllfllfsslradtqekevramvgsdvelscacpegsrfd...</td>\n",
       "    </tr>\n",
       "    <tr>\n",
       "      <td>196</td>\n",
       "      <td>21</td>\n",
       "      <td>XP_011527817.1</td>\n",
       "      <td>Homo sapiens</td>\n",
       "      <td>ICOS ligand isoform X3 [Homo sapiens]</td>\n",
       "      <td>PRI</td>\n",
       "      <td>linear</td>\n",
       "      <td>AA</td>\n",
       "      <td>33350</td>\n",
       "      <td>2</td>\n",
       "      <td>0</td>\n",
       "      <td>mrlgspgllfllfsslradtqekevramvgsdvelscacpegsrfd...</td>\n",
       "    </tr>\n",
       "    <tr>\n",
       "      <td>197</td>\n",
       "      <td>21</td>\n",
       "      <td>NP_037501.2</td>\n",
       "      <td>Homo sapiens</td>\n",
       "      <td>DNA (cytosine-5)-methyltransferase 3-like isof...</td>\n",
       "      <td>PRI</td>\n",
       "      <td>linear</td>\n",
       "      <td>AA</td>\n",
       "      <td>43539</td>\n",
       "      <td>1</td>\n",
       "      <td>2</td>\n",
       "      <td>maaipaldpeaepsmdvilvgsselsssvspgtgrdliayevkanq...</td>\n",
       "    </tr>\n",
       "    <tr>\n",
       "      <td>198</td>\n",
       "      <td>21</td>\n",
       "      <td>NP_787063.1</td>\n",
       "      <td>Homo sapiens</td>\n",
       "      <td>DNA (cytosine-5)-methyltransferase 3-like isof...</td>\n",
       "      <td>PRI</td>\n",
       "      <td>linear</td>\n",
       "      <td>AA</td>\n",
       "      <td>43452</td>\n",
       "      <td>1</td>\n",
       "      <td>2</td>\n",
       "      <td>maaipaldpeaepsmdvilvgsselsssvspgtgrdliayevkanq...</td>\n",
       "    </tr>\n",
       "    <tr>\n",
       "      <td>199</td>\n",
       "      <td>21</td>\n",
       "      <td>NP_000374.1</td>\n",
       "      <td>Homo sapiens</td>\n",
       "      <td>autoimmune regulator [Homo sapiens]</td>\n",
       "      <td>PRI</td>\n",
       "      <td>linear</td>\n",
       "      <td>AA</td>\n",
       "      <td>57596</td>\n",
       "      <td>12</td>\n",
       "      <td>4</td>\n",
       "      <td>matdaalrrllrlhrteiavavdsafpllhaladhdvvpedkfqet...</td>\n",
       "    </tr>\n",
       "  </tbody>\n",
       "</table>\n",
       "<p>200 rows × 11 columns</p>\n",
       "</div>"
      ],
      "text/plain": [
       "    Chromosome Accession Version      Organism  \\\n",
       "0           21       NP_997511.1  Homo sapiens   \n",
       "1           21    XP_024307909.1  Homo sapiens   \n",
       "2           21       NP_003217.3  Homo sapiens   \n",
       "3           21       NP_005414.1  Homo sapiens   \n",
       "4           21       NP_003216.1  Homo sapiens   \n",
       "..         ...               ...           ...   \n",
       "195         21    XP_024307828.1  Homo sapiens   \n",
       "196         21    XP_011527817.1  Homo sapiens   \n",
       "197         21       NP_037501.2  Homo sapiens   \n",
       "198         21       NP_787063.1  Homo sapiens   \n",
       "199         21       NP_000374.1  Homo sapiens   \n",
       "\n",
       "                                            Definition Division Topology  \\\n",
       "0    ATP-binding cassette sub-family G member 1 iso...      PRI   linear   \n",
       "1    ATP-binding cassette sub-family G member 1 iso...      PRI   linear   \n",
       "2            trefoil factor 3 precursor [Homo sapiens]      PRI   linear   \n",
       "3            trefoil factor 2 precursor [Homo sapiens]      PRI   linear   \n",
       "4            trefoil factor 1 precursor [Homo sapiens]      PRI   linear   \n",
       "..                                                 ...      ...      ...   \n",
       "195              ICOS ligand isoform X1 [Homo sapiens]      PRI   linear   \n",
       "196              ICOS ligand isoform X3 [Homo sapiens]      PRI   linear   \n",
       "197  DNA (cytosine-5)-methyltransferase 3-like isof...      PRI   linear   \n",
       "198  DNA (cytosine-5)-methyltransferase 3-like isof...      PRI   linear   \n",
       "199                autoimmune regulator [Homo sapiens]      PRI   linear   \n",
       "\n",
       "    Molecule Type Molecular Weight  Number of Regions  \\\n",
       "0              AA            71829                  3   \n",
       "1              AA            86625                  1   \n",
       "2              AA             6581                  1   \n",
       "3              AA            11990                  2   \n",
       "4              AA             6674                  1   \n",
       "..            ...              ...                ...   \n",
       "195            AA            51794                  2   \n",
       "196            AA            33350                  2   \n",
       "197            AA            43539                  1   \n",
       "198            AA            43452                  1   \n",
       "199            AA            57596                 12   \n",
       "\n",
       "     Number of Binding Sites  \\\n",
       "0                          7   \n",
       "1                          0   \n",
       "2                          2   \n",
       "3                          4   \n",
       "4                          2   \n",
       "..                       ...   \n",
       "195                        0   \n",
       "196                        0   \n",
       "197                        2   \n",
       "198                        2   \n",
       "199                        4   \n",
       "\n",
       "                                              Sequence  \n",
       "0    mtepksvcvsvdevvssnmeatetdllnghlkkvdnnlteaqrfss...  \n",
       "1    mvrrgwsvctaillarlwclvpthtflseypeaaeyphpgwvywlq...  \n",
       "2    mkrvlscvpeptvvmaaralcmlglvlallssssaeeyvglsanqc...  \n",
       "3    mgrrdaqllaallvlglcalagsekpspcqcsrlsphnrtncgfpg...  \n",
       "4    matmenkvicalvlvsmlalgtlaeaqtetctvaprerqncgfpgv...  \n",
       "..                                                 ...  \n",
       "195  mrlgspgllfllfsslradtqekevramvgsdvelscacpegsrfd...  \n",
       "196  mrlgspgllfllfsslradtqekevramvgsdvelscacpegsrfd...  \n",
       "197  maaipaldpeaepsmdvilvgsselsssvspgtgrdliayevkanq...  \n",
       "198  maaipaldpeaepsmdvilvgsselsssvspgtgrdliayevkanq...  \n",
       "199  matdaalrrllrlhrteiavavdsafpllhaladhdvvpedkfqet...  \n",
       "\n",
       "[200 rows x 11 columns]"
      ]
     },
     "execution_count": 137,
     "metadata": {},
     "output_type": "execute_result"
    }
   ],
   "source": [
    "protein_additional_data_5"
   ]
  },
  {
   "cell_type": "code",
   "execution_count": 138,
   "metadata": {
    "hidden": true
   },
   "outputs": [],
   "source": [
    "time.sleep(10)"
   ]
  },
  {
   "cell_type": "code",
   "execution_count": 139,
   "metadata": {
    "hidden": true
   },
   "outputs": [],
   "source": [
    "# sixth batch\n",
    "Entrez.api_key = api_key\n",
    "Entrez.email = 'elizabethfawcett47@gmail.com'\n",
    "Entrez.tool = 'locus_by_amino_acid'\n",
    "id_list = protein_accession_numbers[1000:1200]\n",
    "search_results = Entrez.read(Entrez.epost(\"protein\", id=\",\".join(id_list)))"
   ]
  },
  {
   "cell_type": "code",
   "execution_count": 140,
   "metadata": {
    "hidden": true
   },
   "outputs": [],
   "source": [
    "webenv = search_results[\"WebEnv\"]\n",
    "query_key = search_results[\"QueryKey\"]"
   ]
  },
  {
   "cell_type": "code",
   "execution_count": 141,
   "metadata": {
    "hidden": true
   },
   "outputs": [],
   "source": [
    "results = Entrez.read(Entrez.efetch(db=\"protein\", webenv=webenv, query_key=query_key, retmode='xml'))"
   ]
  },
  {
   "cell_type": "code",
   "execution_count": 142,
   "metadata": {
    "hidden": true
   },
   "outputs": [],
   "source": [
    "protein_additional_data_6 = pd.DataFrame()\n",
    "accession_version = []\n",
    "definition = []\n",
    "division = []\n",
    "topology = []\n",
    "moltype = []\n",
    "organism = []\n",
    "sequence = []\n",
    "chromosome = []\n",
    "molar_weight = []\n",
    "regions = []\n",
    "sites = []\n",
    "for i in results:\n",
    "    region = 0\n",
    "    site = 0\n",
    "    accession_version.append(i['GBSeq_accession-version'])\n",
    "    organism.append(i['GBSeq_organism'])\n",
    "    definition.append(i['GBSeq_definition'])\n",
    "    division.append(i['GBSeq_division'])\n",
    "    topology.append(i['GBSeq_topology'])\n",
    "    moltype.append(i['GBSeq_moltype'])\n",
    "    sequence.append(i['GBSeq_sequence'])\n",
    "    if i['GBSeq_feature-table'][0]['GBFeature_key'] == 'source':\n",
    "        chromosome.append(i['GBSeq_feature-table'][0]['GBFeature_quals'][2]['GBQualifier_value'])\n",
    "    else:\n",
    "        continue\n",
    "    if i['GBSeq_feature-table'][1]['GBFeature_key'] == 'Protein':\n",
    "        if i['GBSeq_feature-table'][1]['GBFeature_quals'][0]['GBQualifier_name'] == 'calculated_mol_wt':\n",
    "            molar_weight.append(i['GBSeq_feature-table'][1]['GBFeature_quals'][0]['GBQualifier_value'])\n",
    "        elif i['GBSeq_feature-table'][1]['GBFeature_quals'][1]['GBQualifier_name'] == 'calculated_mol_wt':\n",
    "            molar_weight.append(i['GBSeq_feature-table'][1]['GBFeature_quals'][1]['GBQualifier_value'])\n",
    "        elif i['GBSeq_feature-table'][1]['GBFeature_quals'][2]['GBQualifier_name'] == 'calculated_mol_wt':\n",
    "            molar_weight.append(i['GBSeq_feature-table'][1]['GBFeature_quals'][2]['GBQualifier_value'])\n",
    "        elif i['GBSeq_feature-table'][1]['GBFeature_quals'][3]['GBQualifier_name'] == 'calculated_mol_wt':\n",
    "            molar_weight.append(i['GBSeq_feature-table'][1]['GBFeature_quals'][3]['GBQualifier_value'])\n",
    "        elif i['GBSeq_feature-table'][1]['GBFeature_quals'][4]['GBQualifier_name'] == 'calculated_mol_wt':\n",
    "            molar_weight.append(i['GBSeq_feature-table'][1]['GBFeature_quals'][4]['GBQualifier_value'])\n",
    "        elif i['GBSeq_feature-table'][1]['GBFeature_quals'][5]['GBQualifier_name'] == 'calculated_mol_wt':\n",
    "            molar_weight.append(i['GBSeq_feature-table'][1]['GBFeature_quals'][5]['GBQualifier_value'])\n",
    "        elif i['GBSeq_feature-table'][1]['GBFeature_quals'][6]['GBQualifier_name'] == 'calculated_mol_wt':\n",
    "            molar_weight.append(i['GBSeq_feature-table'][1]['GBFeature_quals'][6]['GBQualifier_value'])\n",
    "        else:\n",
    "            print('add more elif statements')\n",
    "    else:\n",
    "        continue\n",
    "    for j in range(0, len(i['GBSeq_feature-table'])):\n",
    "        if i['GBSeq_feature-table'][j]['GBFeature_key'] == 'Region':\n",
    "            region += 1\n",
    "        else:\n",
    "            continue\n",
    "    for j in range(0, len(i['GBSeq_feature-table'])):\n",
    "        if i['GBSeq_feature-table'][j]['GBFeature_key'] == 'Site':\n",
    "            site += 1\n",
    "        else:\n",
    "            continue\n",
    "    regions.append(region)\n",
    "    sites.append(site)\n",
    "protein_additional_data_6['Chromosome'] = chromosome\n",
    "protein_additional_data_6['Accession Version'] = accession_version\n",
    "protein_additional_data_6['Organism'] = organism\n",
    "protein_additional_data_6['Definition'] = definition\n",
    "protein_additional_data_6['Division'] = division\n",
    "protein_additional_data_6['Topology'] = topology\n",
    "protein_additional_data_6['Molecule Type'] = moltype\n",
    "protein_additional_data_6['Molecular Weight'] = molar_weight\n",
    "protein_additional_data_6['Number of Regions'] = regions\n",
    "protein_additional_data_6['Number of Binding Sites'] = sites\n",
    "protein_additional_data_6['Sequence'] = sequence"
   ]
  },
  {
   "cell_type": "code",
   "execution_count": 143,
   "metadata": {
    "hidden": true
   },
   "outputs": [
    {
     "data": {
      "text/html": [
       "<div>\n",
       "<style scoped>\n",
       "    .dataframe tbody tr th:only-of-type {\n",
       "        vertical-align: middle;\n",
       "    }\n",
       "\n",
       "    .dataframe tbody tr th {\n",
       "        vertical-align: top;\n",
       "    }\n",
       "\n",
       "    .dataframe thead th {\n",
       "        text-align: right;\n",
       "    }\n",
       "</style>\n",
       "<table border=\"1\" class=\"dataframe\">\n",
       "  <thead>\n",
       "    <tr style=\"text-align: right;\">\n",
       "      <th></th>\n",
       "      <th>Chromosome</th>\n",
       "      <th>Accession Version</th>\n",
       "      <th>Organism</th>\n",
       "      <th>Definition</th>\n",
       "      <th>Division</th>\n",
       "      <th>Topology</th>\n",
       "      <th>Molecule Type</th>\n",
       "      <th>Molecular Weight</th>\n",
       "      <th>Number of Regions</th>\n",
       "      <th>Number of Binding Sites</th>\n",
       "      <th>Sequence</th>\n",
       "    </tr>\n",
       "  </thead>\n",
       "  <tbody>\n",
       "    <tr>\n",
       "      <td>0</td>\n",
       "      <td>21</td>\n",
       "      <td>NP_002617.3</td>\n",
       "      <td>Homo sapiens</td>\n",
       "      <td>ATP-dependent 6-phosphofructokinase, liver typ...</td>\n",
       "      <td>PRI</td>\n",
       "      <td>linear</td>\n",
       "      <td>AA</td>\n",
       "      <td>84888</td>\n",
       "      <td>10</td>\n",
       "      <td>5</td>\n",
       "      <td>maavdleklrasgagkaigvltsggdaqgmnaavravtrmgiyvga...</td>\n",
       "    </tr>\n",
       "    <tr>\n",
       "      <td>1</td>\n",
       "      <td>21</td>\n",
       "      <td>XP_005261192.1</td>\n",
       "      <td>Homo sapiens</td>\n",
       "      <td>ATP-dependent 6-phosphofructokinase, liver typ...</td>\n",
       "      <td>PRI</td>\n",
       "      <td>linear</td>\n",
       "      <td>AA</td>\n",
       "      <td>87546</td>\n",
       "      <td>2</td>\n",
       "      <td>0</td>\n",
       "      <td>maavdleklrasgagkaigvltsggdaqgmnaavravtrmgiyvga...</td>\n",
       "    </tr>\n",
       "    <tr>\n",
       "      <td>2</td>\n",
       "      <td>21</td>\n",
       "      <td>NP_001002021.2</td>\n",
       "      <td>Homo sapiens</td>\n",
       "      <td>ATP-dependent 6-phosphofructokinase, liver typ...</td>\n",
       "      <td>PRI</td>\n",
       "      <td>linear</td>\n",
       "      <td>AA</td>\n",
       "      <td>90447</td>\n",
       "      <td>1</td>\n",
       "      <td>0</td>\n",
       "      <td>mrsmcnqgrgressrgglhvqgscrglsrspqqetgfakapagtdc...</td>\n",
       "    </tr>\n",
       "    <tr>\n",
       "      <td>3</td>\n",
       "      <td>21</td>\n",
       "      <td>XP_016883857.1</td>\n",
       "      <td>Homo sapiens</td>\n",
       "      <td>ATP-dependent 6-phosphofructokinase, liver typ...</td>\n",
       "      <td>PRI</td>\n",
       "      <td>linear</td>\n",
       "      <td>AA</td>\n",
       "      <td>93105</td>\n",
       "      <td>2</td>\n",
       "      <td>0</td>\n",
       "      <td>mrsmcnqgrgressrgglhvqgscrglsrspqqetgfakapagtdc...</td>\n",
       "    </tr>\n",
       "    <tr>\n",
       "      <td>4</td>\n",
       "      <td>21</td>\n",
       "      <td>XP_006724074.1</td>\n",
       "      <td>Homo sapiens</td>\n",
       "      <td>ATP-dependent 6-phosphofructokinase, liver typ...</td>\n",
       "      <td>PRI</td>\n",
       "      <td>linear</td>\n",
       "      <td>AA</td>\n",
       "      <td>93105</td>\n",
       "      <td>2</td>\n",
       "      <td>0</td>\n",
       "      <td>mrsmcnqgrgressrgglhvqgscrglsrspqqetgfakapagtdc...</td>\n",
       "    </tr>\n",
       "    <tr>\n",
       "      <td>...</td>\n",
       "      <td>...</td>\n",
       "      <td>...</td>\n",
       "      <td>...</td>\n",
       "      <td>...</td>\n",
       "      <td>...</td>\n",
       "      <td>...</td>\n",
       "      <td>...</td>\n",
       "      <td>...</td>\n",
       "      <td>...</td>\n",
       "      <td>...</td>\n",
       "      <td>...</td>\n",
       "    </tr>\n",
       "    <tr>\n",
       "      <td>195</td>\n",
       "      <td>21</td>\n",
       "      <td>XP_005261245.1</td>\n",
       "      <td>Homo sapiens</td>\n",
       "      <td>speriolin-like protein isoform X1 [Homo sapiens]</td>\n",
       "      <td>PRI</td>\n",
       "      <td>linear</td>\n",
       "      <td>AA</td>\n",
       "      <td>37482</td>\n",
       "      <td>2</td>\n",
       "      <td>0</td>\n",
       "      <td>maeggelmsrllsenadlkkqvrllkenqmlrrllsqscqeggghd...</td>\n",
       "    </tr>\n",
       "    <tr>\n",
       "      <td>196</td>\n",
       "      <td>21</td>\n",
       "      <td>NP_001138908.1</td>\n",
       "      <td>Homo sapiens</td>\n",
       "      <td>lanosterol synthase isoform 2 [Homo sapiens]</td>\n",
       "      <td>PRI</td>\n",
       "      <td>linear</td>\n",
       "      <td>AA</td>\n",
       "      <td>82068</td>\n",
       "      <td>8</td>\n",
       "      <td>3</td>\n",
       "      <td>mtegtclrrrggpyktepatdlgrwrlncergrqtwtylqderagr...</td>\n",
       "    </tr>\n",
       "    <tr>\n",
       "      <td>197</td>\n",
       "      <td>21</td>\n",
       "      <td>NP_002331.3</td>\n",
       "      <td>Homo sapiens</td>\n",
       "      <td>lanosterol synthase isoform 1 [Homo sapiens]</td>\n",
       "      <td>PRI</td>\n",
       "      <td>linear</td>\n",
       "      <td>AA</td>\n",
       "      <td>83178</td>\n",
       "      <td>9</td>\n",
       "      <td>3</td>\n",
       "      <td>mtegtclrrrggpyktepatdlgrwrlncergrqtwtylqderagr...</td>\n",
       "    </tr>\n",
       "    <tr>\n",
       "      <td>198</td>\n",
       "      <td>21</td>\n",
       "      <td>NP_001001438.1</td>\n",
       "      <td>Homo sapiens</td>\n",
       "      <td>lanosterol synthase isoform 1 [Homo sapiens]</td>\n",
       "      <td>PRI</td>\n",
       "      <td>linear</td>\n",
       "      <td>AA</td>\n",
       "      <td>83178</td>\n",
       "      <td>9</td>\n",
       "      <td>3</td>\n",
       "      <td>mtegtclrrrggpyktepatdlgrwrlncergrqtwtylqderagr...</td>\n",
       "    </tr>\n",
       "    <tr>\n",
       "      <td>199</td>\n",
       "      <td>21</td>\n",
       "      <td>NP_001138909.1</td>\n",
       "      <td>Homo sapiens</td>\n",
       "      <td>lanosterol synthase isoform 3 [Homo sapiens]</td>\n",
       "      <td>PRI</td>\n",
       "      <td>linear</td>\n",
       "      <td>AA</td>\n",
       "      <td>74087</td>\n",
       "      <td>2</td>\n",
       "      <td>2</td>\n",
       "      <td>mtfyvglqaedghwtgdyggplfllpgllitchvariplpagyree...</td>\n",
       "    </tr>\n",
       "  </tbody>\n",
       "</table>\n",
       "<p>200 rows × 11 columns</p>\n",
       "</div>"
      ],
      "text/plain": [
       "    Chromosome Accession Version      Organism  \\\n",
       "0           21       NP_002617.3  Homo sapiens   \n",
       "1           21    XP_005261192.1  Homo sapiens   \n",
       "2           21    NP_001002021.2  Homo sapiens   \n",
       "3           21    XP_016883857.1  Homo sapiens   \n",
       "4           21    XP_006724074.1  Homo sapiens   \n",
       "..         ...               ...           ...   \n",
       "195         21    XP_005261245.1  Homo sapiens   \n",
       "196         21    NP_001138908.1  Homo sapiens   \n",
       "197         21       NP_002331.3  Homo sapiens   \n",
       "198         21    NP_001001438.1  Homo sapiens   \n",
       "199         21    NP_001138909.1  Homo sapiens   \n",
       "\n",
       "                                            Definition Division Topology  \\\n",
       "0    ATP-dependent 6-phosphofructokinase, liver typ...      PRI   linear   \n",
       "1    ATP-dependent 6-phosphofructokinase, liver typ...      PRI   linear   \n",
       "2    ATP-dependent 6-phosphofructokinase, liver typ...      PRI   linear   \n",
       "3    ATP-dependent 6-phosphofructokinase, liver typ...      PRI   linear   \n",
       "4    ATP-dependent 6-phosphofructokinase, liver typ...      PRI   linear   \n",
       "..                                                 ...      ...      ...   \n",
       "195   speriolin-like protein isoform X1 [Homo sapiens]      PRI   linear   \n",
       "196       lanosterol synthase isoform 2 [Homo sapiens]      PRI   linear   \n",
       "197       lanosterol synthase isoform 1 [Homo sapiens]      PRI   linear   \n",
       "198       lanosterol synthase isoform 1 [Homo sapiens]      PRI   linear   \n",
       "199       lanosterol synthase isoform 3 [Homo sapiens]      PRI   linear   \n",
       "\n",
       "    Molecule Type Molecular Weight  Number of Regions  \\\n",
       "0              AA            84888                 10   \n",
       "1              AA            87546                  2   \n",
       "2              AA            90447                  1   \n",
       "3              AA            93105                  2   \n",
       "4              AA            93105                  2   \n",
       "..            ...              ...                ...   \n",
       "195            AA            37482                  2   \n",
       "196            AA            82068                  8   \n",
       "197            AA            83178                  9   \n",
       "198            AA            83178                  9   \n",
       "199            AA            74087                  2   \n",
       "\n",
       "     Number of Binding Sites  \\\n",
       "0                          5   \n",
       "1                          0   \n",
       "2                          0   \n",
       "3                          0   \n",
       "4                          0   \n",
       "..                       ...   \n",
       "195                        0   \n",
       "196                        3   \n",
       "197                        3   \n",
       "198                        3   \n",
       "199                        2   \n",
       "\n",
       "                                              Sequence  \n",
       "0    maavdleklrasgagkaigvltsggdaqgmnaavravtrmgiyvga...  \n",
       "1    maavdleklrasgagkaigvltsggdaqgmnaavravtrmgiyvga...  \n",
       "2    mrsmcnqgrgressrgglhvqgscrglsrspqqetgfakapagtdc...  \n",
       "3    mrsmcnqgrgressrgglhvqgscrglsrspqqetgfakapagtdc...  \n",
       "4    mrsmcnqgrgressrgglhvqgscrglsrspqqetgfakapagtdc...  \n",
       "..                                                 ...  \n",
       "195  maeggelmsrllsenadlkkqvrllkenqmlrrllsqscqeggghd...  \n",
       "196  mtegtclrrrggpyktepatdlgrwrlncergrqtwtylqderagr...  \n",
       "197  mtegtclrrrggpyktepatdlgrwrlncergrqtwtylqderagr...  \n",
       "198  mtegtclrrrggpyktepatdlgrwrlncergrqtwtylqderagr...  \n",
       "199  mtfyvglqaedghwtgdyggplfllpgllitchvariplpagyree...  \n",
       "\n",
       "[200 rows x 11 columns]"
      ]
     },
     "execution_count": 143,
     "metadata": {},
     "output_type": "execute_result"
    }
   ],
   "source": [
    "protein_additional_data_6"
   ]
  },
  {
   "cell_type": "code",
   "execution_count": 144,
   "metadata": {
    "hidden": true
   },
   "outputs": [],
   "source": [
    "time.sleep(10)"
   ]
  },
  {
   "cell_type": "code",
   "execution_count": 145,
   "metadata": {
    "hidden": true
   },
   "outputs": [],
   "source": [
    "# seventh batch\n",
    "Entrez.api_key = api_key\n",
    "Entrez.email = 'elizabethfawcett47@gmail.com'\n",
    "Entrez.tool = 'locus_by_amino_acid'\n",
    "id_list = protein_accession_numbers[1200:1287]\n",
    "search_results = Entrez.read(Entrez.epost(\"protein\", id=\",\".join(id_list)))"
   ]
  },
  {
   "cell_type": "code",
   "execution_count": 146,
   "metadata": {
    "hidden": true
   },
   "outputs": [],
   "source": [
    "webenv = search_results[\"WebEnv\"]\n",
    "query_key = search_results[\"QueryKey\"]"
   ]
  },
  {
   "cell_type": "code",
   "execution_count": 147,
   "metadata": {
    "hidden": true
   },
   "outputs": [],
   "source": [
    "results = Entrez.read(Entrez.efetch(db=\"protein\", webenv=webenv, query_key=query_key, retmode='xml'))"
   ]
  },
  {
   "cell_type": "code",
   "execution_count": 148,
   "metadata": {
    "hidden": true
   },
   "outputs": [],
   "source": [
    "protein_additional_data_7 = pd.DataFrame()\n",
    "accession_version = []\n",
    "definition = []\n",
    "division = []\n",
    "topology = []\n",
    "moltype = []\n",
    "organism = []\n",
    "sequence = []\n",
    "chromosome = []\n",
    "molar_weight = []\n",
    "regions = []\n",
    "sites = []\n",
    "for i in results:\n",
    "    region = 0\n",
    "    site = 0\n",
    "    accession_version.append(i['GBSeq_accession-version'])\n",
    "    organism.append(i['GBSeq_organism'])\n",
    "    definition.append(i['GBSeq_definition'])\n",
    "    division.append(i['GBSeq_division'])\n",
    "    topology.append(i['GBSeq_topology'])\n",
    "    moltype.append(i['GBSeq_moltype'])\n",
    "    sequence.append(i['GBSeq_sequence'])\n",
    "    if i['GBSeq_feature-table'][0]['GBFeature_key'] == 'source':\n",
    "        chromosome.append(i['GBSeq_feature-table'][0]['GBFeature_quals'][2]['GBQualifier_value'])\n",
    "    else:\n",
    "        continue\n",
    "    if i['GBSeq_feature-table'][1]['GBFeature_key'] == 'Protein':\n",
    "        if i['GBSeq_feature-table'][1]['GBFeature_quals'][0]['GBQualifier_name'] == 'calculated_mol_wt':\n",
    "            molar_weight.append(i['GBSeq_feature-table'][1]['GBFeature_quals'][0]['GBQualifier_value'])\n",
    "        elif i['GBSeq_feature-table'][1]['GBFeature_quals'][1]['GBQualifier_name'] == 'calculated_mol_wt':\n",
    "            molar_weight.append(i['GBSeq_feature-table'][1]['GBFeature_quals'][1]['GBQualifier_value'])\n",
    "        elif i['GBSeq_feature-table'][1]['GBFeature_quals'][2]['GBQualifier_name'] == 'calculated_mol_wt':\n",
    "            molar_weight.append(i['GBSeq_feature-table'][1]['GBFeature_quals'][2]['GBQualifier_value'])\n",
    "        elif i['GBSeq_feature-table'][1]['GBFeature_quals'][3]['GBQualifier_name'] == 'calculated_mol_wt':\n",
    "            molar_weight.append(i['GBSeq_feature-table'][1]['GBFeature_quals'][3]['GBQualifier_value'])\n",
    "        elif i['GBSeq_feature-table'][1]['GBFeature_quals'][4]['GBQualifier_name'] == 'calculated_mol_wt':\n",
    "            molar_weight.append(i['GBSeq_feature-table'][1]['GBFeature_quals'][4]['GBQualifier_value'])\n",
    "        elif i['GBSeq_feature-table'][1]['GBFeature_quals'][5]['GBQualifier_name'] == 'calculated_mol_wt':\n",
    "            molar_weight.append(i['GBSeq_feature-table'][1]['GBFeature_quals'][5]['GBQualifier_value'])\n",
    "        elif i['GBSeq_feature-table'][1]['GBFeature_quals'][6]['GBQualifier_name'] == 'calculated_mol_wt':\n",
    "            molar_weight.append(i['GBSeq_feature-table'][1]['GBFeature_quals'][6]['GBQualifier_value'])\n",
    "        else:\n",
    "            print('add more elif statements')\n",
    "    else:\n",
    "        continue\n",
    "    for j in range(0, len(i['GBSeq_feature-table'])):\n",
    "        if i['GBSeq_feature-table'][j]['GBFeature_key'] == 'Region':\n",
    "            region += 1\n",
    "        else:\n",
    "            continue\n",
    "    for j in range(0, len(i['GBSeq_feature-table'])):\n",
    "        if i['GBSeq_feature-table'][j]['GBFeature_key'] == 'Site':\n",
    "            site += 1\n",
    "        else:\n",
    "            continue\n",
    "    regions.append(region)\n",
    "    sites.append(site)\n",
    "protein_additional_data_7['Chromosome'] = chromosome\n",
    "protein_additional_data_7['Accession Version'] = accession_version\n",
    "protein_additional_data_7['Organism'] = organism\n",
    "protein_additional_data_7['Definition'] = definition\n",
    "protein_additional_data_7['Division'] = division\n",
    "protein_additional_data_7['Topology'] = topology\n",
    "protein_additional_data_7['Molecule Type'] = moltype\n",
    "protein_additional_data_7['Molecular Weight'] = molar_weight\n",
    "protein_additional_data_7['Number of Regions'] = regions\n",
    "protein_additional_data_7['Number of Binding Sites'] = sites\n",
    "protein_additional_data_7['Sequence'] = sequence"
   ]
  },
  {
   "cell_type": "code",
   "execution_count": 149,
   "metadata": {
    "hidden": true
   },
   "outputs": [
    {
     "data": {
      "text/html": [
       "<div>\n",
       "<style scoped>\n",
       "    .dataframe tbody tr th:only-of-type {\n",
       "        vertical-align: middle;\n",
       "    }\n",
       "\n",
       "    .dataframe tbody tr th {\n",
       "        vertical-align: top;\n",
       "    }\n",
       "\n",
       "    .dataframe thead th {\n",
       "        text-align: right;\n",
       "    }\n",
       "</style>\n",
       "<table border=\"1\" class=\"dataframe\">\n",
       "  <thead>\n",
       "    <tr style=\"text-align: right;\">\n",
       "      <th></th>\n",
       "      <th>Chromosome</th>\n",
       "      <th>Accession Version</th>\n",
       "      <th>Organism</th>\n",
       "      <th>Definition</th>\n",
       "      <th>Division</th>\n",
       "      <th>Topology</th>\n",
       "      <th>Molecule Type</th>\n",
       "      <th>Molecular Weight</th>\n",
       "      <th>Number of Regions</th>\n",
       "      <th>Number of Binding Sites</th>\n",
       "      <th>Sequence</th>\n",
       "    </tr>\n",
       "  </thead>\n",
       "  <tbody>\n",
       "    <tr>\n",
       "      <td>0</td>\n",
       "      <td>21</td>\n",
       "      <td>XP_005261261.1</td>\n",
       "      <td>Homo sapiens</td>\n",
       "      <td>germinal-center associated nuclear protein iso...</td>\n",
       "      <td>PRI</td>\n",
       "      <td>linear</td>\n",
       "      <td>AA</td>\n",
       "      <td>218275</td>\n",
       "      <td>5</td>\n",
       "      <td>0</td>\n",
       "      <td>mnptnpfsgqqpsafsasssnvgtlpskppfrfgqpslfgqnstls...</td>\n",
       "    </tr>\n",
       "    <tr>\n",
       "      <td>1</td>\n",
       "      <td>21</td>\n",
       "      <td>XP_005261260.1</td>\n",
       "      <td>Homo sapiens</td>\n",
       "      <td>germinal-center associated nuclear protein iso...</td>\n",
       "      <td>PRI</td>\n",
       "      <td>linear</td>\n",
       "      <td>AA</td>\n",
       "      <td>218275</td>\n",
       "      <td>5</td>\n",
       "      <td>0</td>\n",
       "      <td>mnptnpfsgqqpsafsasssnvgtlpskppfrfgqpslfgqnstls...</td>\n",
       "    </tr>\n",
       "    <tr>\n",
       "      <td>2</td>\n",
       "      <td>21</td>\n",
       "      <td>NP_003897.2</td>\n",
       "      <td>Homo sapiens</td>\n",
       "      <td>germinal-center associated nuclear protein [Ho...</td>\n",
       "      <td>PRI</td>\n",
       "      <td>linear</td>\n",
       "      <td>AA</td>\n",
       "      <td>218275</td>\n",
       "      <td>12</td>\n",
       "      <td>7</td>\n",
       "      <td>mnptnpfsgqqpsafsasssnvgtlpskppfrfgqpslfgqnstls...</td>\n",
       "    </tr>\n",
       "    <tr>\n",
       "      <td>3</td>\n",
       "      <td>21</td>\n",
       "      <td>XP_005261262.1</td>\n",
       "      <td>Homo sapiens</td>\n",
       "      <td>germinal-center associated nuclear protein iso...</td>\n",
       "      <td>PRI</td>\n",
       "      <td>linear</td>\n",
       "      <td>AA</td>\n",
       "      <td>218275</td>\n",
       "      <td>5</td>\n",
       "      <td>0</td>\n",
       "      <td>mnptnpfsgqqpsafsasssnvgtlpskppfrfgqpslfgqnstls...</td>\n",
       "    </tr>\n",
       "    <tr>\n",
       "      <td>4</td>\n",
       "      <td>21</td>\n",
       "      <td>XP_011527936.2</td>\n",
       "      <td>Homo sapiens</td>\n",
       "      <td>endoribonuclease YbeY isoform X4 [Homo sapiens]</td>\n",
       "      <td>PRI</td>\n",
       "      <td>linear</td>\n",
       "      <td>AA</td>\n",
       "      <td>33333</td>\n",
       "      <td>0</td>\n",
       "      <td>0</td>\n",
       "      <td>mwrpgraelrggrkrrpwrrpsphahrlapgprgprcplaprkdlr...</td>\n",
       "    </tr>\n",
       "    <tr>\n",
       "      <td>...</td>\n",
       "      <td>...</td>\n",
       "      <td>...</td>\n",
       "      <td>...</td>\n",
       "      <td>...</td>\n",
       "      <td>...</td>\n",
       "      <td>...</td>\n",
       "      <td>...</td>\n",
       "      <td>...</td>\n",
       "      <td>...</td>\n",
       "      <td>...</td>\n",
       "      <td>...</td>\n",
       "    </tr>\n",
       "    <tr>\n",
       "      <td>81</td>\n",
       "      <td>21</td>\n",
       "      <td>NP_001273607.1</td>\n",
       "      <td>Homo sapiens</td>\n",
       "      <td>protein arginine N-methyltransferase 2 isoform...</td>\n",
       "      <td>PRI</td>\n",
       "      <td>linear</td>\n",
       "      <td>AA</td>\n",
       "      <td>25363</td>\n",
       "      <td>3</td>\n",
       "      <td>4</td>\n",
       "      <td>matsgdcprsesqgeepaecseagllqegvqpeefvaiadyaatde...</td>\n",
       "    </tr>\n",
       "    <tr>\n",
       "      <td>82</td>\n",
       "      <td>21</td>\n",
       "      <td>NP_001526.2</td>\n",
       "      <td>Homo sapiens</td>\n",
       "      <td>protein arginine N-methyltransferase 2 isoform...</td>\n",
       "      <td>PRI</td>\n",
       "      <td>linear</td>\n",
       "      <td>AA</td>\n",
       "      <td>48911</td>\n",
       "      <td>6</td>\n",
       "      <td>4</td>\n",
       "      <td>matsgdcprsesqgeepaecseagllqegvqpeefvaiadyaatde...</td>\n",
       "    </tr>\n",
       "    <tr>\n",
       "      <td>83</td>\n",
       "      <td>21</td>\n",
       "      <td>XP_006724061.1</td>\n",
       "      <td>Homo sapiens</td>\n",
       "      <td>protein arginine N-methyltransferase 2 isoform...</td>\n",
       "      <td>PRI</td>\n",
       "      <td>linear</td>\n",
       "      <td>AA</td>\n",
       "      <td>33412</td>\n",
       "      <td>2</td>\n",
       "      <td>2</td>\n",
       "      <td>matsgdcprsesqgeepaecseagllqegvqpeefvaiadyaatde...</td>\n",
       "    </tr>\n",
       "    <tr>\n",
       "      <td>84</td>\n",
       "      <td>21</td>\n",
       "      <td>NP_001229795.1</td>\n",
       "      <td>Homo sapiens</td>\n",
       "      <td>protein arginine N-methyltransferase 2 isoform...</td>\n",
       "      <td>PRI</td>\n",
       "      <td>linear</td>\n",
       "      <td>AA</td>\n",
       "      <td>31062</td>\n",
       "      <td>5</td>\n",
       "      <td>4</td>\n",
       "      <td>matsgdcprsesqgeepaecseagllqegvqpeefvaiadyaatde...</td>\n",
       "    </tr>\n",
       "    <tr>\n",
       "      <td>85</td>\n",
       "      <td>21</td>\n",
       "      <td>NP_001229794.1</td>\n",
       "      <td>Homo sapiens</td>\n",
       "      <td>protein arginine N-methyltransferase 2 isoform...</td>\n",
       "      <td>PRI</td>\n",
       "      <td>linear</td>\n",
       "      <td>AA</td>\n",
       "      <td>31031</td>\n",
       "      <td>3</td>\n",
       "      <td>4</td>\n",
       "      <td>matsgdcprsesqgeepaecseagllqegvqpeefvaiadyaatde...</td>\n",
       "    </tr>\n",
       "  </tbody>\n",
       "</table>\n",
       "<p>86 rows × 11 columns</p>\n",
       "</div>"
      ],
      "text/plain": [
       "   Chromosome Accession Version      Organism  \\\n",
       "0          21    XP_005261261.1  Homo sapiens   \n",
       "1          21    XP_005261260.1  Homo sapiens   \n",
       "2          21       NP_003897.2  Homo sapiens   \n",
       "3          21    XP_005261262.1  Homo sapiens   \n",
       "4          21    XP_011527936.2  Homo sapiens   \n",
       "..        ...               ...           ...   \n",
       "81         21    NP_001273607.1  Homo sapiens   \n",
       "82         21       NP_001526.2  Homo sapiens   \n",
       "83         21    XP_006724061.1  Homo sapiens   \n",
       "84         21    NP_001229795.1  Homo sapiens   \n",
       "85         21    NP_001229794.1  Homo sapiens   \n",
       "\n",
       "                                           Definition Division Topology  \\\n",
       "0   germinal-center associated nuclear protein iso...      PRI   linear   \n",
       "1   germinal-center associated nuclear protein iso...      PRI   linear   \n",
       "2   germinal-center associated nuclear protein [Ho...      PRI   linear   \n",
       "3   germinal-center associated nuclear protein iso...      PRI   linear   \n",
       "4     endoribonuclease YbeY isoform X4 [Homo sapiens]      PRI   linear   \n",
       "..                                                ...      ...      ...   \n",
       "81  protein arginine N-methyltransferase 2 isoform...      PRI   linear   \n",
       "82  protein arginine N-methyltransferase 2 isoform...      PRI   linear   \n",
       "83  protein arginine N-methyltransferase 2 isoform...      PRI   linear   \n",
       "84  protein arginine N-methyltransferase 2 isoform...      PRI   linear   \n",
       "85  protein arginine N-methyltransferase 2 isoform...      PRI   linear   \n",
       "\n",
       "   Molecule Type Molecular Weight  Number of Regions  Number of Binding Sites  \\\n",
       "0             AA           218275                  5                        0   \n",
       "1             AA           218275                  5                        0   \n",
       "2             AA           218275                 12                        7   \n",
       "3             AA           218275                  5                        0   \n",
       "4             AA            33333                  0                        0   \n",
       "..           ...              ...                ...                      ...   \n",
       "81            AA            25363                  3                        4   \n",
       "82            AA            48911                  6                        4   \n",
       "83            AA            33412                  2                        2   \n",
       "84            AA            31062                  5                        4   \n",
       "85            AA            31031                  3                        4   \n",
       "\n",
       "                                             Sequence  \n",
       "0   mnptnpfsgqqpsafsasssnvgtlpskppfrfgqpslfgqnstls...  \n",
       "1   mnptnpfsgqqpsafsasssnvgtlpskppfrfgqpslfgqnstls...  \n",
       "2   mnptnpfsgqqpsafsasssnvgtlpskppfrfgqpslfgqnstls...  \n",
       "3   mnptnpfsgqqpsafsasssnvgtlpskppfrfgqpslfgqnstls...  \n",
       "4   mwrpgraelrggrkrrpwrrpsphahrlapgprgprcplaprkdlr...  \n",
       "..                                                ...  \n",
       "81  matsgdcprsesqgeepaecseagllqegvqpeefvaiadyaatde...  \n",
       "82  matsgdcprsesqgeepaecseagllqegvqpeefvaiadyaatde...  \n",
       "83  matsgdcprsesqgeepaecseagllqegvqpeefvaiadyaatde...  \n",
       "84  matsgdcprsesqgeepaecseagllqegvqpeefvaiadyaatde...  \n",
       "85  matsgdcprsesqgeepaecseagllqegvqpeefvaiadyaatde...  \n",
       "\n",
       "[86 rows x 11 columns]"
      ]
     },
     "execution_count": 149,
     "metadata": {},
     "output_type": "execute_result"
    }
   ],
   "source": [
    "protein_additional_data_7"
   ]
  },
  {
   "cell_type": "code",
   "execution_count": 150,
   "metadata": {
    "hidden": true
   },
   "outputs": [],
   "source": [
    "time.sleep(10)"
   ]
  },
  {
   "cell_type": "markdown",
   "metadata": {},
   "source": [
    "### Concatenation of Batches"
   ]
  },
  {
   "cell_type": "code",
   "execution_count": 151,
   "metadata": {},
   "outputs": [],
   "source": [
    "to_concat = [protein_additional_data_1, protein_additional_data_2, protein_additional_data_3, protein_additional_data_4, \n",
    "           protein_additional_data_5, protein_additional_data_6, protein_additional_data_7]"
   ]
  },
  {
   "cell_type": "code",
   "execution_count": 152,
   "metadata": {},
   "outputs": [],
   "source": [
    "protein_additional_data = pd.concat(to_concat)"
   ]
  },
  {
   "cell_type": "code",
   "execution_count": 153,
   "metadata": {},
   "outputs": [
    {
     "data": {
      "text/html": [
       "<div>\n",
       "<style scoped>\n",
       "    .dataframe tbody tr th:only-of-type {\n",
       "        vertical-align: middle;\n",
       "    }\n",
       "\n",
       "    .dataframe tbody tr th {\n",
       "        vertical-align: top;\n",
       "    }\n",
       "\n",
       "    .dataframe thead th {\n",
       "        text-align: right;\n",
       "    }\n",
       "</style>\n",
       "<table border=\"1\" class=\"dataframe\">\n",
       "  <thead>\n",
       "    <tr style=\"text-align: right;\">\n",
       "      <th></th>\n",
       "      <th>Chromosome</th>\n",
       "      <th>Accession Version</th>\n",
       "      <th>Organism</th>\n",
       "      <th>Definition</th>\n",
       "      <th>Division</th>\n",
       "      <th>Topology</th>\n",
       "      <th>Molecule Type</th>\n",
       "      <th>Molecular Weight</th>\n",
       "      <th>Number of Regions</th>\n",
       "      <th>Number of Binding Sites</th>\n",
       "      <th>Sequence</th>\n",
       "    </tr>\n",
       "  </thead>\n",
       "  <tbody>\n",
       "    <tr>\n",
       "      <td>0</td>\n",
       "      <td>21</td>\n",
       "      <td>XP_006723962.1</td>\n",
       "      <td>Homo sapiens</td>\n",
       "      <td>ICOS ligand isoform X1 [Homo sapiens]</td>\n",
       "      <td>PRI</td>\n",
       "      <td>linear</td>\n",
       "      <td>AA</td>\n",
       "      <td>56181</td>\n",
       "      <td>2</td>\n",
       "      <td>0</td>\n",
       "      <td>mrlgspgllfllfsslradtqekevramvgsdvelscacpegsrfd...</td>\n",
       "    </tr>\n",
       "    <tr>\n",
       "      <td>1</td>\n",
       "      <td>21</td>\n",
       "      <td>XP_011544381.1</td>\n",
       "      <td>Homo sapiens</td>\n",
       "      <td>ICOS ligand isoform X3 [Homo sapiens]</td>\n",
       "      <td>PRI</td>\n",
       "      <td>linear</td>\n",
       "      <td>AA</td>\n",
       "      <td>33350</td>\n",
       "      <td>2</td>\n",
       "      <td>0</td>\n",
       "      <td>mrlgspgllfllfsslradtqekevramvgsdvelscacpegsrfd...</td>\n",
       "    </tr>\n",
       "    <tr>\n",
       "      <td>2</td>\n",
       "      <td>21</td>\n",
       "      <td>XP_011544380.1</td>\n",
       "      <td>Homo sapiens</td>\n",
       "      <td>ICOS ligand isoform X2 [Homo sapiens]</td>\n",
       "      <td>PRI</td>\n",
       "      <td>linear</td>\n",
       "      <td>AA</td>\n",
       "      <td>39507</td>\n",
       "      <td>2</td>\n",
       "      <td>0</td>\n",
       "      <td>mrlgspgllfllfsslradtqekevramvgsdvelscacpegsrfd...</td>\n",
       "    </tr>\n",
       "    <tr>\n",
       "      <td>3</td>\n",
       "      <td>21</td>\n",
       "      <td>NP_001350699.1</td>\n",
       "      <td>Homo sapiens</td>\n",
       "      <td>ICOS ligand precursor [Homo sapiens]</td>\n",
       "      <td>PRI</td>\n",
       "      <td>linear</td>\n",
       "      <td>AA</td>\n",
       "      <td>31389</td>\n",
       "      <td>2</td>\n",
       "      <td>0</td>\n",
       "      <td>mrlgspgllfllfsslradtqekevramvgsdvelscacpegsrfd...</td>\n",
       "    </tr>\n",
       "    <tr>\n",
       "      <td>4</td>\n",
       "      <td>21</td>\n",
       "      <td>NP_001350689.1</td>\n",
       "      <td>Homo sapiens</td>\n",
       "      <td>glutamine amidotransferase-like class 1 domain...</td>\n",
       "      <td>PRI</td>\n",
       "      <td>linear</td>\n",
       "      <td>AA</td>\n",
       "      <td>24598</td>\n",
       "      <td>1</td>\n",
       "      <td>1</td>\n",
       "      <td>maavralvasrlaaasaftslspggrtpsqraalhlsvprpaarva...</td>\n",
       "    </tr>\n",
       "    <tr>\n",
       "      <td>...</td>\n",
       "      <td>...</td>\n",
       "      <td>...</td>\n",
       "      <td>...</td>\n",
       "      <td>...</td>\n",
       "      <td>...</td>\n",
       "      <td>...</td>\n",
       "      <td>...</td>\n",
       "      <td>...</td>\n",
       "      <td>...</td>\n",
       "      <td>...</td>\n",
       "      <td>...</td>\n",
       "    </tr>\n",
       "    <tr>\n",
       "      <td>81</td>\n",
       "      <td>21</td>\n",
       "      <td>NP_001273607.1</td>\n",
       "      <td>Homo sapiens</td>\n",
       "      <td>protein arginine N-methyltransferase 2 isoform...</td>\n",
       "      <td>PRI</td>\n",
       "      <td>linear</td>\n",
       "      <td>AA</td>\n",
       "      <td>25363</td>\n",
       "      <td>3</td>\n",
       "      <td>4</td>\n",
       "      <td>matsgdcprsesqgeepaecseagllqegvqpeefvaiadyaatde...</td>\n",
       "    </tr>\n",
       "    <tr>\n",
       "      <td>82</td>\n",
       "      <td>21</td>\n",
       "      <td>NP_001526.2</td>\n",
       "      <td>Homo sapiens</td>\n",
       "      <td>protein arginine N-methyltransferase 2 isoform...</td>\n",
       "      <td>PRI</td>\n",
       "      <td>linear</td>\n",
       "      <td>AA</td>\n",
       "      <td>48911</td>\n",
       "      <td>6</td>\n",
       "      <td>4</td>\n",
       "      <td>matsgdcprsesqgeepaecseagllqegvqpeefvaiadyaatde...</td>\n",
       "    </tr>\n",
       "    <tr>\n",
       "      <td>83</td>\n",
       "      <td>21</td>\n",
       "      <td>XP_006724061.1</td>\n",
       "      <td>Homo sapiens</td>\n",
       "      <td>protein arginine N-methyltransferase 2 isoform...</td>\n",
       "      <td>PRI</td>\n",
       "      <td>linear</td>\n",
       "      <td>AA</td>\n",
       "      <td>33412</td>\n",
       "      <td>2</td>\n",
       "      <td>2</td>\n",
       "      <td>matsgdcprsesqgeepaecseagllqegvqpeefvaiadyaatde...</td>\n",
       "    </tr>\n",
       "    <tr>\n",
       "      <td>84</td>\n",
       "      <td>21</td>\n",
       "      <td>NP_001229795.1</td>\n",
       "      <td>Homo sapiens</td>\n",
       "      <td>protein arginine N-methyltransferase 2 isoform...</td>\n",
       "      <td>PRI</td>\n",
       "      <td>linear</td>\n",
       "      <td>AA</td>\n",
       "      <td>31062</td>\n",
       "      <td>5</td>\n",
       "      <td>4</td>\n",
       "      <td>matsgdcprsesqgeepaecseagllqegvqpeefvaiadyaatde...</td>\n",
       "    </tr>\n",
       "    <tr>\n",
       "      <td>85</td>\n",
       "      <td>21</td>\n",
       "      <td>NP_001229794.1</td>\n",
       "      <td>Homo sapiens</td>\n",
       "      <td>protein arginine N-methyltransferase 2 isoform...</td>\n",
       "      <td>PRI</td>\n",
       "      <td>linear</td>\n",
       "      <td>AA</td>\n",
       "      <td>31031</td>\n",
       "      <td>3</td>\n",
       "      <td>4</td>\n",
       "      <td>matsgdcprsesqgeepaecseagllqegvqpeefvaiadyaatde...</td>\n",
       "    </tr>\n",
       "  </tbody>\n",
       "</table>\n",
       "<p>1286 rows × 11 columns</p>\n",
       "</div>"
      ],
      "text/plain": [
       "   Chromosome Accession Version      Organism  \\\n",
       "0          21    XP_006723962.1  Homo sapiens   \n",
       "1          21    XP_011544381.1  Homo sapiens   \n",
       "2          21    XP_011544380.1  Homo sapiens   \n",
       "3          21    NP_001350699.1  Homo sapiens   \n",
       "4          21    NP_001350689.1  Homo sapiens   \n",
       "..        ...               ...           ...   \n",
       "81         21    NP_001273607.1  Homo sapiens   \n",
       "82         21       NP_001526.2  Homo sapiens   \n",
       "83         21    XP_006724061.1  Homo sapiens   \n",
       "84         21    NP_001229795.1  Homo sapiens   \n",
       "85         21    NP_001229794.1  Homo sapiens   \n",
       "\n",
       "                                           Definition Division Topology  \\\n",
       "0               ICOS ligand isoform X1 [Homo sapiens]      PRI   linear   \n",
       "1               ICOS ligand isoform X3 [Homo sapiens]      PRI   linear   \n",
       "2               ICOS ligand isoform X2 [Homo sapiens]      PRI   linear   \n",
       "3                ICOS ligand precursor [Homo sapiens]      PRI   linear   \n",
       "4   glutamine amidotransferase-like class 1 domain...      PRI   linear   \n",
       "..                                                ...      ...      ...   \n",
       "81  protein arginine N-methyltransferase 2 isoform...      PRI   linear   \n",
       "82  protein arginine N-methyltransferase 2 isoform...      PRI   linear   \n",
       "83  protein arginine N-methyltransferase 2 isoform...      PRI   linear   \n",
       "84  protein arginine N-methyltransferase 2 isoform...      PRI   linear   \n",
       "85  protein arginine N-methyltransferase 2 isoform...      PRI   linear   \n",
       "\n",
       "   Molecule Type Molecular Weight  Number of Regions  Number of Binding Sites  \\\n",
       "0             AA            56181                  2                        0   \n",
       "1             AA            33350                  2                        0   \n",
       "2             AA            39507                  2                        0   \n",
       "3             AA            31389                  2                        0   \n",
       "4             AA            24598                  1                        1   \n",
       "..           ...              ...                ...                      ...   \n",
       "81            AA            25363                  3                        4   \n",
       "82            AA            48911                  6                        4   \n",
       "83            AA            33412                  2                        2   \n",
       "84            AA            31062                  5                        4   \n",
       "85            AA            31031                  3                        4   \n",
       "\n",
       "                                             Sequence  \n",
       "0   mrlgspgllfllfsslradtqekevramvgsdvelscacpegsrfd...  \n",
       "1   mrlgspgllfllfsslradtqekevramvgsdvelscacpegsrfd...  \n",
       "2   mrlgspgllfllfsslradtqekevramvgsdvelscacpegsrfd...  \n",
       "3   mrlgspgllfllfsslradtqekevramvgsdvelscacpegsrfd...  \n",
       "4   maavralvasrlaaasaftslspggrtpsqraalhlsvprpaarva...  \n",
       "..                                                ...  \n",
       "81  matsgdcprsesqgeepaecseagllqegvqpeefvaiadyaatde...  \n",
       "82  matsgdcprsesqgeepaecseagllqegvqpeefvaiadyaatde...  \n",
       "83  matsgdcprsesqgeepaecseagllqegvqpeefvaiadyaatde...  \n",
       "84  matsgdcprsesqgeepaecseagllqegvqpeefvaiadyaatde...  \n",
       "85  matsgdcprsesqgeepaecseagllqegvqpeefvaiadyaatde...  \n",
       "\n",
       "[1286 rows x 11 columns]"
      ]
     },
     "execution_count": 153,
     "metadata": {},
     "output_type": "execute_result"
    }
   ],
   "source": [
    "protein_additional_data.sample(10)"
   ]
  },
  {
   "cell_type": "code",
   "execution_count": 154,
   "metadata": {},
   "outputs": [
    {
     "data": {
      "text/html": [
       "<div>\n",
       "<style scoped>\n",
       "    .dataframe tbody tr th:only-of-type {\n",
       "        vertical-align: middle;\n",
       "    }\n",
       "\n",
       "    .dataframe tbody tr th {\n",
       "        vertical-align: top;\n",
       "    }\n",
       "\n",
       "    .dataframe thead th {\n",
       "        text-align: right;\n",
       "    }\n",
       "</style>\n",
       "<table border=\"1\" class=\"dataframe\">\n",
       "  <thead>\n",
       "    <tr style=\"text-align: right;\">\n",
       "      <th></th>\n",
       "      <th># Sequence-Name</th>\n",
       "      <th>Sequence-Role</th>\n",
       "      <th>Assigned-Molecule</th>\n",
       "      <th>Assigned-Molecule-Location/Type</th>\n",
       "      <th>GenBank-Accn</th>\n",
       "      <th>Relationship</th>\n",
       "      <th>RefSeq-Accn</th>\n",
       "      <th>Assembly-Unit</th>\n",
       "      <th>Sequence-Length</th>\n",
       "      <th>UCSC-style-name</th>\n",
       "    </tr>\n",
       "  </thead>\n",
       "  <tbody>\n",
       "    <tr>\n",
       "      <td>41</td>\n",
       "      <td>21</td>\n",
       "      <td>assembled-molecule</td>\n",
       "      <td>21</td>\n",
       "      <td>Chromosome</td>\n",
       "      <td>CM000683.2</td>\n",
       "      <td>=</td>\n",
       "      <td>NC_000021.9</td>\n",
       "      <td>Primary Assembly</td>\n",
       "      <td>46709983.0</td>\n",
       "      <td>chr21</td>\n",
       "    </tr>\n",
       "  </tbody>\n",
       "</table>\n",
       "</div>"
      ],
      "text/plain": [
       "   # Sequence-Name       Sequence-Role Assigned-Molecule  \\\n",
       "41              21  assembled-molecule                21   \n",
       "\n",
       "   Assigned-Molecule-Location/Type GenBank-Accn Relationship  RefSeq-Accn  \\\n",
       "41                      Chromosome   CM000683.2            =  NC_000021.9   \n",
       "\n",
       "       Assembly-Unit  Sequence-Length UCSC-style-name  \n",
       "41  Primary Assembly       46709983.0           chr21  "
      ]
     },
     "execution_count": 154,
     "metadata": {},
     "output_type": "execute_result"
    }
   ],
   "source": [
    "# check to see if only one row for dna data\n",
    "dna_data_21 = dna_data[dna_data['RefSeq-Accn']=='NC_000021.9']\n",
    "dna_data_21"
   ]
  },
  {
   "cell_type": "code",
   "execution_count": 159,
   "metadata": {},
   "outputs": [
    {
     "data": {
      "text/html": [
       "<div>\n",
       "<style scoped>\n",
       "    .dataframe tbody tr th:only-of-type {\n",
       "        vertical-align: middle;\n",
       "    }\n",
       "\n",
       "    .dataframe tbody tr th {\n",
       "        vertical-align: top;\n",
       "    }\n",
       "\n",
       "    .dataframe thead th {\n",
       "        text-align: right;\n",
       "    }\n",
       "</style>\n",
       "<table border=\"1\" class=\"dataframe\">\n",
       "  <thead>\n",
       "    <tr style=\"text-align: right;\">\n",
       "      <th></th>\n",
       "      <th>#Replicon Name</th>\n",
       "      <th>Replicon Accession</th>\n",
       "      <th>Start</th>\n",
       "      <th>Stop</th>\n",
       "      <th>Strand</th>\n",
       "      <th>GeneID</th>\n",
       "      <th>Locus</th>\n",
       "      <th>Protein product</th>\n",
       "      <th>Length</th>\n",
       "      <th>Protein name</th>\n",
       "    </tr>\n",
       "    <tr>\n",
       "      <th>Protein product</th>\n",
       "      <th></th>\n",
       "      <th></th>\n",
       "      <th></th>\n",
       "      <th></th>\n",
       "      <th></th>\n",
       "      <th></th>\n",
       "      <th></th>\n",
       "      <th></th>\n",
       "      <th></th>\n",
       "      <th></th>\n",
       "    </tr>\n",
       "  </thead>\n",
       "  <tbody>\n",
       "    <tr>\n",
       "      <td>XP_006723962.1</td>\n",
       "      <td>21</td>\n",
       "      <td>NC_000021.9</td>\n",
       "      <td>5022680</td>\n",
       "      <td>5034096</td>\n",
       "      <td>+</td>\n",
       "      <td>102723996</td>\n",
       "      <td>LOC102723996</td>\n",
       "      <td>XP_006723962.1</td>\n",
       "      <td>516</td>\n",
       "      <td>ICOS ligand isoform X1</td>\n",
       "    </tr>\n",
       "    <tr>\n",
       "      <td>XP_011544381.1</td>\n",
       "      <td>21</td>\n",
       "      <td>NC_000021.9</td>\n",
       "      <td>5022680</td>\n",
       "      <td>5034096</td>\n",
       "      <td>+</td>\n",
       "      <td>102723996</td>\n",
       "      <td>LOC102723996</td>\n",
       "      <td>XP_011544381.1</td>\n",
       "      <td>304</td>\n",
       "      <td>ICOS ligand isoform X3</td>\n",
       "    </tr>\n",
       "    <tr>\n",
       "      <td>XP_011544380.1</td>\n",
       "      <td>21</td>\n",
       "      <td>NC_000021.9</td>\n",
       "      <td>5022680</td>\n",
       "      <td>5045606</td>\n",
       "      <td>+</td>\n",
       "      <td>102723996</td>\n",
       "      <td>LOC102723996</td>\n",
       "      <td>XP_011544380.1</td>\n",
       "      <td>361</td>\n",
       "      <td>ICOS ligand isoform X2</td>\n",
       "    </tr>\n",
       "    <tr>\n",
       "      <td>NP_001350699.1</td>\n",
       "      <td>21</td>\n",
       "      <td>NC_000021.9</td>\n",
       "      <td>5022680</td>\n",
       "      <td>5034592</td>\n",
       "      <td>+</td>\n",
       "      <td>102723996</td>\n",
       "      <td>LOC102723996</td>\n",
       "      <td>NP_001350699.1</td>\n",
       "      <td>302</td>\n",
       "      <td>ICOS ligand precursor</td>\n",
       "    </tr>\n",
       "    <tr>\n",
       "      <td>NP_001350689.1</td>\n",
       "      <td>21</td>\n",
       "      <td>NC_000021.9</td>\n",
       "      <td>5117103</td>\n",
       "      <td>5128354</td>\n",
       "      <td>-</td>\n",
       "      <td>102724023</td>\n",
       "      <td>GATD3B</td>\n",
       "      <td>NP_001350689.1</td>\n",
       "      <td>237</td>\n",
       "      <td>glutamine amidotransferase-like class 1 domain...</td>\n",
       "    </tr>\n",
       "    <tr>\n",
       "      <td>...</td>\n",
       "      <td>...</td>\n",
       "      <td>...</td>\n",
       "      <td>...</td>\n",
       "      <td>...</td>\n",
       "      <td>...</td>\n",
       "      <td>...</td>\n",
       "      <td>...</td>\n",
       "      <td>...</td>\n",
       "      <td>...</td>\n",
       "      <td>...</td>\n",
       "    </tr>\n",
       "    <tr>\n",
       "      <td>NP_001273607.1</td>\n",
       "      <td>21</td>\n",
       "      <td>NC_000021.9</td>\n",
       "      <td>46636952</td>\n",
       "      <td>46664327</td>\n",
       "      <td>+</td>\n",
       "      <td>3275</td>\n",
       "      <td>PRMT2</td>\n",
       "      <td>NP_001273607.1</td>\n",
       "      <td>228</td>\n",
       "      <td>protein arginine N-methyltransferase 2 isoform 7</td>\n",
       "    </tr>\n",
       "    <tr>\n",
       "      <td>NP_001526.2</td>\n",
       "      <td>21</td>\n",
       "      <td>NC_000021.9</td>\n",
       "      <td>46636952</td>\n",
       "      <td>46664327</td>\n",
       "      <td>+</td>\n",
       "      <td>3275</td>\n",
       "      <td>PRMT2</td>\n",
       "      <td>NP_001526.2</td>\n",
       "      <td>433</td>\n",
       "      <td>protein arginine N-methyltransferase 2 isoform 1</td>\n",
       "    </tr>\n",
       "    <tr>\n",
       "      <td>XP_006724061.1</td>\n",
       "      <td>21</td>\n",
       "      <td>NC_000021.9</td>\n",
       "      <td>46636952</td>\n",
       "      <td>46664374</td>\n",
       "      <td>+</td>\n",
       "      <td>3275</td>\n",
       "      <td>PRMT2</td>\n",
       "      <td>XP_006724061.1</td>\n",
       "      <td>301</td>\n",
       "      <td>protein arginine N-methyltransferase 2 isoform X2</td>\n",
       "    </tr>\n",
       "    <tr>\n",
       "      <td>NP_001229795.1</td>\n",
       "      <td>21</td>\n",
       "      <td>NC_000021.9</td>\n",
       "      <td>46636952</td>\n",
       "      <td>46658924</td>\n",
       "      <td>+</td>\n",
       "      <td>3275</td>\n",
       "      <td>PRMT2</td>\n",
       "      <td>NP_001229795.1</td>\n",
       "      <td>277</td>\n",
       "      <td>protein arginine N-methyltransferase 2 isoform 4</td>\n",
       "    </tr>\n",
       "    <tr>\n",
       "      <td>NP_001229794.1</td>\n",
       "      <td>21</td>\n",
       "      <td>NC_000021.9</td>\n",
       "      <td>46636952</td>\n",
       "      <td>46652006</td>\n",
       "      <td>+</td>\n",
       "      <td>3275</td>\n",
       "      <td>PRMT2</td>\n",
       "      <td>NP_001229794.1</td>\n",
       "      <td>284</td>\n",
       "      <td>protein arginine N-methyltransferase 2 isoform 3</td>\n",
       "    </tr>\n",
       "  </tbody>\n",
       "</table>\n",
       "<p>1286 rows × 10 columns</p>\n",
       "</div>"
      ],
      "text/plain": [
       "                #Replicon Name Replicon Accession     Start      Stop Strand  \\\n",
       "Protein product                                                                \n",
       "XP_006723962.1              21        NC_000021.9   5022680   5034096      +   \n",
       "XP_011544381.1              21        NC_000021.9   5022680   5034096      +   \n",
       "XP_011544380.1              21        NC_000021.9   5022680   5045606      +   \n",
       "NP_001350699.1              21        NC_000021.9   5022680   5034592      +   \n",
       "NP_001350689.1              21        NC_000021.9   5117103   5128354      -   \n",
       "...                        ...                ...       ...       ...    ...   \n",
       "NP_001273607.1              21        NC_000021.9  46636952  46664327      +   \n",
       "NP_001526.2                 21        NC_000021.9  46636952  46664327      +   \n",
       "XP_006724061.1              21        NC_000021.9  46636952  46664374      +   \n",
       "NP_001229795.1              21        NC_000021.9  46636952  46658924      +   \n",
       "NP_001229794.1              21        NC_000021.9  46636952  46652006      +   \n",
       "\n",
       "                    GeneID         Locus Protein product  Length  \\\n",
       "Protein product                                                    \n",
       "XP_006723962.1   102723996  LOC102723996  XP_006723962.1     516   \n",
       "XP_011544381.1   102723996  LOC102723996  XP_011544381.1     304   \n",
       "XP_011544380.1   102723996  LOC102723996  XP_011544380.1     361   \n",
       "NP_001350699.1   102723996  LOC102723996  NP_001350699.1     302   \n",
       "NP_001350689.1   102724023        GATD3B  NP_001350689.1     237   \n",
       "...                    ...           ...             ...     ...   \n",
       "NP_001273607.1        3275         PRMT2  NP_001273607.1     228   \n",
       "NP_001526.2           3275         PRMT2     NP_001526.2     433   \n",
       "XP_006724061.1        3275         PRMT2  XP_006724061.1     301   \n",
       "NP_001229795.1        3275         PRMT2  NP_001229795.1     277   \n",
       "NP_001229794.1        3275         PRMT2  NP_001229794.1     284   \n",
       "\n",
       "                                                      Protein name  \n",
       "Protein product                                                     \n",
       "XP_006723962.1                              ICOS ligand isoform X1  \n",
       "XP_011544381.1                              ICOS ligand isoform X3  \n",
       "XP_011544380.1                              ICOS ligand isoform X2  \n",
       "NP_001350699.1                               ICOS ligand precursor  \n",
       "NP_001350689.1   glutamine amidotransferase-like class 1 domain...  \n",
       "...                                                            ...  \n",
       "NP_001273607.1    protein arginine N-methyltransferase 2 isoform 7  \n",
       "NP_001526.2       protein arginine N-methyltransferase 2 isoform 1  \n",
       "XP_006724061.1   protein arginine N-methyltransferase 2 isoform X2  \n",
       "NP_001229795.1    protein arginine N-methyltransferase 2 isoform 4  \n",
       "NP_001229794.1    protein arginine N-methyltransferase 2 isoform 3  \n",
       "\n",
       "[1286 rows x 10 columns]"
      ]
     },
     "execution_count": 159,
     "metadata": {},
     "output_type": "execute_result"
    }
   ],
   "source": [
    "# check to see if number of rows is equal to the number of proteins listed for dna data accession number\n",
    "protein_data_21 = protein_data[protein_data['Replicon Accession']=='NC_000021.9']\n",
    "protein_data_21.index=protein_data_21['Protein product']\n",
    "protein_data_21.sample(3)"
   ]
  },
  {
   "cell_type": "code",
   "execution_count": 160,
   "metadata": {},
   "outputs": [
    {
     "data": {
      "text/html": [
       "<div>\n",
       "<style scoped>\n",
       "    .dataframe tbody tr th:only-of-type {\n",
       "        vertical-align: middle;\n",
       "    }\n",
       "\n",
       "    .dataframe tbody tr th {\n",
       "        vertical-align: top;\n",
       "    }\n",
       "\n",
       "    .dataframe thead th {\n",
       "        text-align: right;\n",
       "    }\n",
       "</style>\n",
       "<table border=\"1\" class=\"dataframe\">\n",
       "  <thead>\n",
       "    <tr style=\"text-align: right;\">\n",
       "      <th></th>\n",
       "      <th>Chromosome</th>\n",
       "      <th>Accession Version</th>\n",
       "      <th>Organism</th>\n",
       "      <th>Definition</th>\n",
       "      <th>Division</th>\n",
       "      <th>Topology</th>\n",
       "      <th>Molecule Type</th>\n",
       "      <th>Molecular Weight</th>\n",
       "      <th>Number of Regions</th>\n",
       "      <th>Number of Binding Sites</th>\n",
       "      <th>Sequence</th>\n",
       "    </tr>\n",
       "    <tr>\n",
       "      <th>Accession Version</th>\n",
       "      <th></th>\n",
       "      <th></th>\n",
       "      <th></th>\n",
       "      <th></th>\n",
       "      <th></th>\n",
       "      <th></th>\n",
       "      <th></th>\n",
       "      <th></th>\n",
       "      <th></th>\n",
       "      <th></th>\n",
       "      <th></th>\n",
       "    </tr>\n",
       "  </thead>\n",
       "  <tbody>\n",
       "    <tr>\n",
       "      <td>XP_006723962.1</td>\n",
       "      <td>21</td>\n",
       "      <td>XP_006723962.1</td>\n",
       "      <td>Homo sapiens</td>\n",
       "      <td>ICOS ligand isoform X1 [Homo sapiens]</td>\n",
       "      <td>PRI</td>\n",
       "      <td>linear</td>\n",
       "      <td>AA</td>\n",
       "      <td>56181</td>\n",
       "      <td>2</td>\n",
       "      <td>0</td>\n",
       "      <td>mrlgspgllfllfsslradtqekevramvgsdvelscacpegsrfd...</td>\n",
       "    </tr>\n",
       "    <tr>\n",
       "      <td>XP_011544381.1</td>\n",
       "      <td>21</td>\n",
       "      <td>XP_011544381.1</td>\n",
       "      <td>Homo sapiens</td>\n",
       "      <td>ICOS ligand isoform X3 [Homo sapiens]</td>\n",
       "      <td>PRI</td>\n",
       "      <td>linear</td>\n",
       "      <td>AA</td>\n",
       "      <td>33350</td>\n",
       "      <td>2</td>\n",
       "      <td>0</td>\n",
       "      <td>mrlgspgllfllfsslradtqekevramvgsdvelscacpegsrfd...</td>\n",
       "    </tr>\n",
       "    <tr>\n",
       "      <td>XP_011544380.1</td>\n",
       "      <td>21</td>\n",
       "      <td>XP_011544380.1</td>\n",
       "      <td>Homo sapiens</td>\n",
       "      <td>ICOS ligand isoform X2 [Homo sapiens]</td>\n",
       "      <td>PRI</td>\n",
       "      <td>linear</td>\n",
       "      <td>AA</td>\n",
       "      <td>39507</td>\n",
       "      <td>2</td>\n",
       "      <td>0</td>\n",
       "      <td>mrlgspgllfllfsslradtqekevramvgsdvelscacpegsrfd...</td>\n",
       "    </tr>\n",
       "    <tr>\n",
       "      <td>NP_001350699.1</td>\n",
       "      <td>21</td>\n",
       "      <td>NP_001350699.1</td>\n",
       "      <td>Homo sapiens</td>\n",
       "      <td>ICOS ligand precursor [Homo sapiens]</td>\n",
       "      <td>PRI</td>\n",
       "      <td>linear</td>\n",
       "      <td>AA</td>\n",
       "      <td>31389</td>\n",
       "      <td>2</td>\n",
       "      <td>0</td>\n",
       "      <td>mrlgspgllfllfsslradtqekevramvgsdvelscacpegsrfd...</td>\n",
       "    </tr>\n",
       "    <tr>\n",
       "      <td>NP_001350689.1</td>\n",
       "      <td>21</td>\n",
       "      <td>NP_001350689.1</td>\n",
       "      <td>Homo sapiens</td>\n",
       "      <td>glutamine amidotransferase-like class 1 domain...</td>\n",
       "      <td>PRI</td>\n",
       "      <td>linear</td>\n",
       "      <td>AA</td>\n",
       "      <td>24598</td>\n",
       "      <td>1</td>\n",
       "      <td>1</td>\n",
       "      <td>maavralvasrlaaasaftslspggrtpsqraalhlsvprpaarva...</td>\n",
       "    </tr>\n",
       "    <tr>\n",
       "      <td>...</td>\n",
       "      <td>...</td>\n",
       "      <td>...</td>\n",
       "      <td>...</td>\n",
       "      <td>...</td>\n",
       "      <td>...</td>\n",
       "      <td>...</td>\n",
       "      <td>...</td>\n",
       "      <td>...</td>\n",
       "      <td>...</td>\n",
       "      <td>...</td>\n",
       "      <td>...</td>\n",
       "    </tr>\n",
       "    <tr>\n",
       "      <td>NP_001273607.1</td>\n",
       "      <td>21</td>\n",
       "      <td>NP_001273607.1</td>\n",
       "      <td>Homo sapiens</td>\n",
       "      <td>protein arginine N-methyltransferase 2 isoform...</td>\n",
       "      <td>PRI</td>\n",
       "      <td>linear</td>\n",
       "      <td>AA</td>\n",
       "      <td>25363</td>\n",
       "      <td>3</td>\n",
       "      <td>4</td>\n",
       "      <td>matsgdcprsesqgeepaecseagllqegvqpeefvaiadyaatde...</td>\n",
       "    </tr>\n",
       "    <tr>\n",
       "      <td>NP_001526.2</td>\n",
       "      <td>21</td>\n",
       "      <td>NP_001526.2</td>\n",
       "      <td>Homo sapiens</td>\n",
       "      <td>protein arginine N-methyltransferase 2 isoform...</td>\n",
       "      <td>PRI</td>\n",
       "      <td>linear</td>\n",
       "      <td>AA</td>\n",
       "      <td>48911</td>\n",
       "      <td>6</td>\n",
       "      <td>4</td>\n",
       "      <td>matsgdcprsesqgeepaecseagllqegvqpeefvaiadyaatde...</td>\n",
       "    </tr>\n",
       "    <tr>\n",
       "      <td>XP_006724061.1</td>\n",
       "      <td>21</td>\n",
       "      <td>XP_006724061.1</td>\n",
       "      <td>Homo sapiens</td>\n",
       "      <td>protein arginine N-methyltransferase 2 isoform...</td>\n",
       "      <td>PRI</td>\n",
       "      <td>linear</td>\n",
       "      <td>AA</td>\n",
       "      <td>33412</td>\n",
       "      <td>2</td>\n",
       "      <td>2</td>\n",
       "      <td>matsgdcprsesqgeepaecseagllqegvqpeefvaiadyaatde...</td>\n",
       "    </tr>\n",
       "    <tr>\n",
       "      <td>NP_001229795.1</td>\n",
       "      <td>21</td>\n",
       "      <td>NP_001229795.1</td>\n",
       "      <td>Homo sapiens</td>\n",
       "      <td>protein arginine N-methyltransferase 2 isoform...</td>\n",
       "      <td>PRI</td>\n",
       "      <td>linear</td>\n",
       "      <td>AA</td>\n",
       "      <td>31062</td>\n",
       "      <td>5</td>\n",
       "      <td>4</td>\n",
       "      <td>matsgdcprsesqgeepaecseagllqegvqpeefvaiadyaatde...</td>\n",
       "    </tr>\n",
       "    <tr>\n",
       "      <td>NP_001229794.1</td>\n",
       "      <td>21</td>\n",
       "      <td>NP_001229794.1</td>\n",
       "      <td>Homo sapiens</td>\n",
       "      <td>protein arginine N-methyltransferase 2 isoform...</td>\n",
       "      <td>PRI</td>\n",
       "      <td>linear</td>\n",
       "      <td>AA</td>\n",
       "      <td>31031</td>\n",
       "      <td>3</td>\n",
       "      <td>4</td>\n",
       "      <td>matsgdcprsesqgeepaecseagllqegvqpeefvaiadyaatde...</td>\n",
       "    </tr>\n",
       "  </tbody>\n",
       "</table>\n",
       "<p>1286 rows × 11 columns</p>\n",
       "</div>"
      ],
      "text/plain": [
       "                  Chromosome Accession Version      Organism  \\\n",
       "Accession Version                                              \n",
       "XP_006723962.1            21    XP_006723962.1  Homo sapiens   \n",
       "XP_011544381.1            21    XP_011544381.1  Homo sapiens   \n",
       "XP_011544380.1            21    XP_011544380.1  Homo sapiens   \n",
       "NP_001350699.1            21    NP_001350699.1  Homo sapiens   \n",
       "NP_001350689.1            21    NP_001350689.1  Homo sapiens   \n",
       "...                      ...               ...           ...   \n",
       "NP_001273607.1            21    NP_001273607.1  Homo sapiens   \n",
       "NP_001526.2               21       NP_001526.2  Homo sapiens   \n",
       "XP_006724061.1            21    XP_006724061.1  Homo sapiens   \n",
       "NP_001229795.1            21    NP_001229795.1  Homo sapiens   \n",
       "NP_001229794.1            21    NP_001229794.1  Homo sapiens   \n",
       "\n",
       "                                                          Definition Division  \\\n",
       "Accession Version                                                               \n",
       "XP_006723962.1                 ICOS ligand isoform X1 [Homo sapiens]      PRI   \n",
       "XP_011544381.1                 ICOS ligand isoform X3 [Homo sapiens]      PRI   \n",
       "XP_011544380.1                 ICOS ligand isoform X2 [Homo sapiens]      PRI   \n",
       "NP_001350699.1                  ICOS ligand precursor [Homo sapiens]      PRI   \n",
       "NP_001350689.1     glutamine amidotransferase-like class 1 domain...      PRI   \n",
       "...                                                              ...      ...   \n",
       "NP_001273607.1     protein arginine N-methyltransferase 2 isoform...      PRI   \n",
       "NP_001526.2        protein arginine N-methyltransferase 2 isoform...      PRI   \n",
       "XP_006724061.1     protein arginine N-methyltransferase 2 isoform...      PRI   \n",
       "NP_001229795.1     protein arginine N-methyltransferase 2 isoform...      PRI   \n",
       "NP_001229794.1     protein arginine N-methyltransferase 2 isoform...      PRI   \n",
       "\n",
       "                  Topology Molecule Type Molecular Weight  Number of Regions  \\\n",
       "Accession Version                                                              \n",
       "XP_006723962.1      linear            AA            56181                  2   \n",
       "XP_011544381.1      linear            AA            33350                  2   \n",
       "XP_011544380.1      linear            AA            39507                  2   \n",
       "NP_001350699.1      linear            AA            31389                  2   \n",
       "NP_001350689.1      linear            AA            24598                  1   \n",
       "...                    ...           ...              ...                ...   \n",
       "NP_001273607.1      linear            AA            25363                  3   \n",
       "NP_001526.2         linear            AA            48911                  6   \n",
       "XP_006724061.1      linear            AA            33412                  2   \n",
       "NP_001229795.1      linear            AA            31062                  5   \n",
       "NP_001229794.1      linear            AA            31031                  3   \n",
       "\n",
       "                   Number of Binding Sites  \\\n",
       "Accession Version                            \n",
       "XP_006723962.1                           0   \n",
       "XP_011544381.1                           0   \n",
       "XP_011544380.1                           0   \n",
       "NP_001350699.1                           0   \n",
       "NP_001350689.1                           1   \n",
       "...                                    ...   \n",
       "NP_001273607.1                           4   \n",
       "NP_001526.2                              4   \n",
       "XP_006724061.1                           2   \n",
       "NP_001229795.1                           4   \n",
       "NP_001229794.1                           4   \n",
       "\n",
       "                                                            Sequence  \n",
       "Accession Version                                                     \n",
       "XP_006723962.1     mrlgspgllfllfsslradtqekevramvgsdvelscacpegsrfd...  \n",
       "XP_011544381.1     mrlgspgllfllfsslradtqekevramvgsdvelscacpegsrfd...  \n",
       "XP_011544380.1     mrlgspgllfllfsslradtqekevramvgsdvelscacpegsrfd...  \n",
       "NP_001350699.1     mrlgspgllfllfsslradtqekevramvgsdvelscacpegsrfd...  \n",
       "NP_001350689.1     maavralvasrlaaasaftslspggrtpsqraalhlsvprpaarva...  \n",
       "...                                                              ...  \n",
       "NP_001273607.1     matsgdcprsesqgeepaecseagllqegvqpeefvaiadyaatde...  \n",
       "NP_001526.2        matsgdcprsesqgeepaecseagllqegvqpeefvaiadyaatde...  \n",
       "XP_006724061.1     matsgdcprsesqgeepaecseagllqegvqpeefvaiadyaatde...  \n",
       "NP_001229795.1     matsgdcprsesqgeepaecseagllqegvqpeefvaiadyaatde...  \n",
       "NP_001229794.1     matsgdcprsesqgeepaecseagllqegvqpeefvaiadyaatde...  \n",
       "\n",
       "[1286 rows x 11 columns]"
      ]
     },
     "execution_count": 160,
     "metadata": {},
     "output_type": "execute_result"
    }
   ],
   "source": [
    "protein_additional_data_21 = protein_additional_data\n",
    "protein_additional_data_21.index = protein_additional_data_21['Accession Version']\n",
    "protein_additional_data_21.sample(3)"
   ]
  },
  {
   "cell_type": "code",
   "execution_count": 161,
   "metadata": {},
   "outputs": [
    {
     "data": {
      "text/html": [
       "<div>\n",
       "<style scoped>\n",
       "    .dataframe tbody tr th:only-of-type {\n",
       "        vertical-align: middle;\n",
       "    }\n",
       "\n",
       "    .dataframe tbody tr th {\n",
       "        vertical-align: top;\n",
       "    }\n",
       "\n",
       "    .dataframe thead th {\n",
       "        text-align: right;\n",
       "    }\n",
       "</style>\n",
       "<table border=\"1\" class=\"dataframe\">\n",
       "  <thead>\n",
       "    <tr style=\"text-align: right;\">\n",
       "      <th></th>\n",
       "      <th>#Replicon Name</th>\n",
       "      <th>Replicon Accession</th>\n",
       "      <th>Start</th>\n",
       "      <th>Stop</th>\n",
       "      <th>Strand</th>\n",
       "      <th>GeneID</th>\n",
       "      <th>Locus</th>\n",
       "      <th>Protein product</th>\n",
       "      <th>Length</th>\n",
       "      <th>Protein name</th>\n",
       "      <th>...</th>\n",
       "      <th>Accession Version</th>\n",
       "      <th>Organism</th>\n",
       "      <th>Definition</th>\n",
       "      <th>Division</th>\n",
       "      <th>Topology</th>\n",
       "      <th>Molecule Type</th>\n",
       "      <th>Molecular Weight</th>\n",
       "      <th>Number of Regions</th>\n",
       "      <th>Number of Binding Sites</th>\n",
       "      <th>Sequence</th>\n",
       "    </tr>\n",
       "    <tr>\n",
       "      <th>Protein product</th>\n",
       "      <th></th>\n",
       "      <th></th>\n",
       "      <th></th>\n",
       "      <th></th>\n",
       "      <th></th>\n",
       "      <th></th>\n",
       "      <th></th>\n",
       "      <th></th>\n",
       "      <th></th>\n",
       "      <th></th>\n",
       "      <th></th>\n",
       "      <th></th>\n",
       "      <th></th>\n",
       "      <th></th>\n",
       "      <th></th>\n",
       "      <th></th>\n",
       "      <th></th>\n",
       "      <th></th>\n",
       "      <th></th>\n",
       "      <th></th>\n",
       "      <th></th>\n",
       "    </tr>\n",
       "  </thead>\n",
       "  <tbody>\n",
       "    <tr>\n",
       "      <td>XP_006723962.1</td>\n",
       "      <td>21</td>\n",
       "      <td>NC_000021.9</td>\n",
       "      <td>5022680</td>\n",
       "      <td>5034096</td>\n",
       "      <td>+</td>\n",
       "      <td>102723996</td>\n",
       "      <td>LOC102723996</td>\n",
       "      <td>XP_006723962.1</td>\n",
       "      <td>516</td>\n",
       "      <td>ICOS ligand isoform X1</td>\n",
       "      <td>...</td>\n",
       "      <td>XP_006723962.1</td>\n",
       "      <td>Homo sapiens</td>\n",
       "      <td>ICOS ligand isoform X1 [Homo sapiens]</td>\n",
       "      <td>PRI</td>\n",
       "      <td>linear</td>\n",
       "      <td>AA</td>\n",
       "      <td>56181</td>\n",
       "      <td>2</td>\n",
       "      <td>0</td>\n",
       "      <td>mrlgspgllfllfsslradtqekevramvgsdvelscacpegsrfd...</td>\n",
       "    </tr>\n",
       "    <tr>\n",
       "      <td>XP_011544381.1</td>\n",
       "      <td>21</td>\n",
       "      <td>NC_000021.9</td>\n",
       "      <td>5022680</td>\n",
       "      <td>5034096</td>\n",
       "      <td>+</td>\n",
       "      <td>102723996</td>\n",
       "      <td>LOC102723996</td>\n",
       "      <td>XP_011544381.1</td>\n",
       "      <td>304</td>\n",
       "      <td>ICOS ligand isoform X3</td>\n",
       "      <td>...</td>\n",
       "      <td>XP_011544381.1</td>\n",
       "      <td>Homo sapiens</td>\n",
       "      <td>ICOS ligand isoform X3 [Homo sapiens]</td>\n",
       "      <td>PRI</td>\n",
       "      <td>linear</td>\n",
       "      <td>AA</td>\n",
       "      <td>33350</td>\n",
       "      <td>2</td>\n",
       "      <td>0</td>\n",
       "      <td>mrlgspgllfllfsslradtqekevramvgsdvelscacpegsrfd...</td>\n",
       "    </tr>\n",
       "    <tr>\n",
       "      <td>XP_011544380.1</td>\n",
       "      <td>21</td>\n",
       "      <td>NC_000021.9</td>\n",
       "      <td>5022680</td>\n",
       "      <td>5045606</td>\n",
       "      <td>+</td>\n",
       "      <td>102723996</td>\n",
       "      <td>LOC102723996</td>\n",
       "      <td>XP_011544380.1</td>\n",
       "      <td>361</td>\n",
       "      <td>ICOS ligand isoform X2</td>\n",
       "      <td>...</td>\n",
       "      <td>XP_011544380.1</td>\n",
       "      <td>Homo sapiens</td>\n",
       "      <td>ICOS ligand isoform X2 [Homo sapiens]</td>\n",
       "      <td>PRI</td>\n",
       "      <td>linear</td>\n",
       "      <td>AA</td>\n",
       "      <td>39507</td>\n",
       "      <td>2</td>\n",
       "      <td>0</td>\n",
       "      <td>mrlgspgllfllfsslradtqekevramvgsdvelscacpegsrfd...</td>\n",
       "    </tr>\n",
       "    <tr>\n",
       "      <td>NP_001350699.1</td>\n",
       "      <td>21</td>\n",
       "      <td>NC_000021.9</td>\n",
       "      <td>5022680</td>\n",
       "      <td>5034592</td>\n",
       "      <td>+</td>\n",
       "      <td>102723996</td>\n",
       "      <td>LOC102723996</td>\n",
       "      <td>NP_001350699.1</td>\n",
       "      <td>302</td>\n",
       "      <td>ICOS ligand precursor</td>\n",
       "      <td>...</td>\n",
       "      <td>NP_001350699.1</td>\n",
       "      <td>Homo sapiens</td>\n",
       "      <td>ICOS ligand precursor [Homo sapiens]</td>\n",
       "      <td>PRI</td>\n",
       "      <td>linear</td>\n",
       "      <td>AA</td>\n",
       "      <td>31389</td>\n",
       "      <td>2</td>\n",
       "      <td>0</td>\n",
       "      <td>mrlgspgllfllfsslradtqekevramvgsdvelscacpegsrfd...</td>\n",
       "    </tr>\n",
       "    <tr>\n",
       "      <td>NP_001350689.1</td>\n",
       "      <td>21</td>\n",
       "      <td>NC_000021.9</td>\n",
       "      <td>5117103</td>\n",
       "      <td>5128354</td>\n",
       "      <td>-</td>\n",
       "      <td>102724023</td>\n",
       "      <td>GATD3B</td>\n",
       "      <td>NP_001350689.1</td>\n",
       "      <td>237</td>\n",
       "      <td>glutamine amidotransferase-like class 1 domain...</td>\n",
       "      <td>...</td>\n",
       "      <td>NP_001350689.1</td>\n",
       "      <td>Homo sapiens</td>\n",
       "      <td>glutamine amidotransferase-like class 1 domain...</td>\n",
       "      <td>PRI</td>\n",
       "      <td>linear</td>\n",
       "      <td>AA</td>\n",
       "      <td>24598</td>\n",
       "      <td>1</td>\n",
       "      <td>1</td>\n",
       "      <td>maavralvasrlaaasaftslspggrtpsqraalhlsvprpaarva...</td>\n",
       "    </tr>\n",
       "    <tr>\n",
       "      <td>...</td>\n",
       "      <td>...</td>\n",
       "      <td>...</td>\n",
       "      <td>...</td>\n",
       "      <td>...</td>\n",
       "      <td>...</td>\n",
       "      <td>...</td>\n",
       "      <td>...</td>\n",
       "      <td>...</td>\n",
       "      <td>...</td>\n",
       "      <td>...</td>\n",
       "      <td>...</td>\n",
       "      <td>...</td>\n",
       "      <td>...</td>\n",
       "      <td>...</td>\n",
       "      <td>...</td>\n",
       "      <td>...</td>\n",
       "      <td>...</td>\n",
       "      <td>...</td>\n",
       "      <td>...</td>\n",
       "      <td>...</td>\n",
       "      <td>...</td>\n",
       "    </tr>\n",
       "    <tr>\n",
       "      <td>NP_001273607.1</td>\n",
       "      <td>21</td>\n",
       "      <td>NC_000021.9</td>\n",
       "      <td>46636952</td>\n",
       "      <td>46664327</td>\n",
       "      <td>+</td>\n",
       "      <td>3275</td>\n",
       "      <td>PRMT2</td>\n",
       "      <td>NP_001273607.1</td>\n",
       "      <td>228</td>\n",
       "      <td>protein arginine N-methyltransferase 2 isoform 7</td>\n",
       "      <td>...</td>\n",
       "      <td>NP_001273607.1</td>\n",
       "      <td>Homo sapiens</td>\n",
       "      <td>protein arginine N-methyltransferase 2 isoform...</td>\n",
       "      <td>PRI</td>\n",
       "      <td>linear</td>\n",
       "      <td>AA</td>\n",
       "      <td>25363</td>\n",
       "      <td>3</td>\n",
       "      <td>4</td>\n",
       "      <td>matsgdcprsesqgeepaecseagllqegvqpeefvaiadyaatde...</td>\n",
       "    </tr>\n",
       "    <tr>\n",
       "      <td>NP_001526.2</td>\n",
       "      <td>21</td>\n",
       "      <td>NC_000021.9</td>\n",
       "      <td>46636952</td>\n",
       "      <td>46664327</td>\n",
       "      <td>+</td>\n",
       "      <td>3275</td>\n",
       "      <td>PRMT2</td>\n",
       "      <td>NP_001526.2</td>\n",
       "      <td>433</td>\n",
       "      <td>protein arginine N-methyltransferase 2 isoform 1</td>\n",
       "      <td>...</td>\n",
       "      <td>NP_001526.2</td>\n",
       "      <td>Homo sapiens</td>\n",
       "      <td>protein arginine N-methyltransferase 2 isoform...</td>\n",
       "      <td>PRI</td>\n",
       "      <td>linear</td>\n",
       "      <td>AA</td>\n",
       "      <td>48911</td>\n",
       "      <td>6</td>\n",
       "      <td>4</td>\n",
       "      <td>matsgdcprsesqgeepaecseagllqegvqpeefvaiadyaatde...</td>\n",
       "    </tr>\n",
       "    <tr>\n",
       "      <td>XP_006724061.1</td>\n",
       "      <td>21</td>\n",
       "      <td>NC_000021.9</td>\n",
       "      <td>46636952</td>\n",
       "      <td>46664374</td>\n",
       "      <td>+</td>\n",
       "      <td>3275</td>\n",
       "      <td>PRMT2</td>\n",
       "      <td>XP_006724061.1</td>\n",
       "      <td>301</td>\n",
       "      <td>protein arginine N-methyltransferase 2 isoform X2</td>\n",
       "      <td>...</td>\n",
       "      <td>XP_006724061.1</td>\n",
       "      <td>Homo sapiens</td>\n",
       "      <td>protein arginine N-methyltransferase 2 isoform...</td>\n",
       "      <td>PRI</td>\n",
       "      <td>linear</td>\n",
       "      <td>AA</td>\n",
       "      <td>33412</td>\n",
       "      <td>2</td>\n",
       "      <td>2</td>\n",
       "      <td>matsgdcprsesqgeepaecseagllqegvqpeefvaiadyaatde...</td>\n",
       "    </tr>\n",
       "    <tr>\n",
       "      <td>NP_001229795.1</td>\n",
       "      <td>21</td>\n",
       "      <td>NC_000021.9</td>\n",
       "      <td>46636952</td>\n",
       "      <td>46658924</td>\n",
       "      <td>+</td>\n",
       "      <td>3275</td>\n",
       "      <td>PRMT2</td>\n",
       "      <td>NP_001229795.1</td>\n",
       "      <td>277</td>\n",
       "      <td>protein arginine N-methyltransferase 2 isoform 4</td>\n",
       "      <td>...</td>\n",
       "      <td>NP_001229795.1</td>\n",
       "      <td>Homo sapiens</td>\n",
       "      <td>protein arginine N-methyltransferase 2 isoform...</td>\n",
       "      <td>PRI</td>\n",
       "      <td>linear</td>\n",
       "      <td>AA</td>\n",
       "      <td>31062</td>\n",
       "      <td>5</td>\n",
       "      <td>4</td>\n",
       "      <td>matsgdcprsesqgeepaecseagllqegvqpeefvaiadyaatde...</td>\n",
       "    </tr>\n",
       "    <tr>\n",
       "      <td>NP_001229794.1</td>\n",
       "      <td>21</td>\n",
       "      <td>NC_000021.9</td>\n",
       "      <td>46636952</td>\n",
       "      <td>46652006</td>\n",
       "      <td>+</td>\n",
       "      <td>3275</td>\n",
       "      <td>PRMT2</td>\n",
       "      <td>NP_001229794.1</td>\n",
       "      <td>284</td>\n",
       "      <td>protein arginine N-methyltransferase 2 isoform 3</td>\n",
       "      <td>...</td>\n",
       "      <td>NP_001229794.1</td>\n",
       "      <td>Homo sapiens</td>\n",
       "      <td>protein arginine N-methyltransferase 2 isoform...</td>\n",
       "      <td>PRI</td>\n",
       "      <td>linear</td>\n",
       "      <td>AA</td>\n",
       "      <td>31031</td>\n",
       "      <td>3</td>\n",
       "      <td>4</td>\n",
       "      <td>matsgdcprsesqgeepaecseagllqegvqpeefvaiadyaatde...</td>\n",
       "    </tr>\n",
       "  </tbody>\n",
       "</table>\n",
       "<p>1286 rows × 21 columns</p>\n",
       "</div>"
      ],
      "text/plain": [
       "                #Replicon Name Replicon Accession     Start      Stop Strand  \\\n",
       "Protein product                                                                \n",
       "XP_006723962.1              21        NC_000021.9   5022680   5034096      +   \n",
       "XP_011544381.1              21        NC_000021.9   5022680   5034096      +   \n",
       "XP_011544380.1              21        NC_000021.9   5022680   5045606      +   \n",
       "NP_001350699.1              21        NC_000021.9   5022680   5034592      +   \n",
       "NP_001350689.1              21        NC_000021.9   5117103   5128354      -   \n",
       "...                        ...                ...       ...       ...    ...   \n",
       "NP_001273607.1              21        NC_000021.9  46636952  46664327      +   \n",
       "NP_001526.2                 21        NC_000021.9  46636952  46664327      +   \n",
       "XP_006724061.1              21        NC_000021.9  46636952  46664374      +   \n",
       "NP_001229795.1              21        NC_000021.9  46636952  46658924      +   \n",
       "NP_001229794.1              21        NC_000021.9  46636952  46652006      +   \n",
       "\n",
       "                    GeneID         Locus Protein product  Length  \\\n",
       "Protein product                                                    \n",
       "XP_006723962.1   102723996  LOC102723996  XP_006723962.1     516   \n",
       "XP_011544381.1   102723996  LOC102723996  XP_011544381.1     304   \n",
       "XP_011544380.1   102723996  LOC102723996  XP_011544380.1     361   \n",
       "NP_001350699.1   102723996  LOC102723996  NP_001350699.1     302   \n",
       "NP_001350689.1   102724023        GATD3B  NP_001350689.1     237   \n",
       "...                    ...           ...             ...     ...   \n",
       "NP_001273607.1        3275         PRMT2  NP_001273607.1     228   \n",
       "NP_001526.2           3275         PRMT2     NP_001526.2     433   \n",
       "XP_006724061.1        3275         PRMT2  XP_006724061.1     301   \n",
       "NP_001229795.1        3275         PRMT2  NP_001229795.1     277   \n",
       "NP_001229794.1        3275         PRMT2  NP_001229794.1     284   \n",
       "\n",
       "                                                      Protein name  ...  \\\n",
       "Protein product                                                     ...   \n",
       "XP_006723962.1                              ICOS ligand isoform X1  ...   \n",
       "XP_011544381.1                              ICOS ligand isoform X3  ...   \n",
       "XP_011544380.1                              ICOS ligand isoform X2  ...   \n",
       "NP_001350699.1                               ICOS ligand precursor  ...   \n",
       "NP_001350689.1   glutamine amidotransferase-like class 1 domain...  ...   \n",
       "...                                                            ...  ...   \n",
       "NP_001273607.1    protein arginine N-methyltransferase 2 isoform 7  ...   \n",
       "NP_001526.2       protein arginine N-methyltransferase 2 isoform 1  ...   \n",
       "XP_006724061.1   protein arginine N-methyltransferase 2 isoform X2  ...   \n",
       "NP_001229795.1    protein arginine N-methyltransferase 2 isoform 4  ...   \n",
       "NP_001229794.1    protein arginine N-methyltransferase 2 isoform 3  ...   \n",
       "\n",
       "                Accession Version      Organism  \\\n",
       "Protein product                                   \n",
       "XP_006723962.1     XP_006723962.1  Homo sapiens   \n",
       "XP_011544381.1     XP_011544381.1  Homo sapiens   \n",
       "XP_011544380.1     XP_011544380.1  Homo sapiens   \n",
       "NP_001350699.1     NP_001350699.1  Homo sapiens   \n",
       "NP_001350689.1     NP_001350689.1  Homo sapiens   \n",
       "...                           ...           ...   \n",
       "NP_001273607.1     NP_001273607.1  Homo sapiens   \n",
       "NP_001526.2           NP_001526.2  Homo sapiens   \n",
       "XP_006724061.1     XP_006724061.1  Homo sapiens   \n",
       "NP_001229795.1     NP_001229795.1  Homo sapiens   \n",
       "NP_001229794.1     NP_001229794.1  Homo sapiens   \n",
       "\n",
       "                                                        Definition Division  \\\n",
       "Protein product                                                               \n",
       "XP_006723962.1               ICOS ligand isoform X1 [Homo sapiens]      PRI   \n",
       "XP_011544381.1               ICOS ligand isoform X3 [Homo sapiens]      PRI   \n",
       "XP_011544380.1               ICOS ligand isoform X2 [Homo sapiens]      PRI   \n",
       "NP_001350699.1                ICOS ligand precursor [Homo sapiens]      PRI   \n",
       "NP_001350689.1   glutamine amidotransferase-like class 1 domain...      PRI   \n",
       "...                                                            ...      ...   \n",
       "NP_001273607.1   protein arginine N-methyltransferase 2 isoform...      PRI   \n",
       "NP_001526.2      protein arginine N-methyltransferase 2 isoform...      PRI   \n",
       "XP_006724061.1   protein arginine N-methyltransferase 2 isoform...      PRI   \n",
       "NP_001229795.1   protein arginine N-methyltransferase 2 isoform...      PRI   \n",
       "NP_001229794.1   protein arginine N-methyltransferase 2 isoform...      PRI   \n",
       "\n",
       "                Topology Molecule Type Molecular Weight Number of Regions  \\\n",
       "Protein product                                                             \n",
       "XP_006723962.1    linear            AA            56181                 2   \n",
       "XP_011544381.1    linear            AA            33350                 2   \n",
       "XP_011544380.1    linear            AA            39507                 2   \n",
       "NP_001350699.1    linear            AA            31389                 2   \n",
       "NP_001350689.1    linear            AA            24598                 1   \n",
       "...                  ...           ...              ...               ...   \n",
       "NP_001273607.1    linear            AA            25363                 3   \n",
       "NP_001526.2       linear            AA            48911                 6   \n",
       "XP_006724061.1    linear            AA            33412                 2   \n",
       "NP_001229795.1    linear            AA            31062                 5   \n",
       "NP_001229794.1    linear            AA            31031                 3   \n",
       "\n",
       "                 Number of Binding Sites  \\\n",
       "Protein product                            \n",
       "XP_006723962.1                         0   \n",
       "XP_011544381.1                         0   \n",
       "XP_011544380.1                         0   \n",
       "NP_001350699.1                         0   \n",
       "NP_001350689.1                         1   \n",
       "...                                  ...   \n",
       "NP_001273607.1                         4   \n",
       "NP_001526.2                            4   \n",
       "XP_006724061.1                         2   \n",
       "NP_001229795.1                         4   \n",
       "NP_001229794.1                         4   \n",
       "\n",
       "                                                          Sequence  \n",
       "Protein product                                                     \n",
       "XP_006723962.1   mrlgspgllfllfsslradtqekevramvgsdvelscacpegsrfd...  \n",
       "XP_011544381.1   mrlgspgllfllfsslradtqekevramvgsdvelscacpegsrfd...  \n",
       "XP_011544380.1   mrlgspgllfllfsslradtqekevramvgsdvelscacpegsrfd...  \n",
       "NP_001350699.1   mrlgspgllfllfsslradtqekevramvgsdvelscacpegsrfd...  \n",
       "NP_001350689.1   maavralvasrlaaasaftslspggrtpsqraalhlsvprpaarva...  \n",
       "...                                                            ...  \n",
       "NP_001273607.1   matsgdcprsesqgeepaecseagllqegvqpeefvaiadyaatde...  \n",
       "NP_001526.2      matsgdcprsesqgeepaecseagllqegvqpeefvaiadyaatde...  \n",
       "XP_006724061.1   matsgdcprsesqgeepaecseagllqegvqpeefvaiadyaatde...  \n",
       "NP_001229795.1   matsgdcprsesqgeepaecseagllqegvqpeefvaiadyaatde...  \n",
       "NP_001229794.1   matsgdcprsesqgeepaecseagllqegvqpeefvaiadyaatde...  \n",
       "\n",
       "[1286 rows x 21 columns]"
      ]
     },
     "execution_count": 161,
     "metadata": {},
     "output_type": "execute_result"
    }
   ],
   "source": [
    "all_protein_data_21 = protein_data_21.join(protein_additional_data_21)\n",
    "all_protein_data_21.sample(10)"
   ]
  },
  {
   "cell_type": "markdown",
   "metadata": {},
   "source": [
    "# Store Data for Later Use"
   ]
  },
  {
   "cell_type": "code",
   "execution_count": 166,
   "metadata": {},
   "outputs": [],
   "source": [
    "import pickle\n",
    "all_protein_data_21.to_csv('../data/raw/all_protein_data_21.csv')"
   ]
  },
  {
   "cell_type": "markdown",
   "metadata": {},
   "source": [
    "# References"
   ]
  },
  {
   "cell_type": "markdown",
   "metadata": {},
   "source": [
    "Use of entrez package for online searches using api\n",
    "- http://biopython.org/DIST/docs/tutorial/Tutorial.pdf "
   ]
  },
  {
   "cell_type": "markdown",
   "metadata": {},
   "source": [
    "# Future Work"
   ]
  },
  {
   "cell_type": "markdown",
   "metadata": {},
   "source": [
    "- Find a way to pull down references while contacting the database"
   ]
  },
  {
   "cell_type": "code",
   "execution_count": null,
   "metadata": {},
   "outputs": [],
   "source": []
  }
 ],
 "metadata": {
  "kernelspec": {
   "display_name": "learn-env",
   "language": "python",
   "name": "learn-env"
  },
  "language_info": {
   "codemirror_mode": {
    "name": "ipython",
    "version": 3
   },
   "file_extension": ".py",
   "mimetype": "text/x-python",
   "name": "python",
   "nbconvert_exporter": "python",
   "pygments_lexer": "ipython3",
   "version": "3.6.9"
  },
  "toc": {
   "base_numbering": 1,
   "nav_menu": {},
   "number_sections": true,
   "sideBar": true,
   "skip_h1_title": false,
   "title_cell": "Table of Contents",
   "title_sidebar": "Contents",
   "toc_cell": false,
   "toc_position": {},
   "toc_section_display": true,
   "toc_window_display": false
  }
 },
 "nbformat": 4,
 "nbformat_minor": 2
}
