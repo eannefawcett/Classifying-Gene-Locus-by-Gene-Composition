{
 "cells": [
  {
   "cell_type": "markdown",
   "metadata": {},
   "source": [
    "## Final Project Submission\n",
    "\n",
    "Please fill out:\n",
    "* Student name: Elizabeth Fawcett\n",
    "* Student pace: part time\n",
    "* Scheduled project review date/time: April 14, 2020 9.30am CST\n",
    "* Instructor name: Matt Sparr (instructor), Jeff Herman (project review)\n",
    "* Blog post URL: https://eannefawcett.github.io/2020/03/20/Working-with-NCBI-Databases/\n"
   ]
  },
  {
   "cell_type": "code",
   "execution_count": null,
   "metadata": {},
   "outputs": [],
   "source": [
    "# Your code here - remember to use markdown cells for comments as well!"
   ]
  }
 ],
 "metadata": {
  "kernelspec": {
   "display_name": "Python 3",
   "language": "python",
   "name": "python3"
  },
  "language_info": {
   "codemirror_mode": {
    "name": "ipython",
    "version": 3
   },
   "file_extension": ".py",
   "mimetype": "text/x-python",
   "name": "python",
   "nbconvert_exporter": "python",
   "pygments_lexer": "ipython3",
   "version": "3.6.9"
  }
 },
 "nbformat": 4,
 "nbformat_minor": 2
}
